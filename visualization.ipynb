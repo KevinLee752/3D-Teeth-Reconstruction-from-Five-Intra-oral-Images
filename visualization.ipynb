{
 "cells": [
  {
   "cell_type": "code",
   "execution_count": 1,
   "id": "2cca14c8",
   "metadata": {},
   "outputs": [
    {
     "name": "stdout",
     "output_type": "stream",
     "text": [
      "Jupyter environment detected. Enabling Open3D WebVisualizer.\n",
      "[Open3D INFO] WebRTC GUI backend enabled.\n",
      "[Open3D INFO] WebRTCWindowSystem: HTTP handshake server disabled.\n"
     ]
    }
   ],
   "source": [
    "import open3d as o3d\n",
    "import glob\n",
    "import os\n",
    "import numpy as np\n",
    "from utils import showPointCloud,surfaceVertices2WatertightO3dMesh,exportTriMeshObj\n",
    "import copy\n",
    "import h5py\n",
    "import os"
   ]
  },
  {
   "cell_type": "markdown",
   "id": "49cf525a-613d-4f75-afc5-a4f35d75350d",
   "metadata": {},
   "source": [
    "# Visualization occlusion of the upper and lower teeth"
   ]
  },
  {
   "cell_type": "code",
   "execution_count": 18,
   "id": "047aa4d4-2924-4b6b-bf0d-b787812dda70",
   "metadata": {},
   "outputs": [],
   "source": [
    "tagID = 66\n",
    "DEMO_H5_DIR = r\"./dataWithPhoto/demo/Grad-99%conf-v21-PC=10/\"\n",
    "MESH_DIR = r\"./dataWithPhoto/demoMesh/Grad-99%conf-v21-PC=10/\"\n",
    "demoH5File2Load = os.path.join(DEMO_H5_DIR, \"demo_TagID={}.h5\".format(tagID))\n",
    "with h5py.File(demoH5File2Load, 'r') as f:\n",
    "    grp = f[str(tagID)]\n",
    "    rela_R = grp[\"RELA_R\"][:]\n",
    "    rela_t = grp[\"RELA_T\"][:]\n",
    "upperTeethObj = os.path.join(MESH_DIR, str(tagID), r\"Pred_Upper_Mesh_TagID={}.obj\".format(tagID))\n",
    "lowerTeethObj = os.path.join(MESH_DIR, str(tagID), r\"Pred_Lower_Mesh_TagID={}.obj\".format(tagID))\n",
    "# upperTeethObj = os.path.join(r\"./data/\", \"meanUpperToothRowMesh.obj\")\n",
    "# lowerTeethObj = os.path.join(r\"./data/\", \"meanLowerToothRowMesh.obj\")"
   ]
  },
  {
   "cell_type": "code",
   "execution_count": 19,
   "id": "4fd59aec-b283-403b-914b-f829087027c7",
   "metadata": {},
   "outputs": [
    {
     "data": {
      "text/plain": [
       "TriangleMesh with 40150 points and 80244 triangles."
      ]
     },
     "execution_count": 19,
     "metadata": {},
     "output_type": "execute_result"
    }
   ],
   "source": [
    "upperTeethO3dMsh = o3d.io.read_triangle_mesh(upperTeethObj)\n",
    "# upperTeethO3dMsh.paint_uniform_color([1., 0.8, 0.6])\n",
    "upperTeethO3dMsh.paint_uniform_color([0.8, 0.8, 0.8])\n",
    "upperTeethO3dMsh.compute_vertex_normals()\n",
    "\n",
    "lowerTeethO3dMsh = o3d.io.read_triangle_mesh(lowerTeethObj)\n",
    "# lowerTeethO3dMsh.paint_uniform_color([1., 0.8, 0.6])\n",
    "lowerTeethO3dMsh.paint_uniform_color([0.8, 0.8, 0.8])\n",
    "lowerTeethO3dMsh.compute_vertex_normals()"
   ]
  },
  {
   "cell_type": "code",
   "execution_count": 20,
   "id": "86bbb6ed-2c6a-4022-b40d-a0a580cf0fa6",
   "metadata": {},
   "outputs": [],
   "source": [
    "lowerTeethO3dMsh.rotate(rela_R.T, center=(0,0,0))\n",
    "lowerTeethO3dMsh.translate(rela_t)\n",
    "teethMesh = upperTeethO3dMsh + lowerTeethO3dMsh # merge meshes"
   ]
  },
  {
   "cell_type": "code",
   "execution_count": 21,
   "id": "babc916f-0b27-485c-ab24-c5dfaca7f1cf",
   "metadata": {},
   "outputs": [],
   "source": [
    "o3d.visualization.draw_geometries([teethMesh], width=800, height=600, left=50,top=50, point_show_normal=False)"
   ]
  },
  {
   "cell_type": "markdown",
   "id": "593a370b-a7db-43c8-ab79-b166203ea841",
   "metadata": {},
   "source": [
    "# Visualization of tooth shape"
   ]
  },
  {
   "cell_type": "code",
   "execution_count": 2,
   "id": "a593ef13",
   "metadata": {},
   "outputs": [],
   "source": [
    "def visualizeObjFile(objFile):\n",
    "    __mesh = o3d.io.read_triangle_mesh(objFile)\n",
    "    __mesh.paint_uniform_color(np.array([0.7, 0.7, 0.7]))\n",
    "    o3d.visualization.draw_geometries([__mesh], window_name=os.path.basename(objFile), width=800, height=600, left=50,\n",
    "                                      top=50, point_show_normal=True, mesh_show_wireframe=True, mesh_show_back_face=True)\n",
    "    "
   ]
  },
  {
   "cell_type": "code",
   "execution_count": 6,
   "id": "d7eb33cd",
   "metadata": {},
   "outputs": [],
   "source": [
    "# txtFiles = glob.glob(os.path.join(r\"F:\\Smartee\\data\\ssa-repaired-txt\\33\", \"3*.txt\"))\n",
    "# txtFiles = glob.glob(os.path.join(r\"F:\\Smartee\\data\\repaired-txt\\33\", \"3*.txt\"))\n",
    "# txtFiles = glob.glob(os.path.join(r\"F:\\Smartee\\data\\cpdAlignedData\\26\", \"*.txt\"))\n",
    "txtFiles = glob.glob(os.path.join(r\"F:\\Smartee\\dataWithPhoto\\format-txt\\27\", \"80U.txt\"))\n",
    "txtFiles = glob.glob(os.path.join(r\"F:\\Smartee\\res\", \"*1.txt\"))\n",
    "Xs = [np.loadtxt(f) for f in txtFiles]\n",
    "for x,f in zip(Xs,txtFiles):\n",
    "    showPointCloud(x, f)"
   ]
  },
  {
   "cell_type": "code",
   "execution_count": 4,
   "id": "24ec73ea",
   "metadata": {},
   "outputs": [],
   "source": [
    "# srcDir = r\"F:\\Smartee\\data-refined\\repaired-obj\\13\"\n",
    "# objFiles = glob.glob(os.path.join(srcDir,\"*.obj\"))\n",
    "# for objFile in objFiles:\n",
    "#     visualizeObjFile(objFile)"
   ]
  },
  {
   "cell_type": "markdown",
   "id": "66f56b5a",
   "metadata": {
    "tags": []
   },
   "source": [
    "## Visualization of mean upper/lower tooth row of SSM"
   ]
  },
  {
   "cell_type": "code",
   "execution_count": 3,
   "id": "833fb238",
   "metadata": {},
   "outputs": [],
   "source": [
    "def loadAlignedPointGroupsWithIndex(loadDir):\n",
    "    txtFiles = glob.glob(os.path.join(loadDir, \"*.txt\"))\n",
    "    txtFileIndices = [os.path.basename(f).split('.')[0] for f in txtFiles]\n",
    "    alignedPointGroups = [np.loadtxt(f) for f in txtFiles]\n",
    "    return alignedPointGroups, txtFileIndices"
   ]
  },
  {
   "cell_type": "code",
   "execution_count": 4,
   "id": "5d4686e5",
   "metadata": {
    "scrolled": true,
    "tags": []
   },
   "outputs": [
    {
     "name": "stdout",
     "output_type": "stream",
     "text": [
      "11 (1500, 3)\n",
      "12 (1500, 3)\n",
      "13 (1500, 3)\n",
      "14 (1500, 3)\n",
      "15 (1500, 3)\n",
      "16 (1500, 3)\n",
      "17 (1500, 3)\n",
      "21 (1500, 3)\n",
      "22 (1500, 3)\n",
      "23 (1500, 3)\n",
      "24 (1500, 3)\n",
      "25 (1500, 3)\n",
      "26 (1500, 3)\n",
      "27 (1500, 3)\n",
      "31 (1500, 3)\n",
      "32 (1500, 3)\n",
      "33 (1500, 3)\n",
      "34 (1500, 3)\n",
      "35 (1500, 3)\n",
      "36 (1500, 3)\n",
      "37 (1500, 3)\n",
      "41 (1500, 3)\n",
      "42 (1500, 3)\n",
      "43 (1500, 3)\n",
      "44 (1500, 3)\n",
      "45 (1500, 3)\n",
      "46 (1500, 3)\n",
      "47 (1500, 3)\n"
     ]
    }
   ],
   "source": [
    "meanToothPGs = []\n",
    "upperToothIndices = [11,12,13,14,15,16,17,21,22,23,24,25,26,27] #不考虑智齿18,28\n",
    "lowerToothIndices = [31,32,33,34,35,36,37,41,42,43,44,45,46,47]\n",
    "toothIndices = upperToothIndices + lowerToothIndices\n",
    "for toothIndex in toothIndices:\n",
    "    srcDir = r\"./data/cpdGpAlignedData/{}/\".format(toothIndex)\n",
    "    alignedPointGroups, alignedPgIndices = loadAlignedPointGroupsWithIndex(srcDir)\n",
    "    meanAlignedPG = np.array(alignedPointGroups).mean(axis=0)\n",
    "    print(toothIndex,meanAlignedPG.shape)\n",
    "    meanToothPGs.append(meanAlignedPG)\n",
    "    "
   ]
  },
  {
   "cell_type": "code",
   "execution_count": 5,
   "id": "fefb7406",
   "metadata": {},
   "outputs": [],
   "source": [
    "meanUpperToothRowPoints = np.vstack(meanToothPGs[:14])\n",
    "showPointCloud(meanUpperToothRowPoints, \"mean upper tooth row\")"
   ]
  },
  {
   "cell_type": "code",
   "execution_count": 6,
   "id": "bfbecd6c",
   "metadata": {},
   "outputs": [],
   "source": [
    "meanLowerToothRowPoints = np.vstack(meanToothPGs[14:])\n",
    "showPointCloud(meanLowerToothRowPoints, \"mean lower tooth row\")"
   ]
  },
  {
   "cell_type": "code",
   "execution_count": 7,
   "id": "a02e440a",
   "metadata": {},
   "outputs": [],
   "source": [
    "meanToothMeshes = [surfaceVertices2WatertightO3dMesh(pg) for pg in meanToothPGs]"
   ]
  },
  {
   "cell_type": "code",
   "execution_count": 8,
   "id": "adb9cc19",
   "metadata": {},
   "outputs": [],
   "source": [
    "def mergeO3dTriangleMeshes(o3dMeshes):\n",
    "    \"\"\"合并多个Triangle Meshes\"\"\"\n",
    "    _msh = copy.deepcopy(o3dMeshes[0])\n",
    "    for _tmp_msh in o3dMeshes[1:]:\n",
    "        _msh += _tmp_msh\n",
    "    return _msh"
   ]
  },
  {
   "cell_type": "code",
   "execution_count": 12,
   "id": "f4060b34-a193-4341-963f-36a218fff43a",
   "metadata": {},
   "outputs": [],
   "source": [
    "viewer = o3d.visualization.Visualizer()\n",
    "viewer.create_window()\n",
    "viewer.add_geometry(meanUpperToothRowMesh)\n",
    "opt = viewer.get_render_option()\n",
    "opt.show_coordinate_frame = True\n",
    "opt.background_color = np.asarray([0.5, 0.5, 0.5])\n",
    "viewer.run()\n",
    "viewer.destroy_window()"
   ]
  },
  {
   "cell_type": "code",
   "execution_count": 10,
   "id": "47c9f4d6",
   "metadata": {},
   "outputs": [],
   "source": [
    "meanUpperToothRowMesh = mergeO3dTriangleMeshes(meanToothMeshes[:14])\n",
    "o3d.visualization.draw_geometries([meanUpperToothRowMesh], window_name=\"meanUpperToothRowMesh\", width=800, height=600, left=50,top=50, point_show_normal=True)\n",
    "# exportTriMeshObj(np.asarray(meanUpperToothRowMesh.vertices), np.asarray(meanUpperToothRowMesh.triangles), \"./meanUpperToothRowMesh.obj\")"
   ]
  },
  {
   "cell_type": "code",
   "execution_count": 12,
   "id": "36a627c1",
   "metadata": {},
   "outputs": [],
   "source": [
    "meanLowerToothRowMesh = mergeO3dTriangleMeshes(meanToothMeshes[14:])\n",
    "o3d.visualization.draw_geometries([meanLowerToothRowMesh], window_name=\"meanLowerToothRowMesh\", width=800, height=600, left=50,top=50, point_show_normal=False)\n",
    "# exportTriMeshObj(np.asarray(meanLowerToothRowMesh.vertices), np.asarray(meanLowerToothRowMesh.triangles), \"./meanLowerToothRowMesh.obj\")"
   ]
  },
  {
   "cell_type": "code",
   "execution_count": null,
   "id": "51c983af",
   "metadata": {},
   "outputs": [],
   "source": [
    "# visualization.py\n",
    "\n",
    "import glob\n",
    "import os\n",
    "import numpy as np\n",
    "import open3d as o3d\n",
    "\n",
    "def showPredPointClouds(y,py):\n",
    "    pcdY = o3d.geometry.PointCloud()\n",
    "    pcdY.points = o3d.utility.Vector3dVector(y)\n",
    "    pcdY.paint_uniform_color(np.array([1.,0.,0.]))\n",
    "    pcdPY = o3d.geometry.PointCloud()\n",
    "    pcdPY.points = o3d.utility.Vector3dVector(py)\n",
    "    pcdPY.paint_uniform_color(np.array([0.,0.,1.]))\n",
    "    o3d.visualization.draw_geometries([pcdY,pcdPY], window_name=\"Ground Truth PCL(red) and Prediction PCL(blue)\", width=800, height=600, left=50,top=50, point_show_normal=False)\n",
    "\n",
    "def __tag(f):\n",
    "    return int(os.path.basename(f).split(\".\")[0])\n",
    "    \n",
    "if __name__ == \"__main__\":\n",
    "    saveDir = r\"./res/\"\n",
    "    # saveDir = r\"./res-2D-3D/\"\n",
    "    groundTruthDir = os.path.join(saveDir, \"y_true\")\n",
    "    predictionDir = os.path.join(saveDir, \"y_pred\")\n",
    "    yTxtFiles = glob.glob(os.path.join(groundTruthDir, \"*.txt\"))\n",
    "    yTxtFiles = sorted(yTxtFiles, key=lambda f:__tag(f))\n",
    "    pyTxtFiles = glob.glob(os.path.join(predictionDir, \"*.txt\"))\n",
    "    pyTxtFiles = sorted(pyTxtFiles, key=lambda f:__tag(f))\n",
    "    # print(yTxtFiles)\n",
    "    # print(pyTxtFiles)\n",
    "    ys = [np.loadtxt(f) for f in yTxtFiles]\n",
    "    pys = [np.loadtxt(f) for f in pyTxtFiles]\n",
    "    for y,py in zip(ys, pys):\n",
    "        showPredPointClouds(y, py)"
   ]
  }
 ],
 "metadata": {
  "kernelspec": {
   "display_name": "Python [conda env:ssa] *",
   "language": "python",
   "name": "conda-env-ssa-py"
  },
  "language_info": {
   "codemirror_mode": {
    "name": "ipython",
    "version": 3
   },
   "file_extension": ".py",
   "mimetype": "text/x-python",
   "name": "python",
   "nbconvert_exporter": "python",
   "pygments_lexer": "ipython3",
   "version": "3.8.13"
  }
 },
 "nbformat": 4,
 "nbformat_minor": 5
}
