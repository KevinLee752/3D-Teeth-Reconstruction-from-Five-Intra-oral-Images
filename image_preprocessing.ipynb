{
 "cells": [
  {
   "cell_type": "code",
   "execution_count": 1,
   "id": "56f29f0c-13b4-4014-b60c-5168b25f2468",
   "metadata": {},
   "outputs": [
    {
     "name": "stdout",
     "output_type": "stream",
     "text": [
      "Jupyter environment detected. Enabling Open3D WebVisualizer.\n",
      "[Open3D INFO] WebRTC GUI backend enabled.\n",
      "[Open3D INFO] WebRTCWindowSystem: HTTP handshake server disabled.\n"
     ]
    }
   ],
   "source": [
    "# 对原始五个角度的牙齿图片进行放缩，统一尺寸，方便进行数据标注（描边牙齿轮廓）\n",
    "import glob\n",
    "import os\n",
    "import numpy as np\n",
    "import pandas as pd\n",
    "from matplotlib import pyplot as plt\n",
    "import scipy\n",
    "import time\n",
    "import cv2\n",
    "import copy\n",
    "import skimage\n",
    "import enum\n",
    "import h5py"
   ]
  },
  {
   "cell_type": "code",
   "execution_count": 2,
   "id": "a0800d2b-2148-4fc3-86c2-b34cccd765ad",
   "metadata": {},
   "outputs": [],
   "source": [
    "NAME_IDX_MAP_CSV = r\"./dataWithPhoto/nameIndexMapping.csv\"\n",
    "PHOTO_PATH = r\"./dataWithPhoto/normal/\" \n",
    "DST_PATH = r\"./dataWithPhoto/normal_resized/\" "
   ]
  },
  {
   "cell_type": "code",
   "execution_count": 3,
   "id": "0e0aacf3-c2a6-40ad-9cdf-c5f39d65d89b",
   "metadata": {},
   "outputs": [],
   "source": [
    "def getPhotoShapes(photo_path):\n",
    "    photoFiles = glob.glob(os.path.join(photo_path, \"*.jpg\"))\n",
    "    photoShapes = []\n",
    "    for photoFile in photoFiles:\n",
    "        photo = skimage.io.imread(photoFile, as_gray=True)\n",
    "        photoShapes.append(photo.shape)\n",
    "    return photoShapes"
   ]
  },
  {
   "cell_type": "code",
   "execution_count": 4,
   "id": "b2f53cb4-3d3b-409d-bec0-10f324973935",
   "metadata": {
    "scrolled": true,
    "tags": []
   },
   "outputs": [],
   "source": [
    "photoShapes = getPhotoShapes(PHOTO_PATH)"
   ]
  },
  {
   "cell_type": "code",
   "execution_count": 5,
   "id": "1de4470d-7727-4f78-a8d1-3cdc676e6df7",
   "metadata": {},
   "outputs": [
    {
     "name": "stdout",
     "output_type": "stream",
     "text": [
      "mean photo shape:  [1275.88210526 1713.60421053]\n",
      "max photo shape:  [2543 3391]\n",
      "min photo shape:  [464 765]\n"
     ]
    }
   ],
   "source": [
    "photoShapeArray = np.array(photoShapes)\n",
    "print(\"mean photo shape: \", photoShapeArray.mean(axis=0))\n",
    "print(\"max photo shape: \", photoShapeArray.max(axis=0))\n",
    "print(\"min photo shape: \", photoShapeArray.min(axis=0))"
   ]
  },
  {
   "cell_type": "code",
   "execution_count": 6,
   "id": "6d624df2-0896-4261-8cc5-702a3c029f26",
   "metadata": {},
   "outputs": [
    {
     "data": {
      "image/png": "[encoded data removed]",
      "text/plain": [
       "<Figure size 720x360 with 2 Axes>"
      ]
     },
     "metadata": {
      "needs_background": "light"
     },
     "output_type": "display_data"
    }
   ],
   "source": [
    "# 照片尺寸（长度，宽度）直方分布图\n",
    "bins = 30\n",
    "plt.figure(figsize=(10, 5))\n",
    "plt.subplot(121)\n",
    "plt.hist(photoShapeArray[:,0], bins=bins)\n",
    "plt.title(\"photo height\")\n",
    "plt.subplot(122)\n",
    "plt.hist(photoShapeArray[:,1], bins=bins)\n",
    "plt.title(\"photo width\")\n",
    "plt.show()"
   ]
  },
  {
   "cell_type": "code",
   "execution_count": 7,
   "id": "5bed8585-f06f-42c2-97cb-5edcd056b65c",
   "metadata": {},
   "outputs": [],
   "source": [
    "# resize photo \n",
    "def resizePhotos(src_path, dst_path, resized_width=1440, resized_height=1080, save_format=\"png\"):\n",
    "    srcPhotoFiles = glob.glob(os.path.join(src_path, \"*.jpg\"))\n",
    "    for photoFile in srcPhotoFiles:\n",
    "        # if not \"_219376_\" in os.path.basename(photoFile):\n",
    "        #     continue\n",
    "        photo = skimage.io.imread(photoFile, as_gray=False)\n",
    "        _, _, channel = photo.shape\n",
    "        if channel > 3:\n",
    "            photo = skimage.color.rgba2rgb(photo)\n",
    "        rescale_w = resized_width / photo.shape[1]\n",
    "        rescale_h = resized_height / photo.shape[0]\n",
    "        padFlag = np.abs(photo.shape[0]/photo.shape[1] - resized_height/resized_width) > 0.05\n",
    "        if padFlag == True:\n",
    "            rescale = np.min([rescale_w, rescale_h])\n",
    "            photo = skimage.transform.rescale(photo, rescale, channel_axis=2, anti_aliasing=True) # shape approx ~ (1080,1440,3)\n",
    "            h, w = photo.shape[:2]\n",
    "            print(h,w)\n",
    "            pad_top = (resized_height-h)//2\n",
    "            pad_bottom = resized_height - h - pad_top\n",
    "            pad_left = (resized_width-w)//2\n",
    "            pad_right = resized_width - w - pad_left\n",
    "            photo = cv2.copyMakeBorder(photo, pad_top, pad_bottom, pad_left, pad_right, cv2.BORDER_CONSTANT, value=(0,0,0)) # 用黑色适当填充边框\n",
    "        else:\n",
    "            rescale = np.max([rescale_w, rescale_h]) \n",
    "            photo = skimage.transform.rescale(photo, rescale, channel_axis=2, anti_aliasing=True) # shape approx ~ (1080,1440,3)\n",
    "            if photo.shape[0] > resized_height or photo.shape[1] > resized_width: # 适当裁切\n",
    "                photo = photo[:resized_height, :resized_width]\n",
    "        print(photoFile, photo.shape)\n",
    "        dstPhotoFile = os.path.join(dst_path, os.path.splitext(os.path.basename(photoFile))[0] + \".\" + save_format)\n",
    "        skimage.io.imsave(dstPhotoFile, (255.*photo).astype(np.uint8))"
   ]
  },
  {
   "cell_type": "code",
   "execution_count": 8,
   "id": "69058fb4-768f-4185-8bfc-6dfd82ee50f7",
   "metadata": {
    "scrolled": true,
    "tags": []
   },
   "outputs": [
    {
     "name": "stdout",
     "output_type": "stream",
     "text": [
      "./dataWithPhoto/normal\\侯萱烨_219376_上牙列.jpg (1080, 1440, 3)\n",
      "./dataWithPhoto/normal\\侯萱烨_219376_下牙列.jpg (1080, 1440, 3)\n",
      "./dataWithPhoto/normal\\侯萱烨_219376_右侧咬合.jpg (1080, 1440, 3)\n",
      "./dataWithPhoto/normal\\侯萱烨_219376_左侧咬合.jpg (1080, 1440, 3)\n",
      "./dataWithPhoto/normal\\侯萱烨_219376_正位像.jpg (1080, 1440, 3)\n"
     ]
    }
   ],
   "source": [
    "resizePhotos(src_path=PHOTO_PATH, dst_path=DST_PATH, resized_width=1440, resized_height=1080, save_format=\"png\")"
   ]
  },
  {
   "cell_type": "code",
   "execution_count": null,
   "id": "d5bf4427-e8f4-4e4c-86af-0163ab42161b",
   "metadata": {},
   "outputs": [],
   "source": []
  }
 ],
 "metadata": {
  "kernelspec": {
   "display_name": "Python 3.8.13 ('ssa')",
   "language": "python",
   "name": "python3"
  },
  "language_info": {
   "codemirror_mode": {
    "name": "ipython",
    "version": 3
   },
   "file_extension": ".py",
   "mimetype": "text/x-python",
   "name": "python",
   "nbconvert_exporter": "python",
   "pygments_lexer": "ipython3",
   "version": "3.8.13"
  },
  "vscode": {
   "interpreter": {
    "hash": "688b9b30839bfaf806a86a795381ff2a51bf54ef46e418cbf12e72d6fb1893fe"
   }
  }
 },
 "nbformat": 4,
 "nbformat_minor": 5
}
