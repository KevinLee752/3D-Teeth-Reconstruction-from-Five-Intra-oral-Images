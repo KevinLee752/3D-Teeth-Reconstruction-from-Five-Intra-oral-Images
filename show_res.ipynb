{
 "cells": [
  {
   "cell_type": "code",
   "execution_count": 1,
   "metadata": {},
   "outputs": [
    {
     "name": "stdout",
     "output_type": "stream",
     "text": [
      "Jupyter environment detected. Enabling Open3D WebVisualizer.\n",
      "[Open3D INFO] WebRTC GUI backend enabled.\n",
      "[Open3D INFO] WebRTCWindowSystem: HTTP handshake server disabled.\n"
     ]
    }
   ],
   "source": [
    "import glob\n",
    "import os\n",
    "import numpy as np\n",
    "import open3d as o3d"
   ]
  },
  {
   "cell_type": "code",
   "execution_count": 2,
   "metadata": {},
   "outputs": [],
   "source": [
    "def showPredPointClouds(y,py):\n",
    "    pcdY = o3d.geometry.PointCloud()\n",
    "    pcdY.points = o3d.utility.Vector3dVector(y)\n",
    "    pcdY.paint_uniform_color(np.array([0.,0.,1.]))\n",
    "    pcdPY = o3d.geometry.PointCloud()\n",
    "    pcdPY.points = o3d.utility.Vector3dVector(py)\n",
    "    pcdPY.paint_uniform_color(np.array([1.,0.,0.]))\n",
    "    o3d.visualization.draw_geometries([pcdY,pcdPY], window_name=\"Ground Truth PCL(blue) and Prediction PCL(red)\", \\\n",
    "                                      width=800, height=600, left=50,top=50, point_show_normal=False)\n",
    "\n",
    "def __tag(f):\n",
    "    return int(os.path.basename(f).split(\".\")[0])"
   ]
  },
  {
   "cell_type": "code",
   "execution_count": 7,
   "metadata": {},
   "outputs": [],
   "source": [
    "# saveDir = r\"./res/\"\n",
    "saveDir = r\"./res-2D-3D/\"\n",
    "groundTruthDir = os.path.join(saveDir, \"y_true\")\n",
    "predictionDir = os.path.join(saveDir, \"y_pred\")\n",
    "yTxtFiles = glob.glob(os.path.join(groundTruthDir, \"*.txt\"))\n",
    "yTxtFiles = sorted(yTxtFiles, key=lambda f:__tag(f))\n",
    "pyTxtFiles = glob.glob(os.path.join(predictionDir, \"*.txt\"))\n",
    "pyTxtFiles = sorted(pyTxtFiles, key=lambda f:__tag(f))\n",
    "# print(yTxtFiles)\n",
    "# print(pyTxtFiles)\n",
    "showNum = 10\n",
    "ys = [np.loadtxt(f) for f in yTxtFiles[:showNum]]\n",
    "pys = [np.loadtxt(f) for f in pyTxtFiles[:showNum]]"
   ]
  },
  {
   "cell_type": "code",
   "execution_count": 8,
   "metadata": {},
   "outputs": [],
   "source": [
    "for y,py in zip(ys, pys):\n",
    "    showPredPointClouds(y, py)"
   ]
  },
  {
   "cell_type": "code",
   "execution_count": null,
   "metadata": {},
   "outputs": [],
   "source": []
  }
 ],
 "metadata": {
  "kernelspec": {
   "display_name": "Python 3 (ipykernel)",
   "language": "python",
   "name": "python3"
  },
  "language_info": {
   "codemirror_mode": {
    "name": "ipython",
    "version": 3
   },
   "file_extension": ".py",
   "mimetype": "text/x-python",
   "name": "python",
   "nbconvert_exporter": "python",
   "pygments_lexer": "ipython3",
   "version": "3.8.13"
  }
 },
 "nbformat": 4,
 "nbformat_minor": 4
}
