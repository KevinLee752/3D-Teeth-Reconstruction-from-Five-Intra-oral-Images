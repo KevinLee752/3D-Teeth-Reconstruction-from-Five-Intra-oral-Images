{
 "cells": [
  {
   "cell_type": "code",
   "execution_count": 1,
   "id": "512bfaf1-6349-455d-bcdd-5f1b438ab49f",
   "metadata": {},
   "outputs": [
    {
     "name": "stdout",
     "output_type": "stream",
     "text": [
      "Jupyter environment detected. Enabling Open3D WebVisualizer.\n",
      "[Open3D INFO] WebRTC GUI backend enabled.\n",
      "[Open3D INFO] WebRTCWindowSystem: HTTP handshake server disabled.\n"
     ]
    }
   ],
   "source": [
    "import cycpd\n",
    "import matplotlib.pyplot as plt\n",
    "# import pycpd\n",
    "import numpy as np\n",
    "import os\n",
    "import glob\n",
    "import shutil\n",
    "import open3d as o3d\n",
    "import time\n",
    "import h5py\n",
    "import pandas as pd\n",
    "from scipy.spatial.transform import Rotation as RR\n",
    "import ssm_utils\n",
    "import projection_utils as proj"
   ]
  },
  {
   "cell_type": "markdown",
   "id": "c1ad587f-e922-44df-b3dc-e307325a4b05",
   "metadata": {},
   "source": [
    "### Gaussian Process & Multivariate Normal Distribution"
   ]
  },
  {
   "cell_type": "code",
   "execution_count": 2,
   "id": "638b169c-aca8-42ce-9824-fc6df2d90d55",
   "metadata": {},
   "outputs": [],
   "source": [
    "paramsFiles = glob.glob(os.path.join(r\"./data/params\", \"sRtParams_*.hdf5\"))\n",
    "toothIndices = [int(os.path.basename(f).split(\".\")[0].split(\"_\")[-1]) for f in paramsFiles]"
   ]
  },
  {
   "cell_type": "code",
   "execution_count": 3,
   "id": "a8c45f0c-9cee-4263-9710-c5037edcef66",
   "metadata": {},
   "outputs": [],
   "source": [
    "dfParam = pd.DataFrame(columns=[\"tag\"])\n",
    "for f,tID in zip(paramsFiles,toothIndices):\n",
    "    tags, scales, rotMats, transVecs = ssm_utils.readRegistrationParamsFromHDF5(h5File=f, toothIndex=tID)\n",
    "    rotAngles = ssm_utils.getRotAngles(rotMats)\n",
    "    rx, ry, rz = np.hsplit(rotAngles, 3)\n",
    "    tx, ty, tz = np.hsplit(transVecs, 3)\n",
    "    tags = [tag[:-1] for tag in tags]\n",
    "    dataTemp = {\"tag\":tags, \n",
    "                \"{}s\".format(tID):scales, \n",
    "                \"{}rx\".format(tID):rx.flatten(), \n",
    "                \"{}ry\".format(tID):ry.flatten(), \n",
    "                \"{}rz\".format(tID):rz.flatten(),\n",
    "                \"{}tx\".format(tID):tx.flatten(), \n",
    "                \"{}ty\".format(tID):ty.flatten(), \n",
    "                \"{}tz\".format(tID):tz.flatten()} \n",
    "    dfTemp = pd.DataFrame(dataTemp)\n",
    "    dfParam = dfParam.merge(dfTemp, how=\"outer\", on=\"tag\")"
   ]
  },
  {
   "cell_type": "code",
   "execution_count": 37,
   "id": "d1eb2f0b-62b3-4c13-9d95-8146f57feff0",
   "metadata": {},
   "outputs": [
    {
     "data": {
      "text/html": [
       "<div>\n",
       "<style scoped>\n",
       "    .dataframe tbody tr th:only-of-type {\n",
       "        vertical-align: middle;\n",
       "    }\n",
       "\n",
       "    .dataframe tbody tr th {\n",
       "        vertical-align: top;\n",
       "    }\n",
       "\n",
       "    .dataframe thead th {\n",
       "        text-align: right;\n",
       "    }\n",
       "</style>\n",
       "<table border=\"1\" class=\"dataframe\">\n",
       "  <thead>\n",
       "    <tr style=\"text-align: right;\">\n",
       "      <th></th>\n",
       "      <th>tag</th>\n",
       "      <th>11s</th>\n",
       "      <th>11rx</th>\n",
       "      <th>11ry</th>\n",
       "      <th>11rz</th>\n",
       "      <th>11tx</th>\n",
       "      <th>11ty</th>\n",
       "      <th>11tz</th>\n",
       "      <th>12s</th>\n",
       "      <th>12rx</th>\n",
       "      <th>...</th>\n",
       "      <th>46tx</th>\n",
       "      <th>46ty</th>\n",
       "      <th>46tz</th>\n",
       "      <th>47s</th>\n",
       "      <th>47rx</th>\n",
       "      <th>47ry</th>\n",
       "      <th>47rz</th>\n",
       "      <th>47tx</th>\n",
       "      <th>47ty</th>\n",
       "      <th>47tz</th>\n",
       "    </tr>\n",
       "  </thead>\n",
       "  <tbody>\n",
       "    <tr>\n",
       "      <th>0</th>\n",
       "      <td>65</td>\n",
       "      <td>1.575657</td>\n",
       "      <td>-0.417926</td>\n",
       "      <td>-0.481351</td>\n",
       "      <td>0.249453</td>\n",
       "      <td>10.117639</td>\n",
       "      <td>-2.097857</td>\n",
       "      <td>0.277476</td>\n",
       "      <td>1.218601</td>\n",
       "      <td>-0.328558</td>\n",
       "      <td>...</td>\n",
       "      <td>1.302736</td>\n",
       "      <td>-6.269171</td>\n",
       "      <td>-1.038112</td>\n",
       "      <td>1.040174</td>\n",
       "      <td>0.015166</td>\n",
       "      <td>0.143515</td>\n",
       "      <td>-0.531078</td>\n",
       "      <td>-0.859560</td>\n",
       "      <td>-13.322393</td>\n",
       "      <td>-5.262710</td>\n",
       "    </tr>\n",
       "    <tr>\n",
       "      <th>1</th>\n",
       "      <td>87</td>\n",
       "      <td>1.221864</td>\n",
       "      <td>0.217351</td>\n",
       "      <td>-0.037992</td>\n",
       "      <td>-0.276693</td>\n",
       "      <td>2.923883</td>\n",
       "      <td>2.645940</td>\n",
       "      <td>-4.395098</td>\n",
       "      <td>1.026329</td>\n",
       "      <td>0.047310</td>\n",
       "      <td>...</td>\n",
       "      <td>-1.715662</td>\n",
       "      <td>-2.563255</td>\n",
       "      <td>2.736868</td>\n",
       "      <td>0.936835</td>\n",
       "      <td>0.069393</td>\n",
       "      <td>-0.156241</td>\n",
       "      <td>-0.084532</td>\n",
       "      <td>-5.121869</td>\n",
       "      <td>-2.473417</td>\n",
       "      <td>2.940782</td>\n",
       "    </tr>\n",
       "    <tr>\n",
       "      <th>2</th>\n",
       "      <td>84</td>\n",
       "      <td>1.243813</td>\n",
       "      <td>-0.291333</td>\n",
       "      <td>0.464359</td>\n",
       "      <td>-0.150202</td>\n",
       "      <td>-10.057017</td>\n",
       "      <td>-3.592691</td>\n",
       "      <td>-1.126615</td>\n",
       "      <td>1.034752</td>\n",
       "      <td>-0.298091</td>\n",
       "      <td>...</td>\n",
       "      <td>-2.753845</td>\n",
       "      <td>-8.467804</td>\n",
       "      <td>-0.974047</td>\n",
       "      <td>0.942282</td>\n",
       "      <td>0.179305</td>\n",
       "      <td>0.160814</td>\n",
       "      <td>-0.623633</td>\n",
       "      <td>-5.942495</td>\n",
       "      <td>-16.496163</td>\n",
       "      <td>-6.611356</td>\n",
       "    </tr>\n",
       "    <tr>\n",
       "      <th>3</th>\n",
       "      <td>4</td>\n",
       "      <td>1.167750</td>\n",
       "      <td>0.069135</td>\n",
       "      <td>-0.140152</td>\n",
       "      <td>-0.037460</td>\n",
       "      <td>3.247426</td>\n",
       "      <td>1.080696</td>\n",
       "      <td>-3.003360</td>\n",
       "      <td>1.189040</td>\n",
       "      <td>0.043493</td>\n",
       "      <td>...</td>\n",
       "      <td>1.429975</td>\n",
       "      <td>1.252429</td>\n",
       "      <td>-1.776484</td>\n",
       "      <td>1.135607</td>\n",
       "      <td>0.011708</td>\n",
       "      <td>0.021838</td>\n",
       "      <td>0.012897</td>\n",
       "      <td>2.474693</td>\n",
       "      <td>0.062724</td>\n",
       "      <td>1.736226</td>\n",
       "    </tr>\n",
       "    <tr>\n",
       "      <th>4</th>\n",
       "      <td>111</td>\n",
       "      <td>1.171392</td>\n",
       "      <td>-0.324573</td>\n",
       "      <td>-0.445354</td>\n",
       "      <td>-0.031206</td>\n",
       "      <td>6.563996</td>\n",
       "      <td>-5.149365</td>\n",
       "      <td>3.251975</td>\n",
       "      <td>1.132319</td>\n",
       "      <td>-0.206623</td>\n",
       "      <td>...</td>\n",
       "      <td>5.772693</td>\n",
       "      <td>1.391698</td>\n",
       "      <td>-1.303359</td>\n",
       "      <td>1.251403</td>\n",
       "      <td>-0.112454</td>\n",
       "      <td>-0.020584</td>\n",
       "      <td>-0.066664</td>\n",
       "      <td>7.595420</td>\n",
       "      <td>0.337184</td>\n",
       "      <td>6.086091</td>\n",
       "    </tr>\n",
       "    <tr>\n",
       "      <th>...</th>\n",
       "      <td>...</td>\n",
       "      <td>...</td>\n",
       "      <td>...</td>\n",
       "      <td>...</td>\n",
       "      <td>...</td>\n",
       "      <td>...</td>\n",
       "      <td>...</td>\n",
       "      <td>...</td>\n",
       "      <td>...</td>\n",
       "      <td>...</td>\n",
       "      <td>...</td>\n",
       "      <td>...</td>\n",
       "      <td>...</td>\n",
       "      <td>...</td>\n",
       "      <td>...</td>\n",
       "      <td>...</td>\n",
       "      <td>...</td>\n",
       "      <td>...</td>\n",
       "      <td>...</td>\n",
       "      <td>...</td>\n",
       "      <td>...</td>\n",
       "    </tr>\n",
       "    <tr>\n",
       "      <th>125</th>\n",
       "      <td>72</td>\n",
       "      <td>0.869813</td>\n",
       "      <td>-0.021190</td>\n",
       "      <td>0.176258</td>\n",
       "      <td>-0.150886</td>\n",
       "      <td>-2.404517</td>\n",
       "      <td>-0.221881</td>\n",
       "      <td>1.556239</td>\n",
       "      <td>0.888826</td>\n",
       "      <td>-0.053049</td>\n",
       "      <td>...</td>\n",
       "      <td>NaN</td>\n",
       "      <td>NaN</td>\n",
       "      <td>NaN</td>\n",
       "      <td>NaN</td>\n",
       "      <td>NaN</td>\n",
       "      <td>NaN</td>\n",
       "      <td>NaN</td>\n",
       "      <td>NaN</td>\n",
       "      <td>NaN</td>\n",
       "      <td>NaN</td>\n",
       "    </tr>\n",
       "    <tr>\n",
       "      <th>126</th>\n",
       "      <td>112</td>\n",
       "      <td>NaN</td>\n",
       "      <td>NaN</td>\n",
       "      <td>NaN</td>\n",
       "      <td>NaN</td>\n",
       "      <td>NaN</td>\n",
       "      <td>NaN</td>\n",
       "      <td>NaN</td>\n",
       "      <td>1.097345</td>\n",
       "      <td>0.105345</td>\n",
       "      <td>...</td>\n",
       "      <td>0.884411</td>\n",
       "      <td>-1.768931</td>\n",
       "      <td>-1.862404</td>\n",
       "      <td>1.017284</td>\n",
       "      <td>-0.012574</td>\n",
       "      <td>-0.054611</td>\n",
       "      <td>-0.080661</td>\n",
       "      <td>-0.512782</td>\n",
       "      <td>-1.626821</td>\n",
       "      <td>1.140145</td>\n",
       "    </tr>\n",
       "    <tr>\n",
       "      <th>127</th>\n",
       "      <td>104</td>\n",
       "      <td>NaN</td>\n",
       "      <td>NaN</td>\n",
       "      <td>NaN</td>\n",
       "      <td>NaN</td>\n",
       "      <td>NaN</td>\n",
       "      <td>NaN</td>\n",
       "      <td>NaN</td>\n",
       "      <td>0.953832</td>\n",
       "      <td>0.108155</td>\n",
       "      <td>...</td>\n",
       "      <td>-0.459578</td>\n",
       "      <td>0.453675</td>\n",
       "      <td>-1.427462</td>\n",
       "      <td>1.021983</td>\n",
       "      <td>-0.056423</td>\n",
       "      <td>-0.056087</td>\n",
       "      <td>0.381929</td>\n",
       "      <td>-5.032038</td>\n",
       "      <td>9.070757</td>\n",
       "      <td>3.986438</td>\n",
       "    </tr>\n",
       "    <tr>\n",
       "      <th>128</th>\n",
       "      <td>118</td>\n",
       "      <td>NaN</td>\n",
       "      <td>NaN</td>\n",
       "      <td>NaN</td>\n",
       "      <td>NaN</td>\n",
       "      <td>NaN</td>\n",
       "      <td>NaN</td>\n",
       "      <td>NaN</td>\n",
       "      <td>0.877819</td>\n",
       "      <td>-0.056448</td>\n",
       "      <td>...</td>\n",
       "      <td>-0.539552</td>\n",
       "      <td>-1.343462</td>\n",
       "      <td>0.074190</td>\n",
       "      <td>0.964833</td>\n",
       "      <td>-0.033392</td>\n",
       "      <td>0.154054</td>\n",
       "      <td>-0.086390</td>\n",
       "      <td>1.969761</td>\n",
       "      <td>-0.782816</td>\n",
       "      <td>-4.397893</td>\n",
       "    </tr>\n",
       "    <tr>\n",
       "      <th>129</th>\n",
       "      <td>5</td>\n",
       "      <td>NaN</td>\n",
       "      <td>NaN</td>\n",
       "      <td>NaN</td>\n",
       "      <td>NaN</td>\n",
       "      <td>NaN</td>\n",
       "      <td>NaN</td>\n",
       "      <td>NaN</td>\n",
       "      <td>NaN</td>\n",
       "      <td>NaN</td>\n",
       "      <td>...</td>\n",
       "      <td>-1.942071</td>\n",
       "      <td>-0.839122</td>\n",
       "      <td>0.040003</td>\n",
       "      <td>0.907617</td>\n",
       "      <td>0.047500</td>\n",
       "      <td>-0.135412</td>\n",
       "      <td>0.073572</td>\n",
       "      <td>-4.513098</td>\n",
       "      <td>1.118039</td>\n",
       "      <td>-0.376426</td>\n",
       "    </tr>\n",
       "  </tbody>\n",
       "</table>\n",
       "<p>130 rows × 197 columns</p>\n",
       "</div>"
      ],
      "text/plain": [
       "     tag       11s      11rx      11ry      11rz       11tx      11ty  \\\n",
       "0     65  1.575657 -0.417926 -0.481351  0.249453  10.117639 -2.097857   \n",
       "1     87  1.221864  0.217351 -0.037992 -0.276693   2.923883  2.645940   \n",
       "2     84  1.243813 -0.291333  0.464359 -0.150202 -10.057017 -3.592691   \n",
       "3      4  1.167750  0.069135 -0.140152 -0.037460   3.247426  1.080696   \n",
       "4    111  1.171392 -0.324573 -0.445354 -0.031206   6.563996 -5.149365   \n",
       "..   ...       ...       ...       ...       ...        ...       ...   \n",
       "125   72  0.869813 -0.021190  0.176258 -0.150886  -2.404517 -0.221881   \n",
       "126  112       NaN       NaN       NaN       NaN        NaN       NaN   \n",
       "127  104       NaN       NaN       NaN       NaN        NaN       NaN   \n",
       "128  118       NaN       NaN       NaN       NaN        NaN       NaN   \n",
       "129    5       NaN       NaN       NaN       NaN        NaN       NaN   \n",
       "\n",
       "         11tz       12s      12rx  ...      46tx      46ty      46tz  \\\n",
       "0    0.277476  1.218601 -0.328558  ...  1.302736 -6.269171 -1.038112   \n",
       "1   -4.395098  1.026329  0.047310  ... -1.715662 -2.563255  2.736868   \n",
       "2   -1.126615  1.034752 -0.298091  ... -2.753845 -8.467804 -0.974047   \n",
       "3   -3.003360  1.189040  0.043493  ...  1.429975  1.252429 -1.776484   \n",
       "4    3.251975  1.132319 -0.206623  ...  5.772693  1.391698 -1.303359   \n",
       "..        ...       ...       ...  ...       ...       ...       ...   \n",
       "125  1.556239  0.888826 -0.053049  ...       NaN       NaN       NaN   \n",
       "126       NaN  1.097345  0.105345  ...  0.884411 -1.768931 -1.862404   \n",
       "127       NaN  0.953832  0.108155  ... -0.459578  0.453675 -1.427462   \n",
       "128       NaN  0.877819 -0.056448  ... -0.539552 -1.343462  0.074190   \n",
       "129       NaN       NaN       NaN  ... -1.942071 -0.839122  0.040003   \n",
       "\n",
       "          47s      47rx      47ry      47rz      47tx       47ty      47tz  \n",
       "0    1.040174  0.015166  0.143515 -0.531078 -0.859560 -13.322393 -5.262710  \n",
       "1    0.936835  0.069393 -0.156241 -0.084532 -5.121869  -2.473417  2.940782  \n",
       "2    0.942282  0.179305  0.160814 -0.623633 -5.942495 -16.496163 -6.611356  \n",
       "3    1.135607  0.011708  0.021838  0.012897  2.474693   0.062724  1.736226  \n",
       "4    1.251403 -0.112454 -0.020584 -0.066664  7.595420   0.337184  6.086091  \n",
       "..        ...       ...       ...       ...       ...        ...       ...  \n",
       "125       NaN       NaN       NaN       NaN       NaN        NaN       NaN  \n",
       "126  1.017284 -0.012574 -0.054611 -0.080661 -0.512782  -1.626821  1.140145  \n",
       "127  1.021983 -0.056423 -0.056087  0.381929 -5.032038   9.070757  3.986438  \n",
       "128  0.964833 -0.033392  0.154054 -0.086390  1.969761  -0.782816 -4.397893  \n",
       "129  0.907617  0.047500 -0.135412  0.073572 -4.513098   1.118039 -0.376426  \n",
       "\n",
       "[130 rows x 197 columns]"
      ]
     },
     "execution_count": 37,
     "metadata": {},
     "output_type": "execute_result"
    }
   ],
   "source": [
    "dfParam"
   ]
  },
  {
   "cell_type": "code",
   "execution_count": 5,
   "id": "7570eba8",
   "metadata": {},
   "outputs": [],
   "source": [
    "DATA_DIR = r\"D:/Smartee/\"\n",
    "SSM_DIR = os.path.join(DATA_DIR, r\"data/cpdGpAlignedData/eigValVec/\")\n",
    "CPD_ALIGNED_DIR = os.path.join(DATA_DIR, r\"data/cpdGpAlignedData/\")\n",
    "PARAM_DIR = os.path.join(DATA_DIR, r\"data/cpdGpParams/\") \n",
    "SRC_DIR = os.path.join(DATA_DIR, r\"dataWithPhoto/cpdGpAlignedData/\")\n",
    "SRC_PARAM_DIR = os.path.join(DATA_DIR, r\"dataWithPhoto/cpdGpParams/\")\n",
    "PG_NPY = os.path.join(SRC_PARAM_DIR, \"Y_pg.npy\")\n",
    "MASK_NPY = os.path.join(SRC_PARAM_DIR, \"X_mask.npy\")\n",
    "NAME_IDX_MAP_CSV = os.path.join(DATA_DIR, r\"dataWithPhoto/nameIndexMapping.csv\")\n",
    "NAME_IDX_CSV = pd.read_csv(NAME_IDX_MAP_CSV)\n",
    "NUM_PC = 10\n",
    "NUM_POINT = 1500\n",
    "PG_SHAPE = (NUM_POINT, 3)\n",
    "UPPER_INDICES = [11,12,13,14,15,16,17,21,22,23,24,25,26,27] #不考虑智齿18,28\n",
    "LOWER_INDICES = [31,32,33,34,35,36,37,41,42,43,44,45,46,47] #不考虑智齿38,48\n",
    "_TeethIds = np.array(UPPER_INDICES + LOWER_INDICES)"
   ]
  },
  {
   "cell_type": "code",
   "execution_count": 6,
   "id": "5c4a119d-71b0-4013-b2d6-767d8efb9f37",
   "metadata": {},
   "outputs": [],
   "source": [
    "def updateAbsTransVecs(invParamDF, Mu):\n",
    "    \"\"\"将牙列transVecShift融入txyz中,忽略牙列scale的影响,并且将txyz定义在局部坐标系下\n",
    "    使得initPG = inv_s * (meanPG + invTransVec) @ invR + transVecShift\n",
    "    变为initPG = inv_s * (meanPG - MuCentroids) @ invR + AbsTransVec + MuCentroids\"\"\"\n",
    "    toothIndices = UPPER_INDICES+LOWER_INDICES\n",
    "    invParamCopy = invParamDF.copy()\n",
    "    numSample = invParamDF.shape[0]\n",
    "    numTooth = len(toothIndices)\n",
    "    X_Mu_centroids = {tID:Mu[i].mean(axis=0) for i,tID in enumerate(toothIndices)}\n",
    "    invScalesColumns = [\"{}s\".format(id) for id in toothIndices]\n",
    "    invRotVecXYZColumns = [\"{}r{}\".format(id, p) for id in toothIndices for p in [\"x\",\"y\",\"z\"]]\n",
    "    invTransVecXYZColumns = [\"{}t{}\".format(id, p) for id in toothIndices for p in [\"x\",\"y\",\"z\"]]\n",
    "    invTransVecShiftColumns = [\"upper_ts\", \"lower_ts\"]\n",
    "    invScales = invParamDF[invScalesColumns].to_numpy()\n",
    "    invRotVecs = invParamDF[invRotVecXYZColumns].to_numpy().reshape(numSample, numTooth, 3)\n",
    "    invTransVecs = invParamDF[invTransVecXYZColumns].to_numpy().reshape(numSample, numTooth, 3)\n",
    "    invTransVecShifts = np.concatenate([np.stack(invParamDF[\"upper_ts\"].to_list()), np.stack(invParamDF[\"lower_ts\"].to_list())], axis=1)\n",
    "    \n",
    "    for i in range(numSample):\n",
    "        for j,tID in enumerate(toothIndices):\n",
    "            rxyz = invRotVecs[i,j]\n",
    "            invRotMat = RR.from_rotvec(rxyz).as_matrix().T\n",
    "            # invTx, invTy, invTz = - X_Mu_centroids[tID] + invScales[i,j] * (invTransVecs[i,j] + X_Mu_centroids[tID] - invTransVecShifts[i,j]) @ invRotMat # Wrong\n",
    "            invTx, invTy, invTz = - X_Mu_centroids[tID] + invTransVecShifts[i,j] + invScales[i,j] * (invTransVecs[i,j] + X_Mu_centroids[tID]) @ invRotMat # Correct\n",
    "            invParamCopy.loc[i,\"{}tx\".format(tID)] = invTx\n",
    "            invParamCopy.loc[i,\"{}ty\".format(tID)] = invTy\n",
    "            invParamCopy.loc[i,\"{}tz\".format(tID)] = invTz\n",
    "    invParamCopy = invParamCopy.drop(labels=[\"upper_s\", \"lower_s\", \"upper_ts\", \"lower_ts\"], axis=1)\n",
    "    return invParamCopy"
   ]
  },
  {
   "cell_type": "code",
   "execution_count": 7,
   "id": "d8268c47-7899-4785-bf57-ca859b67519b",
   "metadata": {},
   "outputs": [],
   "source": [
    "\n",
    "Mu, SqrtEigVals, Sigma = proj.loadMuEigValSigma(SSM_DIR, numPC=NUM_PC)\n",
    "invRegistrationParamDF = proj.loadInvRegistrationParams(loadDir=PARAM_DIR) # 加载配准过程中的参数\n",
    "invParamDF = updateAbsTransVecs(invRegistrationParamDF, Mu) # 将牙列scale转化为每颗牙齿的位移，将每颗牙齿的transVecXYZs在局部坐标系下进行表达"
   ]
  },
  {
   "cell_type": "code",
   "execution_count": 8,
   "id": "afa88aa9-8538-4ab7-ba69-ee8bbca50db1",
   "metadata": {},
   "outputs": [],
   "source": [
    "tc = np.mean(Mu, axis=1)"
   ]
  },
  {
   "cell_type": "code",
   "execution_count": 41,
   "id": "21e3e866-84f2-4e38-afe8-a86f2f4f11a7",
   "metadata": {},
   "outputs": [],
   "source": [
    "dfParam = dfParam.astype(np.float32)"
   ]
  },
  {
   "cell_type": "code",
   "execution_count": 42,
   "id": "9e5a4b36-90a5-4c93-85ee-fd45c5c207e7",
   "metadata": {},
   "outputs": [],
   "source": [
    "# 验证txyz的计算是否正确\n",
    "errors = []\n",
    "for testToothID in UPPER_INDICES:\n",
    "    j = np.argmin(_TeethIds<testToothID)\n",
    "    for testSampleID in range(50):\n",
    "        testFile = r\"D:\\Smartee\\data\\cpdGpAlignedData\\{}\\{}U.txt\".format(testToothID, testSampleID)\n",
    "        if os.path.exists(testFile):\n",
    "            _s = invParamDF[invParamDF['tag']==testSampleID][f\"{testToothID}s\"].to_numpy()[0]\n",
    "            _rxyz = invParamDF[invParamDF['tag']==testSampleID][[f\"{testToothID}rx\",f\"{testToothID}ry\",f\"{testToothID}rz\"]].to_numpy()[0]\n",
    "            _R = RR.from_rotvec(_rxyz).as_matrix().T\n",
    "            _txyz = invParamDF[invParamDF['tag']==testSampleID][[f\"{testToothID}tx\",f\"{testToothID}ty\",f\"{testToothID}tz\"]].to_numpy()[0]\n",
    "            \n",
    "            _s1 = dfParam[dfParam['tag']==testSampleID][f\"{testToothID}s\"].to_numpy()[0]\n",
    "            _rxyz1 = dfParam[dfParam['tag']==testSampleID][[f\"{testToothID}rx\",f\"{testToothID}ry\",f\"{testToothID}rz\"]].to_numpy()[0]\n",
    "            _R1 = RR.from_rotvec(_rxyz1).as_matrix().T\n",
    "            _txyz1 = dfParam[dfParam['tag']==testSampleID][[f\"{testToothID}tx\",f\"{testToothID}ty\",f\"{testToothID}tz\"]].to_numpy()[0]\n",
    "\n",
    "            X_row_aligned_init = np.loadtxt(testFile)\n",
    "            X0 = _s1 * X_row_aligned_init @ _R1 + _txyz1\n",
    "            X_init = X_row_aligned_init + + invRegistrationParamDF[invRegistrationParamDF['tag']==testSampleID][\"upper_ts\"].to_numpy()[0][j]\n",
    "            X_recons = _s * (X0 - tc[j]) @ _R + _txyz + tc[j]\n",
    "            _e = np.linalg.norm(X_init - X_recons, axis=1).mean()\n",
    "            if not np.isnan(_e):\n",
    "                errors.append(_e)"
   ]
  },
  {
   "cell_type": "code",
   "execution_count": 43,
   "id": "bf39a431-af07-4d12-b6e9-33bc1237d5a5",
   "metadata": {},
   "outputs": [
    {
     "name": "stdout",
     "output_type": "stream",
     "text": [
      "0.3451643972316142\n"
     ]
    }
   ],
   "source": [
    "print(np.mean(errors))"
   ]
  },
  {
   "cell_type": "code",
   "execution_count": 69,
   "id": "26867547-1b48-4b0a-8600-dfbc7a3b242e",
   "metadata": {},
   "outputs": [],
   "source": [
    "tc_flat = tc.flatten()"
   ]
  },
  {
   "cell_type": "code",
   "execution_count": 9,
   "id": "eafeb605-2fe7-4915-9a65-0a7a39c86ca7",
   "metadata": {},
   "outputs": [
    {
     "data": {
      "text/plain": [
       "(127, 42)"
      ]
     },
     "execution_count": 9,
     "metadata": {},
     "output_type": "execute_result"
    }
   ],
   "source": [
    "A = invParamDF[[\"{}t{}\".format(_id, p) for _id in UPPER_INDICES for p in [\"x\",\"y\",\"z\"]]]\n",
    "# A = invParamDF[[\"{}r{}\".format(_id, p) for _id in LOWER_INDICES for p in [\"x\",\"y\",\"z\"]]]\n",
    "# A = invParamDF[[\"{}r{}\".format(_id, p) for _id in UPPER_INDICES+LOWER_INDICES for p in [\"x\",\"y\",\"z\"]]]\n",
    "# A = A + tc_flat[None,:42]\n",
    "A.shape"
   ]
  },
  {
   "cell_type": "code",
   "execution_count": 10,
   "id": "6e4db9e2-4ca4-4088-bcee-3db9d9d5be85",
   "metadata": {},
   "outputs": [
    {
     "data": {
      "text/plain": [
       "(42, 42)"
      ]
     },
     "execution_count": 10,
     "metadata": {},
     "output_type": "execute_result"
    }
   ],
   "source": [
    "# A = dfParam.iloc[:,1:8].to_numpy()\n",
    "covA = np.ma.cov(np.ma.masked_invalid(A), rowvar=False)\n",
    "assert not covA.mask.any() #检查是否有nan\n",
    "covMat = covA.data\n",
    "covMat.shape"
   ]
  },
  {
   "cell_type": "code",
   "execution_count": 11,
   "id": "1700180d-f8f7-4ed7-8c25-e6af5233c7c7",
   "metadata": {},
   "outputs": [],
   "source": [
    "def is_pos_def(x):\n",
    "    return np.all(np.linalg.eigvals(x) > 0)"
   ]
  },
  {
   "cell_type": "code",
   "execution_count": 12,
   "id": "593b7d25-3597-494e-b739-7eb0f820db1d",
   "metadata": {},
   "outputs": [
    {
     "data": {
      "text/plain": [
       "False"
      ]
     },
     "execution_count": 12,
     "metadata": {},
     "output_type": "execute_result"
    }
   ],
   "source": [
    "is_pos_def(covMat)"
   ]
  },
  {
   "cell_type": "code",
   "execution_count": 19,
   "id": "b8d4a6f2-a16f-4ae8-b17d-8b06d53588bd",
   "metadata": {},
   "outputs": [],
   "source": [
    "infoRatio = 0.95\n",
    "_eigVals, eigVecs = np.linalg.eig(covMat)\n",
    "eigVals = np.abs(_eigVals)\n",
    "cum_info_ratio = np.cumsum(eigVals) / np.sum(eigVals)\n",
    "numPc = np.argmax(cum_info_ratio > infoRatio) + 1"
   ]
  },
  {
   "cell_type": "code",
   "execution_count": 20,
   "id": "9c4f3426",
   "metadata": {},
   "outputs": [
    {
     "data": {
      "text/plain": [
       "14"
      ]
     },
     "execution_count": 20,
     "metadata": {},
     "output_type": "execute_result"
    }
   ],
   "source": [
    "numPc"
   ]
  },
  {
   "cell_type": "code",
   "execution_count": 21,
   "id": "d6bfa313-1e63-4d7a-9248-10470c72112e",
   "metadata": {},
   "outputs": [
    {
     "data": {
      "text/plain": [
       "0.9529348959978046"
      ]
     },
     "execution_count": 21,
     "metadata": {},
     "output_type": "execute_result"
    }
   ],
   "source": [
    "_numPC = numPc\n",
    "ssm_utils.remainedInfoRatio(eigVals, _numPC)"
   ]
  },
  {
   "cell_type": "code",
   "execution_count": 22,
   "id": "4aa4fef5-50ea-4ffe-bc9d-4261ece8a95f",
   "metadata": {},
   "outputs": [
    {
     "data": {
      "text/plain": [
       "True"
      ]
     },
     "execution_count": 22,
     "metadata": {},
     "output_type": "execute_result"
    }
   ],
   "source": [
    "np.allclose(eigVecs @ np.diag(_eigVals) @ eigVecs.T, covMat)"
   ]
  },
  {
   "cell_type": "code",
   "execution_count": 23,
   "id": "5ff39039-37ff-4d1e-b70a-bdf548466237",
   "metadata": {},
   "outputs": [
    {
     "name": "stdout",
     "output_type": "stream",
     "text": [
      "0.8757705158647301\n"
     ]
    }
   ],
   "source": [
    "# 用95%的主成分近似covMat\n",
    "approxCovMat = eigVecs[:,:_numPC] @ np.diag(eigVals[:_numPC]) @ eigVecs[:,:_numPC].T\n",
    "err = np.linalg.norm(approxCovMat-covMat, \"fro\")\n",
    "print(err)"
   ]
  },
  {
   "cell_type": "code",
   "execution_count": 25,
   "id": "860cf993",
   "metadata": {},
   "outputs": [
    {
     "data": {
      "text/plain": [
       "(42, 42)"
      ]
     },
     "execution_count": 25,
     "metadata": {},
     "output_type": "execute_result"
    }
   ],
   "source": [
    "approxCovMat.shape"
   ]
  },
  {
   "cell_type": "code",
   "execution_count": 24,
   "id": "beb44bb4",
   "metadata": {},
   "outputs": [
    {
     "data": {
      "text/plain": [
       "False"
      ]
     },
     "execution_count": 24,
     "metadata": {},
     "output_type": "execute_result"
    }
   ],
   "source": [
    "is_pos_def(approxCovMat)"
   ]
  },
  {
   "cell_type": "code",
   "execution_count": null,
   "id": "ac8c2b19-ce12-4b7b-9010-fbb6462cab79",
   "metadata": {},
   "outputs": [],
   "source": [
    "# # subV @ featureVec = observedVec - observedPriorVecMu 最小二乘解featureVec; observedPriorVecMu = 0 for txyz\n",
    "# V = eigVecs[:,:_numPC]\n",
    "# subV = V[obserIndices]\n",
    "# subVc = V[nonObserIndices] \n",
    "# lambd = 0.0 # a small constant to avoid over-fitting while maintaining acceptable residuals\n",
    "# featureVec = np.linalg.inv(subV.T @ subV + lambd*np.identity(_numPC)) @ subV.T @ (observedVec - observedPriorVecMu)"
   ]
  },
  {
   "cell_type": "code",
   "execution_count": 153,
   "id": "d50d7117-97e9-4d51-b31e-79a3eba51cf5",
   "metadata": {},
   "outputs": [],
   "source": [
    "# pd.DataFrame(covMat).to_csv(\"covMat.csv\",index=False,header=False)"
   ]
  },
  {
   "cell_type": "code",
   "execution_count": 7,
   "id": "069eff8c-f67c-4032-8c7f-37a1ef7214b0",
   "metadata": {},
   "outputs": [],
   "source": [
    "variances = np.ma.var(np.ma.masked_invalid(A), axis=0, ddof=1)\n",
    "assert not variances.mask.any() #检查是否有nan\n",
    "std = np.sqrt(variances.data)"
   ]
  },
  {
   "cell_type": "code",
   "execution_count": 8,
   "id": "25569c36-4879-41c7-b52e-5fb5afb32ec9",
   "metadata": {},
   "outputs": [],
   "source": [
    "rhoCoef = covMat / np.multiply(std[:,None],std)\n",
    "assert (np.abs(rhoCoef.diagonal()-1.)<1e-6).all() #对角线元素全是1"
   ]
  },
  {
   "cell_type": "code",
   "execution_count": 9,
   "id": "1dfd64eb-51d6-4bed-83ea-09d24a4ea8a3",
   "metadata": {},
   "outputs": [],
   "source": [
    "largeRhoCoef = rhoCoef.copy()\n",
    "largeRhoCoef[np.abs(largeRhoCoef)<0.6] = 0.\n",
    "pd.DataFrame(largeRhoCoef).round(2).to_csv(\"rhoCoef.csv\",index=False,header=False)"
   ]
  },
  {
   "cell_type": "code",
   "execution_count": null,
   "id": "952d2ae7-5d3d-4c17-8ca6-67fc58a4a92f",
   "metadata": {},
   "outputs": [],
   "source": []
  }
 ],
 "metadata": {
  "kernelspec": {
   "display_name": "Python 3.8.13 ('ssa')",
   "language": "python",
   "name": "python3"
  },
  "language_info": {
   "codemirror_mode": {
    "name": "ipython",
    "version": 3
   },
   "file_extension": ".py",
   "mimetype": "text/x-python",
   "name": "python",
   "nbconvert_exporter": "python",
   "pygments_lexer": "ipython3",
   "version": "3.8.13 (default, Mar 28 2022, 06:59:08) [MSC v.1916 64 bit (AMD64)]"
  },
  "vscode": {
   "interpreter": {
    "hash": "688b9b30839bfaf806a86a795381ff2a51bf54ef46e418cbf12e72d6fb1893fe"
   }
  }
 },
 "nbformat": 4,
 "nbformat_minor": 5
}
