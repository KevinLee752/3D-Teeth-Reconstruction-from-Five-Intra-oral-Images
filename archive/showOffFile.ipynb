{
 "cells": [
  {
   "cell_type": "code",
   "execution_count": 1,
   "metadata": {},
   "outputs": [],
   "source": [
    "import numpy as np\n",
    "import igl\n",
    "import meshplot"
   ]
  },
  {
   "cell_type": "code",
   "execution_count": 3,
   "metadata": {},
   "outputs": [
    {
     "data": {
      "application/vnd.jupyter.widget-view+json": {
       "model_id": "e3a69da87e5b4514ae890fefa0f70252",
       "version_major": 2,
       "version_minor": 0
      },
      "text/plain": [
       "Renderer(camera=PerspectiveCamera(children=(DirectionalLight(color='white', intensity=0.6, position=(-14.14453…"
      ]
     },
     "metadata": {},
     "output_type": "display_data"
    },
    {
     "data": {
      "text/plain": [
       "<meshplot.Viewer.Viewer at 0x2637d02ad90>"
      ]
     },
     "execution_count": 3,
     "metadata": {},
     "output_type": "execute_result"
    }
   ],
   "source": [
    "v0, f0 = igl.read_triangle_mesh(\"F:/Smartee/data/format-obj/15/0.obj\")\n",
    "meshplot.plot(v0, f0, shading={\"wireframe\": True})"
   ]
  },
  {
   "cell_type": "code",
   "execution_count": 4,
   "metadata": {},
   "outputs": [
    {
     "data": {
      "application/vnd.jupyter.widget-view+json": {
       "model_id": "638ca954819949669df3f09765ac297a",
       "version_major": 2,
       "version_minor": 0
      },
      "text/plain": [
       "Renderer(camera=PerspectiveCamera(children=(DirectionalLight(color='white', intensity=0.6, position=(-20.81605…"
      ]
     },
     "metadata": {},
     "output_type": "display_data"
    },
    {
     "data": {
      "text/plain": [
       "<meshplot.Viewer.Viewer at 0x2637d02f550>"
      ]
     },
     "execution_count": 4,
     "metadata": {},
     "output_type": "execute_result"
    }
   ],
   "source": [
    "# ./hole_fixer/build/Release/hole_fixer.exe -in ./data/format-off/11/1.off -out test.off -outfaces 10000 -upsample 1\n",
    "# v, f = igl.read_triangle_mesh(\"./test.off\")\n",
    "v, f = igl.read_triangle_mesh(\"F:/Smartee/data/repaired-obj/15/1.obj\")\n",
    "meshplot.plot(v, f, shading={\"wireframe\": True})"
   ]
  },
  {
   "cell_type": "code",
   "execution_count": 26,
   "metadata": {},
   "outputs": [
    {
     "name": "stderr",
     "output_type": "stream",
     "text": [
      "C:\\Users\\11931\\AppData\\Local\\Temp/ipykernel_18000/2676378954.py:7: DeprecationWarning: `np.float` is a deprecated alias for the builtin `float`. To silence this warning, use `float` by itself. Doing this will not modify any behavior and is safe. If you specifically wanted the numpy scalar type, use `np.float64` here.\n",
      "Deprecated in NumPy 1.20; for more details and guidance: https://numpy.org/devdocs/release/1.20.0-notes.html#deprecations\n",
      "  vclean, fclean = pymeshfix.clean_from_arrays(v, f)\n"
     ]
    },
    {
     "data": {
      "application/vnd.jupyter.widget-view+json": {
       "model_id": "35575f6c8e2d45739d311be9ebf86d48",
       "version_major": 2,
       "version_minor": 0
      },
      "text/plain": [
       "Renderer(camera=PerspectiveCamera(children=(DirectionalLight(color='white', intensity=0.6, position=(-14.18702…"
      ]
     },
     "metadata": {},
     "output_type": "display_data"
    },
    {
     "data": {
      "text/plain": [
       "<meshplot.Viewer.Viewer at 0x26312ece700>"
      ]
     },
     "execution_count": 26,
     "metadata": {},
     "output_type": "execute_result"
    }
   ],
   "source": [
    "import numpy as np\n",
    "import igl\n",
    "import pymeshfix\n",
    "\n",
    "v, f = igl.read_triangle_mesh(\"F:/Smartee/data/repaired-obj/15/0.obj\")\n",
    "# v = igl.per_vertex_attribute_smoothing(v, f)\n",
    "vclean, fclean = pymeshfix.clean_from_arrays(v, f)\n",
    "avg_edge_length = igl.avg_edge_length(v, f)\n",
    "vsmooth = igl.per_vertex_attribute_smoothing(vclean, fclean)\n",
    "meshplot.plot(vsmooth, fclean, shading={\"wireframe\": True})"
   ]
  }
 ],
 "metadata": {
  "interpreter": {
   "hash": "b59ddad30d320a52e29629e830ee7ef7f51a90adebfe72edfd25158588069bba"
  },
  "kernelspec": {
   "display_name": "Python 3 (ipykernel)",
   "language": "python",
   "name": "python3"
  },
  "language_info": {
   "codemirror_mode": {
    "name": "ipython",
    "version": 3
   },
   "file_extension": ".py",
   "mimetype": "text/x-python",
   "name": "python",
   "nbconvert_exporter": "python",
   "pygments_lexer": "ipython3",
   "version": "3.8.12"
  }
 },
 "nbformat": 4,
 "nbformat_minor": 4
}
