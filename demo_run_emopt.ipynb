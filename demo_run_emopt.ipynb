{
 "cells": [
  {
   "cell_type": "code",
   "execution_count": 1,
   "id": "0dfcd905-5f2b-47d4-9a01-4b1453585d0e",
   "metadata": {},
   "outputs": [
    {
     "name": "stdout",
     "output_type": "stream",
     "text": [
      "Jupyter environment detected. Enabling Open3D WebVisualizer.\n",
      "[Open3D INFO] WebRTC GUI backend enabled.\n",
      "[Open3D INFO] WebRTCWindowSystem: HTTP handshake server disabled.\n"
     ]
    }
   ],
   "source": [
    "import os\n",
    "import sys\n",
    "import numpy as np\n",
    "import pandas as pd\n",
    "import csv\n",
    "import open3d as o3d\n",
    "from matplotlib import pyplot as plt\n",
    "import scipy\n",
    "import scipy.io\n",
    "import skimage\n",
    "import ssm_utils\n",
    "from recons_eval_metric import computeRMSE, computeRMSD, computeASSD, computeHD, computeChamferDistance\n",
    "import projection_utils as proj\n",
    "import functools\n",
    "import ray\n",
    "import psutil\n",
    "from projection_utils import PHOTO\n",
    "from emopt5views_parallel_rotvec_grad import EMOpt5Views"
   ]
  },
  {
   "cell_type": "code",
   "execution_count": 136,
   "id": "d099e47a-6525-4d35-9640-9ccd1f7f1ba1",
   "metadata": {},
   "outputs": [],
   "source": [
    "# SSM_DIR = r\"./data/cpdAlignedData/eigValVec/\" \n",
    "# CPD_ALIGNED_DIR = r\"./data/cpdAlignedData/\" \n",
    "# PARAM_DIR = r\"./data/params/\" \n",
    "# SRC_DIR = r\"./dataWithPhoto/cpdAlignedData/\"\n",
    "# SRC_PARAM_DIR = r\"./dataWithPhoto/params/\" \n",
    "\n",
    "SSM_DIR = r\"./data/cpdGpAlignedData/eigValVec/\" \n",
    "CPD_ALIGNED_DIR = r\"./data/cpdGpAlignedData/\" \n",
    "PARAM_DIR = r\"./data/cpdGpParams/\" \n",
    "SRC_DIR = r\"./dataWithPhoto/cpdGpAlignedData/\"\n",
    "SRC_PARAM_DIR = r\"./dataWithPhoto/cpdGpParams/\"\n",
    "\n",
    "NUM_PC = 10 # 3\n",
    "NUM_POINT = 1500\n",
    "PG_SHAPE = (NUM_POINT, 3)\n",
    "UPPER_INDICES = [11,12,13,14,15,16,17,21,22,23,24,25,26,27] #不考虑智齿18,28\n",
    "LOWER_INDICES = [31,32,33,34,35,36,37,41,42,43,44,45,46,47] #不考虑智齿38,48\n",
    "\n",
    "NAME_IDX_MAP_CSV = r\"./dataWithPhoto/nameIndexMapping.csv\"\n",
    "\n",
    "PG_NPY = os.path.join(SRC_PARAM_DIR, \"Y_pg.npy\")\n",
    "MASK_NPY = os.path.join(SRC_PARAM_DIR, \"X_mask.npy\")\n",
    "\n",
    "MATLAB_PATH = r\"./matlab_script\"\n",
    "\n",
    "TagID = 47\n",
    "FOLD_IDX = 5 # change this index each fold\n",
    "VERSION = \"v21\" # version of teeth silouette extraction model\n",
    "EDGE_MASK_PATH = r\"./dataWithPhoto/learning/fold{}/test/pred-{}/\".format(FOLD_IDX,VERSION)\n",
    "# EDGE_MASK_PATH = r\".\\dataWithPhoto\\normal_mask_v2\"\n",
    "STAGE0_MAT_DIR = os.path.join(MATLAB_PATH, \"stage0-mat\")\n",
    "# DEMO_H5_DIR = r\"./dataWithPhoto/demo/\"\n",
    "# DEMO_MESH_DIR = r\"./dataWithPhoto/demoMesh/\"\n",
    "NAME_IDX_CSV = pd.read_csv(NAME_IDX_MAP_CSV)\n",
    "\n",
    "# LOG_DIR = r\"./dataWithPhoto/log/\"\n",
    "# print = functools.partial(print, flush=True)\n",
    "\n",
    "# # Run it only once\n",
    "# ssm_utils.saveEigValVec(CPD_ALIGNED_DIR, NumPC2Save=100)\n",
    "\n",
    "# # Run it only once\n",
    "# src_invRegistrationParamDF = proj.loadInvRegistrationParams(loadDir=SRC_PARAM_DIR) # 加载待优化点云配准过程中的参数\n",
    "# Mu, SqrtEigVals, Sigma = proj.loadMuEigValSigma(SSM_DIR, numPC=NUM_PC)\n",
    "# Y_pg, X_mask, Y_scale, Y_rxyz, Y_txyz, Y_fVec = proj.loadDataSet(src_invRegistrationParamDF, Mu, Sigma, pgShape=PG_SHAPE, srcRootDir=SRC_DIR)\n",
    "# np.save(PG_NPY, np.array(Y_pg))\n",
    "# np.save(MASK_NPY, np.array(X_mask))"
   ]
  },
  {
   "cell_type": "code",
   "execution_count": 137,
   "id": "2b694194-fff5-416c-a776-d44b565d1c27",
   "metadata": {},
   "outputs": [
    {
     "name": "stdout",
     "output_type": "stream",
     "text": [
      "TagID:  47\n",
      "['./dataWithPhoto/learning/fold5/test/pred-v21/曾思棋_219446_上牙列.png', './dataWithPhoto/learning/fold5/test/pred-v21/曾思棋_219446_下牙列.png', './dataWithPhoto/learning/fold5/test/pred-v21/曾思棋_219446_左侧咬合.png', './dataWithPhoto/learning/fold5/test/pred-v21/曾思棋_219446_右侧咬合.png', './dataWithPhoto/learning/fold5/test/pred-v21/曾思棋_219446_正位像.png']\n",
      "scaleStd: 0.0665, transVecStd: 1.1463, rotVecStd: 0.1391\n"
     ]
    }
   ],
   "source": [
    "# phase 0: grid search parallelled by Ray\n",
    "# phase 1: stage 0,1,2,3 optimization by scipy\n",
    "\n",
    "print(\"TagID: \", TagID)\n",
    "\n",
    "# 顺序相互对应\n",
    "photo_types = [\"upperPhoto\",\"lowerPhoto\",\"leftPhoto\",\"rightPhoto\",\"frontalPhoto\"]\n",
    "edgeMasks = proj.getEdgeMask(EDGE_MASK_PATH, NAME_IDX_CSV, TagID, photo_types, resized_width=800, binary=True, activation_thre=0.1)\n",
    "# proj.visualizeEdgeMasks(edgeMasks, photo_types)\n",
    "\n",
    "Mu, SqrtEigVals, Sigma = proj.loadMuEigValSigma(SSM_DIR, numPC=NUM_PC)\n",
    "Mu_normals = EMOpt5Views.computePointNormals(Mu)\n",
    "\n",
    "invRegistrationParamDF = proj.loadInvRegistrationParams(loadDir=PARAM_DIR) # 加载配准过程中的参数\n",
    "invParamDF = proj.updateAbsTransVecs(invRegistrationParamDF, Mu) # 将牙列scale转化为每颗牙齿的位移，将每颗牙齿的transVecXYZs在局部坐标系下进行表达\n",
    "\n",
    "invScaleMeans, invScaleVars, invRotVecXYZMeans, invRotVecXYZVars, invTransVecXYZMeans, invTransVecXYZVars = proj.getMeanAndVarianceOfInvRegistrationParams(invParamDF)\n",
    "scaleStds = np.sqrt(invScaleVars)\n",
    "transVecStds = np.sqrt(invTransVecXYZVars)\n",
    "rotVecStds = np.sqrt(invRotVecXYZVars)\n",
    "print(\"scaleStd: {:.4f}, transVecStd: {:.4f}, rotVecStd: {:.4f}\".format(scaleStds.mean(), transVecStds.mean(), rotVecStds.mean()))\n",
    "\n",
    "PoseCovMats = proj.GetPoseCovMats(invParamDF, toothIndices=UPPER_INDICES+LOWER_INDICES) # 每个位置的牙齿的6个变换参数的协方差矩阵,shape=(28,6,6)\n",
    "ScaleCovMat = proj.GetScaleCovMat(invParamDF, toothIndices=UPPER_INDICES+LOWER_INDICES) # 牙齿scale的协方差矩阵,shape=(28,28)\n",
    "\n",
    "Mask = proj.GetMaskByTagId(MASK_NPY, TagId=TagID)\n",
    "# reference pointcloud\n",
    "PG_Ref = proj.GetPGByTagId(PG_NPY, TagId=TagID)\n",
    "X_Ref = PG_Ref[Mask]"
   ]
  },
  {
   "cell_type": "code",
   "execution_count": 138,
   "id": "80bbea57-4b80-4d37-8d78-835c73d701e2",
   "metadata": {
    "tags": []
   },
   "outputs": [
    {
     "name": "stdout",
     "output_type": "stream",
     "text": [
      "----------------------------------------------------------------------------------------------------\n",
      "Start optimization.\n"
     ]
    }
   ],
   "source": [
    "# Optimization\n",
    "\n",
    "print(\"-\"*100)\n",
    "print(\"Start optimization.\")\n",
    "# 初始化\n",
    "photoTypes = [PHOTO.UPPER, PHOTO.LOWER, PHOTO.LEFT, PHOTO.RIGHT, PHOTO.FRONTAL]\n",
    "VISIBLE_MASKS = [proj.MASK_UPPER, proj.MASK_LOWER, proj.MASK_LEFT, proj.MASK_RIGHT, proj.MASK_FRONTAL]\n",
    "emopt = EMOpt5Views(edgeMasks, photoTypes, VISIBLE_MASKS, Mask, Mu, Mu_normals, SqrtEigVals, Sigma, PoseCovMats, ScaleCovMat, transVecStds.mean(), rotVecStds.mean())\n",
    "\n",
    "stage0initMatFile = os.path.join(STAGE0_MAT_DIR, \"E-step-result-stage0-init-{}.mat\".format(TagID))\n",
    "stage0finalMatFile = os.path.join(STAGE0_MAT_DIR, \"TEMP-E-step-result-stage0-final.mat\")\n",
    "# stage2initMatFile = os.path.join(STAGE0_MAT_DIR, \"E-step-result-stage2-init-{}.mat\".format(TagID))\n",
    "\n",
    "\n",
    "# print(\"num of observed edge points: \", emopt.M)\n",
    "# print(\"ex_rxyz: \", emopt.ex_rxyz)\n",
    "# print(\"ex_txyz: \", emopt.ex_txyz)\n",
    "# print(\"rela_rxyz: \", emopt.rela_rxyz)\n",
    "# print(\"rela_txyz: \", emopt.rela_txyz)\n",
    "# print(\"focal length: \", emopt.focLth)\n",
    "# print(\"d_pixel: \", emopt.dpix)\n",
    "# print(\"u0: {}, v0: {}\".format(emopt.u0, emopt.v0))\n",
    "# print(\"[RMSE] Root Mean Squared Surface Distance(mm): {:.4f}\".format(computeRMSE(emopt.X_trans, X_Ref)))\n",
    "# print(\"[ASSD] average symmetric surface distance (mm): {:.4f}\".format(computeASSD(emopt.X_trans, X_Ref)))\n",
    "# print(\"[HD] Hausdorff distance (mm): {:.4f}\".format(computeHD(emopt.X_trans, X_Ref)))"
   ]
  },
  {
   "cell_type": "code",
   "execution_count": 9,
   "id": "2990c555-5cd0-46ee-9ecf-91e23f6a410c",
   "metadata": {
    "jupyter": {
     "source_hidden": true
    },
    "tags": []
   },
   "outputs": [],
   "source": [
    "# phase 0: grid search parallelled by Ray\n",
    "\n",
    "\n",
    "print(\"-\"*100)\n",
    "print(\"Start Grid Search.\")\n",
    "\n",
    "# parallel function supported by Ray\n",
    "emopt.searchDefaultRelativePoseParams()\n",
    "emopt.gridSearchExtrinsicParams()\n",
    "emopt.gridSearchRelativePoseParams()\n",
    "\n",
    "print(\"ex_rxyz: \", emopt.ex_rxyz)\n",
    "print(\"ex_txyz: \", emopt.ex_txyz)\n",
    "print(\"rela_rxyz: \", emopt.rela_rxyz)\n",
    "print(\"rela_txyz: \", emopt.rela_txyz)\n",
    "print(\"focal length: \", emopt.focLth)\n",
    "print(\"d_pixel: \", emopt.dpix)\n",
    "print(\"u0: {}, v0: {}\".format(emopt.u0, emopt.v0))\n",
    "emopt.expectation_step_5Views(-1, verbose=True)\n",
    "\n",
    "# emopt.save_expectation_step_result_with_XRef(stage0initMatFile, X_Ref)"
   ]
  },
  {
   "cell_type": "code",
   "execution_count": 139,
   "id": "890ffe83-1374-4bf1-ba24-a815529b0d8f",
   "metadata": {
    "scrolled": true,
    "tags": []
   },
   "outputs": [
    {
     "name": "stdout",
     "output_type": "stream",
     "text": [
      "----------------------------------------------------------------------------------------------------\n",
      "Start Stage 0.\n",
      "PHOTO.UPPER - unique pred points: 1083 - E-step loss: 42.88\n",
      "PHOTO.LOWER - unique pred points: 956 - E-step loss: 33.09\n",
      "PHOTO.LEFT - unique pred points: 818 - E-step loss: 48.09\n",
      "PHOTO.RIGHT - unique pred points: 865 - E-step loss: 45.73\n",
      "PHOTO.FRONTAL - unique pred points: 1144 - E-step loss: 46.07\n",
      "Root Mean Squared Surface Distance(mm): 1.5960\n"
     ]
    }
   ],
   "source": [
    "# phase 1: stage 0 & 1 optimization by Matlab\n",
    "\n",
    "\n",
    "maxiter = 20\n",
    "stageIter = [10,5,10]\n",
    "\n",
    "print(\"-\"*100)\n",
    "print(\"Start Stage 0.\")\n",
    "# Continue from checkpoint \"E-step-result-stage0-init-{}.mat\"\n",
    "stage = 0\n",
    "emopt.load_expectation_step_result(stage0initMatFile, stage)\n",
    "emopt.expectation_step_5Views(stage, verbose=True)\n",
    "print(\"Root Mean Squared Surface Distance(mm): {:.4f}\".format(computeRMSE(emopt.X_trans, X_Ref)))        "
   ]
  },
  {
   "cell_type": "code",
   "execution_count": null,
   "id": "823ca1cf-4eee-4e18-a0d6-c9afa5d3d75e",
   "metadata": {
    "jupyter": {
     "source_hidden": true
    },
    "scrolled": true,
    "tags": []
   },
   "outputs": [],
   "source": [
    "E_loss = []\n",
    "for it in range(stageIter[0]):\n",
    "    emopt.maximization_step_5Views(stage, step=-1, maxiter=maxiter, verbose=False)\n",
    "\n",
    "    print(\"M-step loss: {:.4f}\".format(emopt.loss_maximization_step))\n",
    "    emopt.expectation_step_5Views(stage, verbose=True)\n",
    "    e_loss = np.sum(emopt.weightViews * emopt.loss_expectation_step)\n",
    "    print(\"Sum of expectation step loss: {:.4f}\".format(e_loss))\n",
    "    print(\"iteration: {}, real Root Mean Squared Surface Distance(mm): {:.4f}\".format(it, computeRMSE(emopt.X_trans, X_Ref)))\n",
    "    if len(E_loss)>=2 and e_loss>=np.mean(E_loss[-2:]):\n",
    "        print(\"Early stop with last 3 e-step loss {:.4f}, {:.4f}, {:.4f}\".format(E_loss[-2],E_loss[-1],e_loss))\n",
    "        E_loss.append(e_loss)\n",
    "        break\n",
    "    else:\n",
    "        E_loss.append(e_loss)\n",
    "        \n",
    "# emopt.save_expectation_step_result_with_XRef(stage0finalMatFile, X_Ref)"
   ]
  },
  {
   "cell_type": "code",
   "execution_count": null,
   "id": "49444a23-1a50-49bb-be00-78413b9f4d12",
   "metadata": {
    "jupyter": {
     "source_hidden": true
    },
    "scrolled": true,
    "tags": []
   },
   "outputs": [],
   "source": [
    "skipStage1Flag = False\n",
    "print(\"-\"*100)\n",
    "print(\"Start Stage 1.\")\n",
    "\n",
    "stage = 1\n",
    "for it in range(stageIter[1]): \n",
    "    emopt.maximization_step_5Views(stage, step=-1, maxiter=maxiter, verbose=False)\n",
    "\n",
    "    print(\"M-step loss: {:.4f}\".format(emopt.loss_maximization_step))\n",
    "    emopt.expectation_step_5Views(stage, verbose=True)\n",
    "    e_loss = np.sum(emopt.weightViews * emopt.loss_expectation_step)\n",
    "    print(\"Sum of expectation step loss: {:.4f}\".format(e_loss))\n",
    "    print(\"iteration: {}, real Root Mean Squared Surface Distance(mm): {:.4f}\".format(it, computeRMSE(emopt.X_trans, X_Ref)))\n",
    "    if e_loss >= E_loss[-1]: # len(E_loss)>=2 and e_loss>=np.mean(E_loss[-2:]):\n",
    "        # 判断条件1：是否跳过stage1\n",
    "        if it == 0:\n",
    "            skipStage1Flag = True # first optimization with rowScaleXZ gets worse result compared with optimziaiton without rowScaleXZ\n",
    "        print(\"Early stop with last 3 e-step loss {:.4f}, {:.4f}, {:.4f}\".format(E_loss[-2],E_loss[-1],e_loss))\n",
    "        break\n",
    "    else:\n",
    "        E_loss.append(e_loss)\n",
    "\n",
    "\n",
    "print(\"emopt.rowScaleXZ: \", emopt.rowScaleXZ)\n",
    "print(\"approx tooth scale: \", np.prod(emopt.rowScaleXZ)**(1/3))"
   ]
  },
  {
   "cell_type": "code",
   "execution_count": null,
   "id": "c040b989-ec14-4edc-b1b5-c6dd8e5ee9d8",
   "metadata": {
    "jupyter": {
     "source_hidden": true
    },
    "tags": []
   },
   "outputs": [],
   "source": [
    "# 判断是否跳过stage1\n",
    "if skipStage1Flag == True:\n",
    "    print(\"Skip Stage 1; Reverse to Stage 0 final result.\")\n",
    "    emopt.rowScaleXZ = np.ones((2,))\n",
    "    emopt.load_expectation_step_result(stage0finalMatFile, stage=2)\n",
    "    emopt.expectation_step_5Views(stage, verbose=True)\n",
    "else:\n",
    "    print(\"Accept Stage 1.\")\n",
    "    emopt.anistropicRowScale2ScalesAndTransVecs()      \n",
    "print(\"iteration: {}, real Root Mean Squared Surface Distance(mm): {:.4f}\".format(it, computeRMSE(emopt.X_trans, X_Ref)))\n",
    "\n",
    "# 保存用于phase2的初始变量\n",
    "# emopt.save_expectation_step_result_with_XRef(stage2initMatFile, X_Ref)"
   ]
  },
  {
   "cell_type": "code",
   "execution_count": null,
   "id": "b9fbac39-233f-448c-88c3-16bc308b0a1d",
   "metadata": {
    "jupyter": {
     "source_hidden": true
    },
    "scrolled": true,
    "tags": []
   },
   "outputs": [],
   "source": [
    "# Stage = 2\n",
    "print(\"-\"*100)\n",
    "print(\"Start Stage 2.\")\n",
    "stage = 2\n",
    "\n",
    "# # load previous data\n",
    "# emopt.load_expectation_step_result(stage2initMatFile, stage)\n",
    "emopt.expectation_step_5Views(stage, verbose=True)\n",
    "\n",
    "\n",
    "E_loss = []\n",
    "for it in range(stageIter[2]):\n",
    "    # emopt.maximization_step_5Views(stage=2, step=4, maxiter=maxiter, verbose=False)\n",
    "    emopt.maximization_step_5Views(stage, step=2, maxiter=maxiter, verbose=False)\n",
    "    emopt.maximization_step_5Views(stage, step=3, maxiter=maxiter, verbose=False)\n",
    "    emopt.maximization_step_5Views(stage=3, step=-1, maxiter=maxiter, verbose=False)\n",
    "    emopt.maximization_step_5Views(stage, step=1, maxiter=maxiter, verbose=False)\n",
    "    print(\"M-step loss: {:.4f}\".format(emopt.loss_maximization_step))\n",
    "    emopt.expectation_step_5Views(stage=3, verbose=True)\n",
    "    e_loss = np.sum(emopt.weightViews * emopt.loss_expectation_step)\n",
    "    print(\"Sum of expectation step loss: {:.4f}\".format(e_loss))\n",
    "    print(\"iteration: {}, real Root Mean Squared Surface Distance(mm): {:.4f}\".format(it, computeRMSE(emopt.X_trans, X_Ref)))\n",
    "    if len(E_loss)>=2 and (e_loss>=np.mean(E_loss[-2:])):\n",
    "        print(\"Early stop with last 3 e-step loss {:.4f}, {:.4f}, {:.4f}\".format(E_loss[-2],E_loss[-1],e_loss))\n",
    "        break\n",
    "    else:\n",
    "        E_loss.append(e_loss)\n",
    "\n",
    "\n",
    "print(\"[RMSE] Root Mean Squared Surface Distance(mm): {:.4f}\".format(computeRMSE(X_Ref, emopt.X_trans)))\n",
    "print(\"[ASSD] average symmetric surface distance (mm): {:.4f}\".format(computeASSD(X_Ref, emopt.X_trans)))\n",
    "print(\"[HD] Hausdorff distance (mm): {:.4f}\".format(computeHD(X_Ref, emopt.X_trans)))"
   ]
  },
  {
   "cell_type": "code",
   "execution_count": null,
   "id": "f811ca99-7278-48d1-b64c-ab7340ec1fad",
   "metadata": {
    "jupyter": {
     "source_hidden": true
    },
    "tags": []
   },
   "outputs": [],
   "source": [
    "print(\"-\"*100)\n",
    "print(\"Evaluation.\")\n",
    "\n",
    "invRotVecXYZVars = invRotVecXYZVars.reshape(-1,3)\n",
    "invTransVecXYZVars = invTransVecXYZVars.reshape(-1,3)\n",
    "print(\"standard transVecXYZs:\")\n",
    "print((emopt.transVecXYZs - emopt.meanTransVecXYZs) / np.sqrt(invTransVecXYZVars[Mask]))\n",
    "print(\"standard rotVecXYZs:\")\n",
    "print((emopt.rotVecXYZs - emopt.meanRotVecXYZs) / np.sqrt(invRotVecXYZVars[Mask]))\n",
    "print(\"scales:\")\n",
    "print(emopt.scales)\n",
    "print(\"feature vectors:\")\n",
    "print(emopt.featureVec)\n",
    "\n",
    "# 不考虑第二磨牙\n",
    "withoutSecondMolarMask = np.tile(np.array([1,1,1,1,1,1,0],dtype=np.bool_),(4,))\n",
    "print(\"Without Second Molar, Root Mean Squared Surface Distance(mm): {:.4f}\".format(computeRMSE(emopt.X_trans[withoutSecondMolarMask[Mask]], X_Ref[withoutSecondMolarMask[Mask]])))\n",
    "\n",
    "# # Save Demo Result\n",
    "\n",
    "# demoH5File = os.path.join(DEMO_H5_DIR, \"demo_TagID={}.h5\".format(TagID))\n",
    "# emopt.saveDemo2H5(demoH5File, TagID, X_Ref)"
   ]
  },
  {
   "cell_type": "code",
   "execution_count": 153,
   "id": "fac7d5df-3845-4d08-b211-caace2c3043e",
   "metadata": {
    "tags": []
   },
   "outputs": [],
   "source": [
    "def showEdgeMaskPredictionWithGroundTruth(emopt, photoType, canvasShape=None, dilate=True):\n",
    "    # red: prediction, white: ground truth\n",
    "    ph = photoType.value\n",
    "    if not bool(canvasShape):\n",
    "        canvasShape = emopt.edgeMask[ph].shape\n",
    "    canvas = np.zeros((*canvasShape,3), dtype=np.float64)\n",
    "    h, w = emopt.edgeMask[ph].shape\n",
    "    canvas[:h,:w,:] = emopt.edgeMask[ph][:,:,None] # white: ground truth\n",
    "\n",
    "    edgePred = np.zeros(canvasShape, dtype=np.float64)\n",
    "    pix_pred = emopt.P_pred[ph].astype(np.int32)\n",
    "    edgePred[pix_pred[:,1], pix_pred[:,0]] = 1. # red: edge prediction\n",
    "    if dilate == True:\n",
    "        edgePred = skimage.morphology.binary_dilation(edgePred, skimage.morphology.disk(2)) # dilation edge prediction for visualization\n",
    "    canvas[:,:,0] = np.max(np.stack([edgePred,canvas[:,:,0]]), axis=0)\n",
    "\n",
    "    plt.figure(figsize = (10,10))\n",
    "    plt.axis('off')\n",
    "    plt.imshow(canvas)\n",
    "    return canvas\n",
    "\n",
    "def showEdgePrediction(emopt, photoType, canvasShape=None, dilate=True):\n",
    "    # red: prediction, white: ground truth\n",
    "    ph = photoType.value\n",
    "    if not bool(canvasShape):\n",
    "        canvasShape = emopt.edgeMask[ph].shape\n",
    "    canvas = np.zeros((*canvasShape,3), dtype=np.float64)\n",
    "    h, w = emopt.edgeMask[ph].shape\n",
    "    # canvas[:h,:w,:] = emopt.edgeMask[ph][:,:,None] # white: ground truth\n",
    "\n",
    "    edgePred = np.zeros(canvasShape, dtype=np.float64)\n",
    "    pix_pred = emopt.P_pred[ph].astype(np.int32)\n",
    "    edgePred[pix_pred[:,1], pix_pred[:,0]] = 1. # red: edge prediction\n",
    "    if dilate == True:\n",
    "        edgePred = skimage.morphology.binary_dilation(edgePred, skimage.morphology.disk(3)) # dilation edge prediction for visualization\n",
    "    canvas[:,:,0] = edgePred\n",
    "\n",
    "    plt.figure(figsize = (10,10))\n",
    "    plt.axis('off')\n",
    "    plt.imshow(canvas)\n",
    "    return canvas\n",
    "\n",
    "def showPointCorrespondence(emopt, photoType, canvasShape=None, dilate=True, filtering=True):\n",
    "    # red: prediction, white: ground truth\n",
    "    ph = photoType.value\n",
    "    if not bool(canvasShape):\n",
    "        canvasShape = emopt.edgeMask[ph].shape\n",
    "    canvas = np.zeros((*canvasShape,3), dtype=np.float64)\n",
    "    h, w = emopt.edgeMask[ph].shape\n",
    "    canvas[:h,:w,:] = emopt.edgeMask[ph][:,:,None] # white: ground truth\n",
    "\n",
    "    edgePred = np.zeros(canvasShape, dtype=np.float64)\n",
    "    pix_pred = emopt.P_pred[ph].astype(np.int32)\n",
    "    edgePred[pix_pred[:,1], pix_pred[:,0]] = 1. # red: edge prediction\n",
    "    if dilate == True:\n",
    "        edgePred = skimage.morphology.binary_dilation(edgePred, skimage.morphology.disk(2)) # dilation edge prediction for visualization\n",
    "        \n",
    "    line_img = np.zeros(canvasShape, dtype=np.float64)\n",
    "    pred_ids = emopt.corre_pred_idx[ph]\n",
    "    p_true = emopt.P_true_99_percentile[ph]\n",
    "    if not filtering:\n",
    "        p_true = emopt.P_true[ph]\n",
    "    for i in range(p_true.shape[0]):\n",
    "        j = pred_ids[i]\n",
    "        if i % 2 == 0:\n",
    "            rr, cc = skimage.draw.line(pix_pred[j,1],pix_pred[j,0],p_true[i,1],p_true[i,0])\n",
    "            line_img[rr,cc] = 1.\n",
    "        \n",
    "    canvas[:,:,0] = np.maximum(edgePred,canvas[:,:,0])\n",
    "    canvas[:,:,1] = np.maximum(line_img, canvas[:,:,1])\n",
    "    \n",
    "    plt.figure(figsize = (10,10))\n",
    "    plt.axis('off')\n",
    "    plt.imshow(canvas)\n",
    "    return canvas\n",
    "\n",
    "def EMOPT_expectation_step_5Views(emopt, stage, use_percentile=False, verbose=True):\n",
    "    # 根据新的edgePredcition计算对应点对关系,对5张图同时进行\n",
    "    tIdx = [i for i in range(emopt.numTooth)]\n",
    "    emopt.updateAlignedPointCloudInWorldCoord(stage, tIdx)\n",
    "    for photoType in emopt.photoTypes:\n",
    "        emopt.updateEdgePrediction(photoType)\n",
    "        emopt.expectation(photoType, verbose, use_percentile=False)"
   ]
  },
  {
   "cell_type": "code",
   "execution_count": null,
   "id": "c8ad13e7-00ce-41af-acc5-afe0e593b8f5",
   "metadata": {},
   "outputs": [],
   "source": [
    "emopt.expectation_step_5Views(stage=2, verbose=True)\n",
    "for ptype in emopt.photoTypes:\n",
    "    _ = showPointCorrespondence(emopt, ptype, canvasShape=None, dilate=True)"
   ]
  },
  {
   "cell_type": "code",
   "execution_count": null,
   "id": "bd48d253-2ba3-4682-9ee6-9776c45472e9",
   "metadata": {},
   "outputs": [],
   "source": [
    "EMOPT_expectation_step_5Views(emopt, stage=2, use_percentile=False, verbose=True)\n",
    "for ptype in emopt.photoTypes:\n",
    "    _ = showPointCorrespondence(emopt, ptype, canvasShape=None, dilate=True, filtering=False)"
   ]
  },
  {
   "cell_type": "code",
   "execution_count": null,
   "id": "bbe9cfcb-c416-4d90-921a-bc85d3eb245b",
   "metadata": {},
   "outputs": [],
   "source": [
    "for ptype in emopt.photoTypes:\n",
    "    _ = showEdgeMaskPredictionWithGroundTruth(emopt, ptype, canvasShape=None, dilate=True)"
   ]
  },
  {
   "cell_type": "code",
   "execution_count": 14,
   "id": "4305a0e4-cce4-400a-b123-5ba35add1c1e",
   "metadata": {},
   "outputs": [
    {
     "data": {
      "image/png": "[encoded data removed]",
      "text/plain": [
       "<Figure size 720x720 with 1 Axes>"
      ]
     },
     "metadata": {
      "needs_background": "light"
     },
     "output_type": "display_data"
    }
   ],
   "source": [
    "_ = showEdgePrediction(emopt, PHOTO.FRONTAL, canvasShape=None, dilate=True)"
   ]
  },
  {
   "cell_type": "code",
   "execution_count": null,
   "id": "c76d50de-ee51-4b7b-9c01-18dbb40ea14e",
   "metadata": {},
   "outputs": [],
   "source": []
  }
 ],
 "metadata": {
  "kernelspec": {
   "display_name": "Python 3 (ipykernel)",
   "language": "python",
   "name": "python3"
  },
  "language_info": {
   "codemirror_mode": {
    "name": "ipython",
    "version": 3
   },
   "file_extension": ".py",
   "mimetype": "text/x-python",
   "name": "python",
   "nbconvert_exporter": "python",
   "pygments_lexer": "ipython3",
   "version": "3.8.13"
  },
  "vscode": {
   "interpreter": {
    "hash": "155322850f846b077c82dc90a7bcb5d4c9cfffa5311391ac2984eabe86500ad2"
   }
  }
 },
 "nbformat": 4,
 "nbformat_minor": 5
}
