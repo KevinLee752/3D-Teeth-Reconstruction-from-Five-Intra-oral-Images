{
 "cells": [
  {
   "cell_type": "code",
   "execution_count": 1,
   "id": "41c88692-b031-4eac-8b4c-7a0f135fee4b",
   "metadata": {},
   "outputs": [
    {
     "name": "stdout",
     "output_type": "stream",
     "text": [
      "Jupyter environment detected. Enabling Open3D WebVisualizer.\n",
      "[Open3D INFO] WebRTC GUI backend enabled.\n",
      "[Open3D INFO] WebRTCWindowSystem: HTTP handshake server disabled.\n"
     ]
    }
   ],
   "source": [
    "import cycpd\n",
    "import matplotlib.pyplot as plt\n",
    "import pycpd\n",
    "import numpy as np\n",
    "import os\n",
    "import glob\n",
    "import scipy\n",
    "import shutil\n",
    "import open3d as o3d\n",
    "import time\n",
    "import h5py\n",
    "import utils\n",
    "from utils import rotationMatrixToEulerAngles, voxelDownSample, fixedNumDownSample, farthestPointDownSample, showPointCloud, surfaceVertices2WatertightO3dMesh,\\\n",
    "    getEigValVecOfSSMByPCA, remainedInfoRatio, visualizeCompactnessOfSSM, saveAlignedPointGroups2Txt, loadAlignedPointGroupsWithIndex"
   ]
  },
  {
   "cell_type": "code",
   "execution_count": 2,
   "id": "02ecfced-3cc5-4bda-a9bd-3d8537fab34c",
   "metadata": {},
   "outputs": [],
   "source": [
    "def zeroCentered(X):\n",
    "    return X-np.mean(X,axis=0)\n",
    "\n",
    "def getCorrePointPairs(X, Y):\n",
    "    assert len(X) <= len(Y), \"Num of point in X > Num of point in Y !\"\n",
    "    N = len(X)\n",
    "    pointPairs = []\n",
    "    dists = scipy.spatial.distance_matrix(X, Y, p=2, threshold=int(1e8))\n",
    "    for i in range(N): #顺序贪婪（快）\n",
    "        j = np.argmin(dists[i,:])\n",
    "        pointPairs.append((i, j)) # i:ref index, j: mov index\n",
    "        dists[:,j] = np.inf\n",
    "    return np.array(pointPairs, dtype=np.uint32)\n",
    "\n",
    "def extractCorreMovPoints(pMov, pointPairs):\n",
    "    return pMov[pointPairs[:,1], :]"
   ]
  },
  {
   "cell_type": "markdown",
   "id": "b5f3b8e3-a5a8-4a0f-9972-3bca73b15aea",
   "metadata": {
    "jp-MarkdownHeadingCollapsed": true,
    "tags": []
   },
   "source": [
    "## pycpd/cycpd registration test"
   ]
  },
  {
   "cell_type": "code",
   "execution_count": 3,
   "id": "07d59501-8d72-4fd7-9dfd-3806865bed12",
   "metadata": {},
   "outputs": [],
   "source": [
    "# files = glob.glob(os.path.join(r\"F:\\Smartee\\data\\cpdAlignedData\\16\", \"1*.txt\"))\n",
    "# files = glob.glob(os.path.join(r\"F:\\Smartee\\data-refined\\repaired-txt\\17\", \"*.txt\"))\n",
    "# files = glob.glob(os.path.join(r\"F:\\Smartee\\data\\ssa-repaired-txt\\41\", \"2*.txt\"))\n",
    "# Xs = [np.loadtxt(f) for f in files]\n",
    "# for x,f in zip(Xs,files):\n",
    "#     showPointCloud(x, f)"
   ]
  },
  {
   "cell_type": "code",
   "execution_count": 3,
   "id": "396e4e04-d11e-4233-bab0-c59bec9c3039",
   "metadata": {
    "tags": []
   },
   "outputs": [
    {
     "name": "stdout",
     "output_type": "stream",
     "text": [
      "X shape:  (1500, 3)\n",
      "Y shape:  (3000, 3)\n"
     ]
    }
   ],
   "source": [
    "# kwargs = {'iteration': self.iteration,'error': self.q, 'X': self.X, 'Y': self.TY}\n",
    "def callbackOnIteration(iteration, error, X, Y):\n",
    "    print(\"iteration: {}, error: {}.\".format(iteration,error))\n",
    "\n",
    "X = np.loadtxt(r\".\\data\\ssa-repaired-txt\\11\\27U.txt\")\n",
    "# X = fixedNumDownSample(X, desiredNumOfPoint=1500, leftVoxelSize=0.7, rightVoxelSize=0.1)\n",
    "X = farthestPointDownSample(X, 1500)\n",
    "Y = np.loadtxt(r\".\\data\\ssa-repaired-txt\\11\\28U.txt\")\n",
    "Y = farthestPointDownSample(Y, 3000)\n",
    "print(\"X shape: \", X.shape)\n",
    "print(\"Y shape: \", Y.shape)"
   ]
  },
  {
   "cell_type": "code",
   "execution_count": 4,
   "id": "e254d155-40f0-4de3-a659-66d3f405eade",
   "metadata": {
    "scrolled": true,
    "tags": []
   },
   "outputs": [
    {
     "name": "stdout",
     "output_type": "stream",
     "text": [
      "Iteration:1\n",
      "ML: -5100.622; \tML change (error):  5100.622; \tSigma^2:     3.770; \tSigma^2 change:     6.318\n",
      "[                                                                        ]\n",
      "Iteration:2\n",
      "ML: -6392.064; \tML change (error):  1291.442; \tSigma^2:     3.538; \tSigma^2 change:     0.232\n",
      "[=                                                                       ]\n",
      "Iteration:3\n",
      "ML: -6417.507; \tML change (error):    25.443; \tSigma^2:     3.303; \tSigma^2 change:     0.235\n",
      "[==                                                                      ]\n",
      "Iteration:4\n",
      "ML: -6445.311; \tML change (error):    27.804; \tSigma^2:     3.021; \tSigma^2 change:     0.282\n",
      "[==                                                                      ]\n",
      "Iteration:5\n",
      "ML: -6484.110; \tML change (error):    38.799; \tSigma^2:     2.696; \tSigma^2 change:     0.325\n",
      "[===                                                                     ]\n",
      "Iteration:6\n",
      "ML: -6537.174; \tML change (error):    53.064; \tSigma^2:     2.341; \tSigma^2 change:     0.355\n",
      "[====                                                                    ]\n",
      "Iteration:7\n",
      "ML: -6606.674; \tML change (error):    69.500; \tSigma^2:     1.978; \tSigma^2 change:     0.362\n",
      "[=====                                                                   ]\n",
      "Iteration:8\n",
      "ML: -6692.634; \tML change (error):    85.960; \tSigma^2:     1.633; \tSigma^2 change:     0.345\n",
      "[=====                                                                   ]\n",
      "Iteration:9\n",
      "ML: -6792.968; \tML change (error):   100.334; \tSigma^2:     1.324; \tSigma^2 change:     0.310\n",
      "[======                                                                  ]\n",
      "Iteration:10\n",
      "ML: -6905.091; \tML change (error):   112.124; \tSigma^2:     1.057; \tSigma^2 change:     0.267\n",
      "[=======                                                                 ]\n",
      "Iteration:11\n",
      "ML: -7027.552; \tML change (error):   122.461; \tSigma^2:     0.833; \tSigma^2 change:     0.224\n",
      "[=======                                                                 ]\n",
      "Iteration:12\n",
      "ML: -7160.070; \tML change (error):   132.518; \tSigma^2:     0.649; \tSigma^2 change:     0.184\n",
      "[========                                                                ]\n",
      "Iteration:13\n",
      "ML: -7302.189; \tML change (error):   142.119; \tSigma^2:     0.500; \tSigma^2 change:     0.148\n",
      "[=========                                                               ]\n",
      "Iteration:14\n",
      "ML: -7451.759; \tML change (error):   149.570; \tSigma^2:     0.384; \tSigma^2 change:     0.117\n",
      "[==========                                                              ]\n",
      "Iteration:15\n",
      "ML: -7604.296; \tML change (error):   152.537; \tSigma^2:     0.294; \tSigma^2 change:     0.089\n",
      "[==========                                                              ]\n",
      "Iteration:16\n",
      "ML: -7753.507; \tML change (error):   149.211; \tSigma^2:     0.227; \tSigma^2 change:     0.067\n",
      "[===========                                                             ]\n",
      "Iteration:17\n",
      "ML: -7892.491; \tML change (error):   138.985; \tSigma^2:     0.178; \tSigma^2 change:     0.049\n",
      "[============                                                            ]\n",
      "Iteration:18\n",
      "ML: -8015.079; \tML change (error):   122.588; \tSigma^2:     0.142; \tSigma^2 change:     0.036\n",
      "[============                                                            ]\n",
      "Iteration:19\n",
      "ML: -8116.978; \tML change (error):   101.899; \tSigma^2:     0.117; \tSigma^2 change:     0.026\n",
      "[=============                                                           ]\n",
      "Iteration:20\n",
      "ML: -8196.510; \tML change (error):    79.532; \tSigma^2:     0.099; \tSigma^2 change:     0.018\n",
      "[==============                                                          ]\n",
      "Iteration:21\n",
      "ML: -8254.709; \tML change (error):    58.199; \tSigma^2:     0.086; \tSigma^2 change:     0.013\n",
      "[===============                                                         ]\n",
      "Iteration:22\n",
      "ML: -8294.717; \tML change (error):    40.008; \tSigma^2:     0.077; \tSigma^2 change:     0.009\n",
      "[===============                                                         ]\n",
      "Iteration:23\n",
      "ML: -8320.720; \tML change (error):    26.003; \tSigma^2:     0.071; \tSigma^2 change:     0.006\n",
      "[================                                                        ]\n",
      "Iteration:24\n",
      "ML: -8336.879; \tML change (error):    16.159; \tSigma^2:     0.066; \tSigma^2 change:     0.004\n",
      "[=================                                                       ]\n",
      "Iteration:25\n",
      "ML: -8346.639; \tML change (error):     9.760; \tSigma^2:     0.063; \tSigma^2 change:     0.003\n",
      "[==================                                                      ]\n",
      "Iteration:26\n",
      "ML: -8352.491; \tML change (error):     5.852; \tSigma^2:     0.061; \tSigma^2 change:     0.002\n",
      "[==================                                                      ]\n",
      "Iteration:27\n",
      "ML: -8356.063; \tML change (error):     3.572; \tSigma^2:     0.059; \tSigma^2 change:     0.002\n",
      "[===================                                                     ]\n",
      "Iteration:28\n",
      "ML: -8358.342; \tML change (error):     2.280; \tSigma^2:     0.058; \tSigma^2 change:     0.001\n",
      "[====================                                                    ]\n",
      "Iteration:29\n",
      "ML: -8359.896; \tML change (error):     1.554; \tSigma^2:     0.057; \tSigma^2 change:     0.001\n",
      "[====================                                                    ]\n",
      "Iteration:30\n",
      "ML: -8361.039; \tML change (error):     1.142; \tSigma^2:     0.057; \tSigma^2 change:     0.001\n",
      "[=====================                                                   ]\n",
      "Iteration:31\n",
      "ML: -8361.940; \tML change (error):     0.901; \tSigma^2:     0.056; \tSigma^2 change:     0.000\n",
      "[======================                                                  ]\n",
      "Iteration:32\n",
      "ML: -8362.693; \tML change (error):     0.752; \tSigma^2:     0.056; \tSigma^2 change:     0.000\n",
      "[=======================                                                 ]\n",
      "Iteration:33\n",
      "ML: -8363.346; \tML change (error):     0.654; \tSigma^2:     0.056; \tSigma^2 change:     0.000\n",
      "[=======================                                                 ]\n",
      "Iteration:34\n",
      "ML: -8363.929; \tML change (error):     0.583; \tSigma^2:     0.055; \tSigma^2 change:     0.000\n",
      "[========================                                                ]\n",
      "Iteration:35\n",
      "ML: -8364.457; \tML change (error):     0.528; \tSigma^2:     0.055; \tSigma^2 change:     0.000\n",
      "[=========================                                               ]\n",
      "Iteration:36\n",
      "ML: -8364.939; \tML change (error):     0.483; \tSigma^2:     0.055; \tSigma^2 change:     0.000\n",
      "[=========================                                               ]\n",
      "Iteration:37\n",
      "ML: -8365.384; \tML change (error):     0.444; \tSigma^2:     0.055; \tSigma^2 change:     0.000\n",
      "[==========================                                              ]\n",
      "Iteration:38\n",
      "ML: -8365.795; \tML change (error):     0.411; \tSigma^2:     0.055; \tSigma^2 change:     0.000\n",
      "[===========================                                             ]\n",
      "Iteration:39\n",
      "ML: -8366.175; \tML change (error):     0.380; \tSigma^2:     0.055; \tSigma^2 change:     0.000\n",
      "[============================                                            ]\n",
      "Iteration:40\n",
      "ML: -8366.528; \tML change (error):     0.353; \tSigma^2:     0.055; \tSigma^2 change:     0.000\n",
      "[============================                                            ]\n",
      "Iteration:41\n",
      "ML: -8366.856; \tML change (error):     0.328; \tSigma^2:     0.055; \tSigma^2 change:     0.000\n",
      "[=============================                                           ]\n",
      "Iteration:42\n",
      "ML: -8367.161; \tML change (error):     0.305; \tSigma^2:     0.055; \tSigma^2 change:     0.000\n",
      "[==============================                                          ]\n",
      "Iteration:43\n",
      "ML: -8367.444; \tML change (error):     0.283; \tSigma^2:     0.055; \tSigma^2 change:     0.000\n",
      "[==============================                                          ]\n",
      "Iteration:44\n",
      "ML: -8367.708; \tML change (error):     0.264; \tSigma^2:     0.055; \tSigma^2 change:     0.000\n",
      "[===============================                                         ]\n",
      "Iteration:45\n",
      "ML: -8367.954; \tML change (error):     0.246; \tSigma^2:     0.055; \tSigma^2 change:     0.000\n",
      "[================================                                        ]\n",
      "Iteration:46\n",
      "ML: -8368.182; \tML change (error):     0.229; \tSigma^2:     0.055; \tSigma^2 change:     0.000\n",
      "[=================================                                       ]\n",
      "Iteration:47\n",
      "ML: -8368.395; \tML change (error):     0.213; \tSigma^2:     0.055; \tSigma^2 change:     0.000\n",
      "[=================================                                       ]\n",
      "Iteration:48\n",
      "ML: -8368.593; \tML change (error):     0.198; \tSigma^2:     0.055; \tSigma^2 change:     0.000\n",
      "[==================================                                      ]\n",
      "Iteration:49\n",
      "ML: -8368.778; \tML change (error):     0.185; \tSigma^2:     0.055; \tSigma^2 change:     0.000\n",
      "[===================================                                     ]\n",
      "Iteration:50\n",
      "ML: -8368.950; \tML change (error):     0.172; \tSigma^2:     0.055; \tSigma^2 change:     0.000\n",
      "[====================================                                    ]\n",
      "Iteration:51\n",
      "ML: -8369.110; \tML change (error):     0.160; \tSigma^2:     0.055; \tSigma^2 change:     0.000\n",
      "[====================================                                    ]\n",
      "Iteration:52\n",
      "ML: -8369.259; \tML change (error):     0.149; \tSigma^2:     0.055; \tSigma^2 change:     0.000\n",
      "[=====================================                                   ]\n",
      "Iteration:53\n",
      "ML: -8369.398; \tML change (error):     0.139; \tSigma^2:     0.055; \tSigma^2 change:     0.000\n",
      "[======================================                                  ]\n",
      "Iteration:54\n",
      "ML: -8369.528; \tML change (error):     0.130; \tSigma^2:     0.055; \tSigma^2 change:     0.000\n",
      "[======================================                                  ]\n",
      "Iteration:55\n",
      "ML: -8369.649; \tML change (error):     0.121; \tSigma^2:     0.055; \tSigma^2 change:     0.000\n",
      "[=======================================                                 ]\n",
      "Iteration:56\n",
      "ML: -8369.761; \tML change (error):     0.113; \tSigma^2:     0.055; \tSigma^2 change:     0.000\n",
      "[========================================                                ]\n",
      "Iteration:57\n",
      "ML: -8369.866; \tML change (error):     0.105; \tSigma^2:     0.055; \tSigma^2 change:     0.000\n",
      "[=========================================                               ]\n",
      "Iteration:58\n",
      "ML: -8369.964; \tML change (error):     0.098; \tSigma^2:     0.055; \tSigma^2 change:     0.000\n",
      "[=========================================                               ]\n",
      "Iteration:59\n",
      "ML: -8370.055; \tML change (error):     0.091; \tSigma^2:     0.055; \tSigma^2 change:     0.000\n",
      "[==========================================                              ]\n",
      "Iteration:60\n",
      "ML: -8370.140; \tML change (error):     0.085; \tSigma^2:     0.055; \tSigma^2 change:     0.000\n",
      "[===========================================                             ]\n",
      "Iteration:61\n",
      "ML: -8370.219; \tML change (error):     0.079; \tSigma^2:     0.055; \tSigma^2 change:     0.000\n",
      "[===========================================                             ]\n",
      "Iteration:62\n",
      "ML: -8370.293; \tML change (error):     0.074; \tSigma^2:     0.055; \tSigma^2 change:     0.000\n",
      "[============================================                            ]\n",
      "Iteration:63\n",
      "ML: -8370.361; \tML change (error):     0.069; \tSigma^2:     0.055; \tSigma^2 change:     0.000\n",
      "[=============================================                           ]\n",
      "Iteration:64\n",
      "ML: -8370.426; \tML change (error):     0.064; \tSigma^2:     0.054; \tSigma^2 change:     0.000\n",
      "[==============================================                          ]\n",
      "Iteration:65\n",
      "ML: -8370.485; \tML change (error):     0.060; \tSigma^2:     0.054; \tSigma^2 change:     0.000\n",
      "[==============================================                          ]\n",
      "Iteration:66\n",
      "ML: -8370.541; \tML change (error):     0.056; \tSigma^2:     0.054; \tSigma^2 change:     0.000\n",
      "[===============================================                         ]\n",
      "Iteration:67\n",
      "ML: -8370.593; \tML change (error):     0.052; \tSigma^2:     0.054; \tSigma^2 change:     0.000\n",
      "[================================================                        ]\n",
      "Iteration:68\n",
      "ML: -8370.641; \tML change (error):     0.048; \tSigma^2:     0.054; \tSigma^2 change:     0.000\n",
      "[================================================                        ]\n",
      "Iteration:69\n",
      "ML: -8370.687; \tML change (error):     0.045; \tSigma^2:     0.054; \tSigma^2 change:     0.000\n",
      "[=================================================                       ]\n",
      "Iteration:70\n",
      "ML: -8370.729; \tML change (error):     0.042; \tSigma^2:     0.054; \tSigma^2 change:     0.000\n",
      "[==================================================                      ]\n",
      "Iteration:71\n",
      "ML: -8370.768; \tML change (error):     0.039; \tSigma^2:     0.054; \tSigma^2 change:     0.000\n",
      "[===================================================                     ]\n",
      "Iteration:72\n",
      "ML: -8370.805; \tML change (error):     0.037; \tSigma^2:     0.054; \tSigma^2 change:     0.000\n",
      "[===================================================                     ]\n",
      "Iteration:73\n",
      "ML: -8370.839; \tML change (error):     0.034; \tSigma^2:     0.054; \tSigma^2 change:     0.000\n",
      "[====================================================                    ]\n",
      "Iteration:74\n",
      "ML: -8370.871; \tML change (error):     0.032; \tSigma^2:     0.054; \tSigma^2 change:     0.000\n",
      "[=====================================================                   ]\n",
      "Iteration:75\n",
      "ML: -8370.900; \tML change (error):     0.030; \tSigma^2:     0.054; \tSigma^2 change:     0.000\n",
      "[======================================================                  ]\n",
      "Iteration:76\n",
      "ML: -8370.928; \tML change (error):     0.028; \tSigma^2:     0.054; \tSigma^2 change:     0.000\n",
      "[======================================================                  ]\n",
      "Iteration:77\n",
      "ML: -8370.954; \tML change (error):     0.026; \tSigma^2:     0.054; \tSigma^2 change:     0.000\n",
      "[=======================================================                 ]\n",
      "Iteration:78\n",
      "ML: -8370.978; \tML change (error):     0.024; \tSigma^2:     0.054; \tSigma^2 change:     0.000\n",
      "[========================================================                ]\n",
      "Iteration:79\n",
      "ML: -8371.000; \tML change (error):     0.022; \tSigma^2:     0.054; \tSigma^2 change:     0.000\n",
      "[========================================================                ]\n",
      "Iteration:80\n",
      "ML: -8371.021; \tML change (error):     0.021; \tSigma^2:     0.054; \tSigma^2 change:     0.000\n",
      "[=========================================================               ]\n",
      "Iteration:81\n",
      "ML: -8371.041; \tML change (error):     0.020; \tSigma^2:     0.054; \tSigma^2 change:     0.000\n",
      "[==========================================================              ]\n",
      "Iteration:82\n",
      "ML: -8371.059; \tML change (error):     0.018; \tSigma^2:     0.054; \tSigma^2 change:     0.000\n",
      "[===========================================================             ]\n",
      "Iteration:83\n",
      "ML: -8371.076; \tML change (error):     0.017; \tSigma^2:     0.054; \tSigma^2 change:     0.000\n",
      "[===========================================================             ]\n",
      "Iteration:84\n",
      "ML: -8371.092; \tML change (error):     0.016; \tSigma^2:     0.054; \tSigma^2 change:     0.000\n",
      "[============================================================            ]\n",
      "Iteration:85\n",
      "ML: -8371.107; \tML change (error):     0.015; \tSigma^2:     0.054; \tSigma^2 change:     0.000\n",
      "[=============================================================           ]\n",
      "Iteration:86\n",
      "ML: -8371.120; \tML change (error):     0.014; \tSigma^2:     0.054; \tSigma^2 change:     0.000\n",
      "[=============================================================           ]\n",
      "Iteration:87\n",
      "ML: -8371.133; \tML change (error):     0.013; \tSigma^2:     0.054; \tSigma^2 change:     0.000\n",
      "[==============================================================          ]\n",
      "Iteration:88\n",
      "ML: -8371.145; \tML change (error):     0.012; \tSigma^2:     0.054; \tSigma^2 change:     0.000\n",
      "[===============================================================         ]\n",
      "Iteration:89\n",
      "ML: -8371.157; \tML change (error):     0.011; \tSigma^2:     0.054; \tSigma^2 change:     0.000\n",
      "[================================================================        ]\n",
      "Iteration:90\n",
      "ML: -8371.167; \tML change (error):     0.010; \tSigma^2:     0.054; \tSigma^2 change:     0.000\n",
      "[================================================================        ]\n",
      "Iteration:91\n",
      "ML: -8371.177; \tML change (error):     0.010; \tSigma^2:     0.054; \tSigma^2 change:     0.000\n",
      "[=================================================================       ]\n",
      "Iteration:92\n",
      "ML: -8371.186; \tML change (error):     0.009; \tSigma^2:     0.054; \tSigma^2 change:     0.000\n",
      "[==================================================================      ]\n",
      "Iteration:93\n",
      "ML: -8371.194; \tML change (error):     0.008; \tSigma^2:     0.054; \tSigma^2 change:     0.000\n",
      "[==================================================================      ]\n",
      "Iteration:94\n",
      "ML: -8371.202; \tML change (error):     0.008; \tSigma^2:     0.054; \tSigma^2 change:     0.000\n",
      "[===================================================================     ]\n",
      "Iteration:95\n",
      "ML: -8371.210; \tML change (error):     0.007; \tSigma^2:     0.054; \tSigma^2 change:     0.000\n",
      "[====================================================================    ]\n",
      "Iteration:96\n",
      "ML: -8371.216; \tML change (error):     0.007; \tSigma^2:     0.054; \tSigma^2 change:     0.000\n",
      "[=====================================================================   ]\n",
      "Iteration:97\n",
      "ML: -8371.223; \tML change (error):     0.006; \tSigma^2:     0.054; \tSigma^2 change:     0.000\n",
      "[=====================================================================   ]\n",
      "Iteration:98\n",
      "ML: -8371.229; \tML change (error):     0.006; \tSigma^2:     0.054; \tSigma^2 change:     0.000\n",
      "[======================================================================  ]\n",
      "Iteration:99\n",
      "ML: -8371.234; \tML change (error):     0.006; \tSigma^2:     0.054; \tSigma^2 change:     0.000\n",
      "[======================================================================= ]\n",
      "Iteration:100\n",
      "ML: -8371.240; \tML change (error):     0.005; \tSigma^2:     0.054; \tSigma^2 change:     0.000\n",
      "[========================================================================]\n",
      "========================================================================\n",
      "Registration Performance Metrics\n",
      "========================================================================\n",
      "Time to initialize EM: 0.5452239513397217\n",
      "Time to initialize registration: 0.0\n",
      "Average Expectation Time:                    0.1986 +/- 0.0152\n",
      "Average Maximization Time:                   0.0008 +/- 0.0027\n",
      "Maximization Times - Per individual step\n",
      "Average Update Transform Time:               0.0005 +/- 0.0022\n",
      "Average Transform Time:                      0.0001 +/- 0.0002\n",
      "Average Update Variance Time:                0.0002 +/- 0.0016\n",
      "\n",
      "Number of iterations performed:          100\n",
      "Error at time of finish:                 0.005217592488406808\n",
      "elapsed time:20.4852 s\n"
     ]
    }
   ],
   "source": [
    "# X = zeroCentered(X)\n",
    "# Y = zeroCentered(Y)\n",
    "tic = time.time()\n",
    "# reg = pycpd.RigidRegistration(**{'X': X, 'Y': Y, 'max_iterations':100,'tolerance':1e-4})\n",
    "# TY,(s,r,t) = reg.register(callback=callbackOnIteration)\n",
    "reg = cycpd.rigid_registration(**{'X': X, 'Y': Y, 'max_iterations':100,'tolerance':1e-4,'verbose':True,'print_reg_params':True})\n",
    "TY,(s,r,t) = reg.register()\n",
    "toc = time.time()\n",
    "print(\"elapsed time:{:.4f} s\".format(toc-tic))"
   ]
  },
  {
   "cell_type": "code",
   "execution_count": 5,
   "id": "f166d100-89f2-4cea-9d90-e7bd172cf3ff",
   "metadata": {},
   "outputs": [
    {
     "name": "stdout",
     "output_type": "stream",
     "text": [
      "(3000, 3)\n",
      "s: 0.9992620769035372\n",
      "r: [[ 0.98412773  0.09007219 -0.15290392]\n",
      " [-0.06291486  0.98273858  0.17397302]\n",
      " [ 0.16593471 -0.16159174  0.97280717]]\n",
      "t: [-2.93220548  3.55539186  1.23366615]\n",
      "computation error: 1.1567799372161262e-13\n",
      "rot angles:  [0.17696532 0.15350608 0.09127061]\n"
     ]
    }
   ],
   "source": [
    "print(TY.shape)\n",
    "print(\"s:\",s)\n",
    "print(\"r:\",r)\n",
    "print(\"t:\",t)\n",
    "# print(reg.diff) #前后两次损失函数的差值的绝对值 in pycpd\n",
    "# print(reg.q) # loss function in pycpd\n",
    "print(\"computation error:\",np.linalg.norm(s * Y @ r + t - TY, ord=\"fro\"))\n",
    "# print(reg.P) # shape = (M,N); M: # of source points in Y; N: # of target points in X\n",
    "angles = rotationMatrixToEulerAngles(r)\n",
    "print(\"rot angles: \",angles)"
   ]
  },
  {
   "cell_type": "code",
   "execution_count": 6,
   "id": "668b426a-bae7-42e1-b639-857e9c1732ed",
   "metadata": {
    "scrolled": true,
    "tags": []
   },
   "outputs": [
    {
     "name": "stdout",
     "output_type": "stream",
     "text": [
      "Iteration:1\n",
      "ML: -5288.121; \tML change (error):  5288.121; \tSigma^2:     3.651; \tSigma^2 change:     5.611\n",
      "[=                                                                       ]\n",
      "Iteration:2\n",
      "ML: -6417.119; \tML change (error):  1128.998; \tSigma^2:     3.089; \tSigma^2 change:     0.561\n",
      "[==                                                                      ]\n",
      "Iteration:3\n",
      "ML: -6498.854; \tML change (error):    81.735; \tSigma^2:     2.680; \tSigma^2 change:     0.409\n",
      "[====                                                                    ]\n",
      "Iteration:4\n",
      "ML: -6575.780; \tML change (error):    76.927; \tSigma^2:     2.293; \tSigma^2 change:     0.387\n",
      "[=====                                                                   ]\n",
      "Iteration:5\n",
      "ML: -6661.399; \tML change (error):    85.619; \tSigma^2:     1.932; \tSigma^2 change:     0.361\n",
      "[=======                                                                 ]\n",
      "Iteration:6\n",
      "ML: -6758.513; \tML change (error):    97.113; \tSigma^2:     1.606; \tSigma^2 change:     0.326\n",
      "[========                                                                ]\n",
      "Iteration:7\n",
      "ML: -6863.286; \tML change (error):   104.773; \tSigma^2:     1.329; \tSigma^2 change:     0.278\n",
      "[==========                                                              ]\n",
      "Iteration:8\n",
      "ML: -6968.898; \tML change (error):   105.612; \tSigma^2:     1.096; \tSigma^2 change:     0.232\n",
      "[===========                                                             ]\n",
      "Iteration:9\n",
      "ML: -7075.252; \tML change (error):   106.354; \tSigma^2:     0.898; \tSigma^2 change:     0.199\n",
      "[============                                                            ]\n",
      "Iteration:10\n",
      "ML: -7187.340; \tML change (error):   112.088; \tSigma^2:     0.724; \tSigma^2 change:     0.174\n",
      "[==============                                                          ]\n",
      "Iteration:11\n",
      "ML: -7312.940; \tML change (error):   125.600; \tSigma^2:     0.571; \tSigma^2 change:     0.153\n",
      "[===============                                                         ]\n",
      "Iteration:12\n",
      "ML: -7461.325; \tML change (error):   148.385; \tSigma^2:     0.437; \tSigma^2 change:     0.134\n",
      "[=================                                                       ]\n",
      "Iteration:13\n",
      "ML: -7639.062; \tML change (error):   177.737; \tSigma^2:     0.324; \tSigma^2 change:     0.113\n",
      "[==================                                                      ]\n",
      "Iteration:14\n",
      "ML: -7846.001; \tML change (error):   206.939; \tSigma^2:     0.234; \tSigma^2 change:     0.090\n",
      "[====================                                                    ]\n",
      "Iteration:15\n",
      "ML: -8076.113; \tML change (error):   230.112; \tSigma^2:     0.165; \tSigma^2 change:     0.069\n",
      "[=====================                                                   ]\n",
      "Iteration:16\n",
      "ML: -8322.129; \tML change (error):   246.017; \tSigma^2:     0.115; \tSigma^2 change:     0.050\n",
      "[=======================                                                 ]\n",
      "Iteration:17\n",
      "ML: -8578.023; \tML change (error):   255.893; \tSigma^2:     0.080; \tSigma^2 change:     0.035\n",
      "[========================                                                ]\n",
      "Iteration:18\n",
      "ML: -8839.085; \tML change (error):   261.062; \tSigma^2:     0.055; \tSigma^2 change:     0.025\n",
      "[=========================                                               ]\n",
      "Iteration:19\n",
      "ML: -9101.620; \tML change (error):   262.535; \tSigma^2:     0.038; \tSigma^2 change:     0.017\n",
      "[===========================                                             ]\n",
      "Iteration:20\n",
      "ML: -9362.641; \tML change (error):   261.021; \tSigma^2:     0.026; \tSigma^2 change:     0.012\n",
      "[============================                                            ]\n",
      "Iteration:21\n",
      "ML: -9619.720; \tML change (error):   257.079; \tSigma^2:     0.018; \tSigma^2 change:     0.008\n",
      "[==============================                                          ]\n",
      "Iteration:22\n",
      "ML: -9869.592; \tML change (error):   249.872; \tSigma^2:     0.013; \tSigma^2 change:     0.005\n",
      "[===============================                                         ]\n",
      "Iteration:23\n",
      "ML:-10104.808; \tML change (error):   235.216; \tSigma^2:     0.009; \tSigma^2 change:     0.004\n",
      "[=================================                                       ]\n",
      "Iteration:24\n",
      "ML:-10311.143; \tML change (error):   206.336; \tSigma^2:     0.007; \tSigma^2 change:     0.002\n",
      "[==================================                                      ]\n",
      "Iteration:25\n",
      "ML:-10471.047; \tML change (error):   159.904; \tSigma^2:     0.006; \tSigma^2 change:     0.001\n",
      "[====================================                                    ]\n",
      "Iteration:26\n",
      "ML:-10579.614; \tML change (error):   108.567; \tSigma^2:     0.005; \tSigma^2 change:     0.001\n",
      "[=====================================                                   ]\n",
      "Iteration:27\n",
      "ML:-10650.613; \tML change (error):    70.999; \tSigma^2:     0.004; \tSigma^2 change:     0.000\n",
      "[======================================                                  ]\n",
      "Iteration:28\n",
      "ML:-10697.414; \tML change (error):    46.801; \tSigma^2:     0.004; \tSigma^2 change:     0.000\n",
      "[========================================                                ]\n",
      "Iteration:29\n",
      "ML:-10729.815; \tML change (error):    32.401; \tSigma^2:     0.004; \tSigma^2 change:     0.000\n",
      "[=========================================                               ]\n",
      "Iteration:30\n",
      "ML:-10755.374; \tML change (error):    25.559; \tSigma^2:     0.004; \tSigma^2 change:     0.000\n",
      "[===========================================                             ]\n",
      "Iteration:31\n",
      "ML:-10781.275; \tML change (error):    25.901; \tSigma^2:     0.004; \tSigma^2 change:     0.000\n",
      "[============================================                            ]\n",
      "Iteration:32\n",
      "ML:-10806.305; \tML change (error):    25.030; \tSigma^2:     0.004; \tSigma^2 change:     0.000\n",
      "[==============================================                          ]\n",
      "Iteration:33\n",
      "ML:-10825.837; \tML change (error):    19.532; \tSigma^2:     0.004; \tSigma^2 change:     0.000\n",
      "[===============================================                         ]\n",
      "Iteration:34\n",
      "ML:-10841.062; \tML change (error):    15.225; \tSigma^2:     0.004; \tSigma^2 change:     0.000\n",
      "[================================================                        ]\n",
      "Iteration:35\n",
      "ML:-10852.363; \tML change (error):    11.301; \tSigma^2:     0.003; \tSigma^2 change:     0.000\n",
      "[==================================================                      ]\n",
      "Iteration:36\n",
      "ML:-10861.959; \tML change (error):     9.596; \tSigma^2:     0.003; \tSigma^2 change:     0.000\n",
      "[===================================================                     ]\n",
      "Iteration:37\n",
      "ML:-10871.162; \tML change (error):     9.203; \tSigma^2:     0.003; \tSigma^2 change:     0.000\n",
      "[=====================================================                   ]\n",
      "Iteration:38\n",
      "ML:-10880.027; \tML change (error):     8.865; \tSigma^2:     0.003; \tSigma^2 change:     0.000\n",
      "[======================================================                  ]\n",
      "Iteration:39\n",
      "ML:-10888.485; \tML change (error):     8.458; \tSigma^2:     0.003; \tSigma^2 change:     0.000\n",
      "[========================================================                ]\n",
      "Iteration:40\n",
      "ML:-10896.245; \tML change (error):     7.760; \tSigma^2:     0.003; \tSigma^2 change:     0.000\n",
      "[=========================================================               ]\n",
      "Iteration:41\n",
      "ML:-10902.883; \tML change (error):     6.638; \tSigma^2:     0.003; \tSigma^2 change:     0.000\n",
      "[===========================================================             ]\n",
      "Iteration:42\n",
      "ML:-10908.605; \tML change (error):     5.723; \tSigma^2:     0.003; \tSigma^2 change:     0.000\n",
      "[============================================================            ]\n",
      "Iteration:43\n",
      "ML:-10913.617; \tML change (error):     5.012; \tSigma^2:     0.003; \tSigma^2 change:     0.000\n",
      "[=============================================================           ]\n",
      "Iteration:44\n",
      "ML:-10917.686; \tML change (error):     4.070; \tSigma^2:     0.003; \tSigma^2 change:     0.000\n",
      "[===============================================================         ]\n",
      "Iteration:45\n",
      "ML:-10920.701; \tML change (error):     3.015; \tSigma^2:     0.003; \tSigma^2 change:     0.000\n",
      "[================================================================        ]\n",
      "Iteration:46\n",
      "ML:-10922.907; \tML change (error):     2.206; \tSigma^2:     0.003; \tSigma^2 change:     0.000\n",
      "[==================================================================      ]\n",
      "Iteration:47\n",
      "ML:-10924.497; \tML change (error):     1.590; \tSigma^2:     0.003; \tSigma^2 change:     0.000\n",
      "[===================================================================     ]\n",
      "Iteration:48\n",
      "ML:-10925.593; \tML change (error):     1.096; \tSigma^2:     0.003; \tSigma^2 change:     0.000\n",
      "[=====================================================================   ]\n",
      "Iteration:49\n",
      "ML:-10926.311; \tML change (error):     0.718; \tSigma^2:     0.003; \tSigma^2 change:     0.000\n",
      "[======================================================================  ]\n",
      "Iteration:50\n",
      "ML:-10926.774; \tML change (error):     0.463; \tSigma^2:     0.003; \tSigma^2 change:     0.000\n",
      "[========================================================================]\n",
      "========================================================================\n",
      "Registration Performance Metrics\n",
      "========================================================================\n",
      "Time to initialize EM: 0.5895931720733643\n",
      "Time to initialize registration: 3.428957939147949\n",
      "Average Expectation Time:                    0.2901 +/- 0.0808\n",
      "Average Maximization Time:                   0.0533 +/- 0.0055\n",
      "Maximization Times - Per individual step\n",
      "Average Update Transform Time:               0.0527 +/- 0.0054\n",
      "Average Transform Time:                      0.0005 +/- 0.0005\n",
      "Average Update Variance Time:                0.0002 +/- 0.0004\n",
      "\n",
      "Number of iterations performed:          50\n",
      "Error at time of finish:                 0.46330928405768645\n",
      "elapsed time:21.2029 s\n"
     ]
    }
   ],
   "source": [
    "tic = time.time()\n",
    "# reg2 = pycpd.DeformableRegistration(**{'X': X, 'Y': TY, 'max_iterations':10,'tolerance':1e-4})\n",
    "reg2 = cycpd.deformable_registration(**{'X': X, 'Y': TY, 'max_iterations':50,'tolerance':1e-4,'verbose':True,'print_reg_params':True})\n",
    "TTY,(G, W) = reg2.register()\n",
    "toc = time.time()\n",
    "print(\"elapsed time:{:.4f} s\".format(toc-tic))"
   ]
  },
  {
   "cell_type": "code",
   "execution_count": 8,
   "id": "19c6f389-64e3-4aab-bae4-56fcd49d58d5",
   "metadata": {},
   "outputs": [],
   "source": [
    "# tic = time.time()\n",
    "# pointPairs = getCorrePointPairs(reg.P)\n",
    "# toc = time.time()\n",
    "# print(\"getCorrePointPairs execution time:{:.4f}s\".format(toc-tic))"
   ]
  },
  {
   "cell_type": "code",
   "execution_count": 7,
   "id": "dcdfbaf3-59bc-4092-86f3-75425bf38f39",
   "metadata": {},
   "outputs": [],
   "source": [
    "# pointPairs = getCorrePointPairs(reg.P)\n",
    "# pointPairs2 = getCorrePointPairs(reg2.P)\n",
    "# correTY1 = extractCorreMovPoints(TY, pointPairs) \n",
    "# correTY2 = extractCorreMovPoints(TY, pointPairs2)\n",
    "# showPointCloud(X, windowName=\"reference PCL: X\")\n",
    "# showPointCloud(Y, windowName=\"moving PCL: Y\")\n",
    "# showPointCloud(correTY1, windowName=\"transformed moving PCL sampled by reg.P: correTY1\")\n",
    "# showPointCloud(correTY2, windowName=\"transformed moving PCL sampled by reg2.P: correTY2\")"
   ]
  },
  {
   "cell_type": "code",
   "execution_count": 11,
   "id": "2e8b529e-f6ac-45f5-8628-4c3cefd30ab2",
   "metadata": {},
   "outputs": [],
   "source": [
    "# ordered greedy min distance\n",
    "pointPairs = getCorrePointPairs(X, TTY)"
   ]
  },
  {
   "cell_type": "code",
   "execution_count": 20,
   "id": "963a7fd5-426e-40cd-b7cb-a2b1f2191015",
   "metadata": {},
   "outputs": [],
   "source": [
    "# 对应点对可视化\n",
    "\n",
    "pcdX = o3d.geometry.PointCloud()\n",
    "pcdX.points = o3d.utility.Vector3dVector(X)\n",
    "pcdX.paint_uniform_color(np.array([1.,0.,0.]))\n",
    "\n",
    "pcdTY = o3d.geometry.PointCloud()\n",
    "pcdTY.points = o3d.utility.Vector3dVector(TY)\n",
    "pcdTY.paint_uniform_color(np.array([0.,0.,1.]))\n",
    "\n",
    "lines = [[p[0],p[1]+len(X)] for p in pointPairs]\n",
    "colors = [[0, 1, 0] for i in range(len(lines))]\n",
    "line_set = o3d.geometry.LineSet()\n",
    "line_set.points = o3d.utility.Vector3dVector(np.vstack([X,TY]))\n",
    "\n",
    "line_set.lines = o3d.utility.Vector2iVector(lines)\n",
    "line_set.colors = o3d.utility.Vector3dVector(colors)\n",
    "o3d.visualization.draw_geometries([line_set,pcdX,pcdTY])"
   ]
  },
  {
   "cell_type": "markdown",
   "id": "f4e5efd8-7f51-4d35-8156-2baba18adb8d",
   "metadata": {
    "jp-MarkdownHeadingCollapsed": true,
    "tags": []
   },
   "source": [
    "## registration"
   ]
  },
  {
   "cell_type": "code",
   "execution_count": 4,
   "id": "b15fec8e-ccdd-4c5c-bd08-aa3e0bb8d300",
   "metadata": {},
   "outputs": [],
   "source": [
    "def getSortedToothPoints(toothDir):\n",
    "    \"\"\"toothDir: Str, 存放不同样本的同一颗牙齿的路径\"\"\"\n",
    "    \"\"\"按照牙齿点云的点数量从小到大对点云数组进行拍讯\"\"\"\n",
    "    txtFiles = glob.glob(os.path.join(toothDir, \"*.txt\"))\n",
    "    pointArrays = [np.loadtxt(txtF) for txtF in txtFiles]\n",
    "    sortedPointArrays, sortedTxtFiles = zip(*sorted(zip(pointArrays,txtFiles), key=lambda x:x[0].shape[0]))\n",
    "    return list(sortedPointArrays), list(sortedTxtFiles)\n",
    "\n",
    "def getSortedTrainTestPointGroups(sortedToothPointGroups, sortedTags, trainTags):\n",
    "    sortedTrainPGs = []\n",
    "    sortedTrainTags = []\n",
    "    sortedTestPGs = []\n",
    "    sortedTestTags = []\n",
    "    for tag, pg in zip(sortedTags, sortedToothPointGroups):\n",
    "        if tag in trainTags:\n",
    "            sortedTrainPGs.append(pg)\n",
    "            sortedTrainTags.append(tag)\n",
    "        else:\n",
    "            sortedTestPGs.append(pg)\n",
    "            sortedTestTags.append(tag)\n",
    "    return sortedTrainPGs, sortedTrainTags, sortedTestPGs, sortedTestTags\n",
    "\n",
    "def getPointGroupByTag(pointGroupList, tagList, searchTag):\n",
    "    for tag,pg in zip(tagList,pointGroupList):\n",
    "        if tag == searchTag:\n",
    "            return pg\n",
    "    print(\"{} does not exist.\".format(searchTag))\n",
    "    return None"
   ]
  },
  {
   "cell_type": "code",
   "execution_count": 4,
   "id": "9602c5d0-6ff9-41aa-9cb2-a77b15e56e65",
   "metadata": {},
   "outputs": [
    {
     "name": "stdout",
     "output_type": "stream",
     "text": [
      "reference pointcloud shape: (1500, 3)\n",
      "max point num:  (3000, 3)\n",
      "min point num:  (2719, 3)\n"
     ]
    }
   ],
   "source": [
    "#######################################\n",
    "# ToothIndex | 11   | 12   | 13   | 14   | 15   | 16   | 17   | 21   | 22   | 23   | 24   | 25   | 26   | 27\n",
    "# InitRefTag | 37U  | 27U  | 36U  | 27U  | 27U  | 27U  | 27U  | 39U  | 27U  | 37U  | 27U  | 27U  | 27U  | 20U\n",
    "# ToothIndex | 31   | 32   | 33   | 34   | 35   | 36   | 37   | 41   | 42   | 43   | 44   | 45   | 46   | 47\n",
    "# InitRefTag | 39L  | 31L  | 27L  | 28L  | 22L  | 28L  | 27L  | 25L  | 26L  | 33L  | 28L  | 31L  | 33L  | 33L\n",
    "#######################################\n",
    "\n",
    "toothIndex = 11\n",
    "REF_TAG = \"37U\"\n",
    "toothDir = r\".\\data\\ssa-repaired-txt\\{}\".format(toothIndex)\n",
    "sortedToothPointGroups, sortedTxtFiles = getSortedToothPoints(toothDir)\n",
    "sortedFileTags = [os.path.basename(f).split('.')[0] for f in sortedTxtFiles]\n",
    "TrainTags = [\"{}{}\".format(i,ul) for i in range(130) for ul in [\"U\",\"L\"]]\n",
    "\n",
    "# 根据tag选择参考点云并进行下采样\n",
    "refVertices = getPointGroupByTag(sortedToothPointGroups, sortedFileTags, searchTag=REF_TAG)\n",
    "# initRefPG = voxelDownSample(refVertices, voxel_size=0.5) #调整voxel_size保证初始参考点云点数量在1500左右\n",
    "initRefPG = fixedNumDownSample(refVertices, desiredNumOfPoint=1500, leftVoxelSize=0.7, rightVoxelSize=0.1)\n",
    "print(\"reference pointcloud shape:\",initRefPG.shape)\n",
    "# sortedToothPointGroups = [voxelDownSample(x,voxel_size=0.3) if x.shape[0]>3000 else x for x in sortedToothPointGroups] #对点数量较大的点云进行下采样加速\n",
    "sortedToothPointGroups = [fixedNumDownSample(x,desiredNumOfPoint=3000, leftVoxelSize=0.7, rightVoxelSize=0.1) if x.shape[0]>3000 else x for x in sortedToothPointGroups] #对点数量较大的点云进行下采样加速,最多3000点\n",
    "print(\"max point num: \",sortedToothPointGroups[-1].shape)\n",
    "print(\"min point num: \",sortedToothPointGroups[0].shape)\n",
    "assert initRefPG.shape[0] <= sortedToothPointGroups[0].shape[0] #参考点云的点数量必须是最少的"
   ]
  },
  {
   "cell_type": "code",
   "execution_count": 5,
   "id": "1c142c65-fef2-42d0-90b9-627c9fdde264",
   "metadata": {},
   "outputs": [],
   "source": [
    "sortedTrainPGs, sortedTrainTags, sortedTestPGs, sortedTestTags = getSortedTrainTestPointGroups(sortedToothPointGroups, sortedFileTags, TrainTags)"
   ]
  },
  {
   "cell_type": "code",
   "execution_count": 6,
   "id": "62661788-21b9-488b-b0d5-bd44f29260f0",
   "metadata": {},
   "outputs": [],
   "source": [
    "trainPointGroups = sortedTrainPGs\n",
    "trainPgTags = sortedTrainTags\n",
    "assert len(trainPointGroups)==len(trainPgTags)"
   ]
  },
  {
   "cell_type": "markdown",
   "id": "869db754-8f69-45ad-bfcf-630d34178d0c",
   "metadata": {
    "jp-MarkdownHeadingCollapsed": true,
    "tags": []
   },
   "source": [
    "## Single-thread registration"
   ]
  },
  {
   "cell_type": "code",
   "execution_count": 29,
   "id": "8d4ebb53-2f26-42ae-bb11-cf257116f0b7",
   "metadata": {},
   "outputs": [],
   "source": [
    "def getRotAngles(RotMats): # Euler angles order: X-Y-Z\n",
    "    return np.vstack([rotationMatrixToEulerAngles(R) for R in RotMats])\n",
    "\n",
    "def getRotMat(rxryrz):\n",
    "    return o3d.geometry.get_rotation_matrix_from_zyx(rxryrz[::-1]).T #先进行x轴旋转，再y轴，再z轴；取转置表示右乘旋转矩阵\n",
    "\n",
    "def getRotMats(rotAnglesXYZ):\n",
    "    # rotMats = []\n",
    "    # for rxryrz in rotAnglesXYZ:\n",
    "    #     rotMat = getRotMat(rxryrz) \n",
    "    #     rotMats.append(rotMat)\n",
    "    # return np.array(rotMats)\n",
    "    return np.apply_along_axis(getRotMat, axis=1, arr=rotAnglesXYZ)\n",
    "\n",
    "def alignPointsByRigidRegistration(pRef, pMov, step, max_step, tolerance=1e-4, max_iter=100):\n",
    "    \"\"\"对两组点云缩放刚性配准，以点数较少的为参照，获取刚性对齐的具有相同数量的移动点云\"\"\"\n",
    "    # X = zeroCentered(pRef)\n",
    "    # Y = zeroCentered(pMov)\n",
    "    X = pRef\n",
    "    Y = pMov\n",
    "    # reg =pycpd.RigidRegistration(**{'X': X, 'Y': Y, 'max_iterations':max_iter,'tolerance':tolerance})\n",
    "    reg = cycpd.rigid_registration(**{'X': X, 'Y': Y, 'max_iterations':max_iter,'tolerance':tolerance,'verbose':False,'print_reg_params':False})\n",
    "    TY,(s,r,t) = reg.register()\n",
    "    # 第二次自由形变配准用于得到更加准确的对应点对\n",
    "    reg2 = cycpd.deformable_registration(**{'X': X, 'Y': TY, 'max_iterations':50,'tolerance':tolerance,'verbose':False,'print_reg_params':False})\n",
    "    __deformedTY,(__G, __W) = reg2.register()\n",
    "    pointPairs = getCorrePointPairs(reg2.P)\n",
    "    correTY = extractCorreMovPoints(TY, pointPairs)\n",
    "    correY = extractCorreMovPoints(Y, pointPairs)\n",
    "    print(\"---------- Finish {}/{} ----------\".format(step, max_step))\n",
    "    return correY, correTY, TY, (s,r,t)\n",
    "\n",
    "def normalizePointArray(X, scale, meanCentroid, rotMat=np.identity(3)):\n",
    "    xCentroid = X.mean(axis=0)\n",
    "    # scale = np.linalg.norm(X-xCentroid, axis=1, ord=2).mean()\n",
    "    return (X-xCentroid)*scale @ rotMat + meanCentroid\n",
    "\n",
    "def alignToothPointGroups(initRefPG, trainPointGroups, max_global_iter=5, eps=1e-2):\n",
    "    \"\"\"取数量最少的牙齿点云为参照，进行所有牙齿点云的配准，获取配准后的点云点数量一致的所有牙齿点云\"\"\"\n",
    "    assert max_global_iter > 1\n",
    "    centroids = [x.mean(axis=0) for x in trainPointGroups]\n",
    "    meanCentroid = np.vstack(centroids).mean(axis=0)\n",
    "    pRef = initRefPG.copy()\n",
    "    pRef = normalizePointArray(pRef, 1., meanCentroid)\n",
    "    \n",
    "    tempCorrePointGroups = []\n",
    "    alignedPointGroups = []\n",
    "    pGroupNum = len(trainPointGroups)\n",
    "    prevRef = pRef.copy()\n",
    "\n",
    "    for it in range(max_global_iter-1):\n",
    "        print(\"Start iteration {}/{}\".format(it+1,max_global_iter))\n",
    "        scales = []\n",
    "        rotMatrices = []\n",
    "        tempCorrePointGroups = []\n",
    "        alignedPointGroups = []\n",
    "        for i,pMov in enumerate(trainPointGroups):\n",
    "            correY, correTY, TY, (s,r,t) = alignPointsByRigidRegistration(pRef, pMov, step=i+1, max_step=pGroupNum, tolerance=1e-4, max_iter=100) #alignedPMov：配准并下采样后得到的点云，TPMov：配准后得到的点云\n",
    "            scales.append(s)\n",
    "            rotMatrices.append(r)\n",
    "            tempCorrePointGroups.append(correY)\n",
    "            alignedPointGroups.append(correTY)\n",
    "\n",
    "        meanRotAngleXYZ = getRotAngles(rotMatrices).mean(axis=0)\n",
    "        meanRotMat = getRotMat(meanRotAngleXYZ)\n",
    "        pRef = np.array(alignedPointGroups).mean(axis=0) #不是第一次配准，采用先前配准的各组点云对应点的中心作为参照\n",
    "        pRef = normalizePointArray(pRef, 1./np.array(scales).mean(), meanCentroid, meanRotMat.T) # 调整目标点云的尺寸大小，使得scales均值为1，重心为所有点云重心的中心\n",
    "        diff = np.linalg.norm(pRef-prevRef,ord=\"fro\")\n",
    "        relativeDiff = diff/np.linalg.norm(pRef-pRef.mean(axis=0),ord=\"fro\")\n",
    "        print(\"Finish iteration {}/{}\".format(it+1,max_global_iter))\n",
    "        print(\"difference between the frobenius norms of centroids: \", diff)\n",
    "        print(\"relative difference between the frobenius norms of centroids: \", relativeDiff)\n",
    "        if relativeDiff < eps:\n",
    "            print(\"Finish preliminary CPD registration; Start registering sampled point groups.\")\n",
    "            break\n",
    "        prevRef = pRef.copy()\n",
    "\n",
    "    # 最后一次CPD配准，将前一次下采样的得到的点云alignedPointGroups直接进行配准\n",
    "    print(\"Start final iteration.\")\n",
    "    params = []\n",
    "    alignedPointGroups = []\n",
    "    for i,pMov in enumerate(tempCorrePointGroups):\n",
    "        correY, correTY, TY, (s,r,t) = alignPointsByRigidRegistration(pRef, pMov, step=i+1, max_step=pGroupNum, tolerance=1e-4, max_iter=100) #alignedPMov：配准并下采样后得到的点云，TPMov：配准后得到的点云\n",
    "        alignedPointGroups.append(correTY)\n",
    "        params.append((s,r,t))\n",
    "\n",
    "    return alignedPointGroups, params"
   ]
  },
  {
   "cell_type": "code",
   "execution_count": 11,
   "id": "5e6c47fa-fb4c-4d81-994d-7b9808c8c0f9",
   "metadata": {
    "scrolled": true,
    "tags": []
   },
   "outputs": [],
   "source": [
    "# 单线程测试；多线程见py文件\n",
    "# alignedPointGroups, sRtParams = alignToothPointGroups(initRefPG, trainPointGroups[:4], max_global_iter=3, eps=1e-3)"
   ]
  },
  {
   "cell_type": "markdown",
   "id": "b512db4c-4100-48f7-829f-4017df15a332",
   "metadata": {
    "jp-MarkdownHeadingCollapsed": true,
    "tags": []
   },
   "source": [
    "## registration params"
   ]
  },
  {
   "cell_type": "code",
   "execution_count": 42,
   "id": "6c1b9837-4033-46c5-a061-1491e15ac227",
   "metadata": {},
   "outputs": [
    {
     "name": "stdout",
     "output_type": "stream",
     "text": [
      "Tooth Index:  16\n",
      "mean scale: 0.9959104191923305\n",
      "max scale: 1.148317501729151\n",
      "min scale: 0.8938231394125712\n",
      "Std dev of scale: 0.052423487984530455\n",
      "mean rotation XYZ angles:  [-0.00089376  0.00055771 -0.00023082]\n",
      "max rotation XYZ angles:  [0.2148112  0.20528895 0.3231796 ]\n",
      "min rotation XYZ angles:  [-0.14809696 -0.32971652 -0.23801748]\n",
      "Std dev of rotation XYZ angles:  [0.05917728 0.09657471 0.09953414]\n",
      "mean translation vec: [-0.28422273 -0.00199368 -0.16364056]\n",
      "max translation vec: [4.66607503 6.96705573 6.82969988]\n",
      "min translation vec: [-5.44122143 -5.97183771 -5.46730188]\n",
      "Std dev of translation vec: [1.95038287 2.44138882 2.20080143]\n"
     ]
    }
   ],
   "source": [
    "# scaleFactors = [param[0] for param in sRtParams]\n",
    "# rotMatrices = [param[1] for param in sRtParams]\n",
    "# rotAnglesXYZ = getRotAngles(rotMatrices)\n",
    "# translationVectors = np.vstack([param[2] for param in sRtParams])\n",
    "\n",
    "# toothIndex 已定义\n",
    "print(\"Tooth Index: \",toothIndex)\n",
    "tags, scaleFactors, rotMatrices, translationVectors = readRegistrationParamsFromHDF5(r\"./data/params/sRtParams_{}.hdf5\".format(toothIndex), toothIndex)\n",
    "rotAnglesXYZ = getRotAngles(rotMatrices)\n",
    "\n",
    "print(\"mean scale:\",np.array(scaleFactors).mean())\n",
    "print(\"max scale:\",np.array(scaleFactors).max())\n",
    "print(\"min scale:\",np.array(scaleFactors).min())\n",
    "print(\"Std dev of scale:\",np.sqrt(np.var(np.array(scaleFactors))))\n",
    "\n",
    "print(\"mean rotation XYZ angles: \",rotAnglesXYZ.mean(axis=0))\n",
    "print(\"max rotation XYZ angles: \",rotAnglesXYZ.max(axis=0))\n",
    "print(\"min rotation XYZ angles: \",rotAnglesXYZ.min(axis=0))\n",
    "print(\"Std dev of rotation XYZ angles: \",np.sqrt(np.var(rotAnglesXYZ, axis=0)))\n",
    "\n",
    "print(\"mean translation vec:\",translationVectors.mean(axis=0))\n",
    "print(\"max translation vec:\",translationVectors.max(axis=0))\n",
    "print(\"min translation vec:\",translationVectors.min(axis=0))\n",
    "print(\"Std dev of translation vec:\",np.sqrt(np.var(translationVectors, axis=0)))"
   ]
  },
  {
   "cell_type": "code",
   "execution_count": 8,
   "id": "76f3942d-acd6-444e-9f2e-2098c6c120dc",
   "metadata": {
    "scrolled": true,
    "tags": []
   },
   "outputs": [],
   "source": [
    "def visualizeRotMatrices(rotMatrices, meanRotMat):\n",
    "    # 适用于右乘旋转绝阵\n",
    "    xs = rotMatrices[:,:,0]\n",
    "    ys = rotMatrices[:,:,1]\n",
    "    zs = rotMatrices[:,:,2]\n",
    "    pcd_mean = o3d.geometry.PointCloud()\n",
    "    pcd_mean.points = o3d.utility.Vector3dVector(meanRotMat.T)\n",
    "    pcd_mean.paint_uniform_color(np.array([0.9,0.9,0.]))\n",
    "    pcd_x = o3d.geometry.PointCloud()\n",
    "    pcd_x.points = o3d.utility.Vector3dVector(xs)\n",
    "    pcd_x.paint_uniform_color(np.array([1.,0.,0.]))\n",
    "    pcd_y = o3d.geometry.PointCloud()\n",
    "    pcd_y.points = o3d.utility.Vector3dVector(ys)\n",
    "    pcd_y.paint_uniform_color(np.array([0.,1.,0.]))\n",
    "    pcd_z = o3d.geometry.PointCloud()\n",
    "    pcd_z.points = o3d.utility.Vector3dVector(zs)\n",
    "    pcd_z.paint_uniform_color(np.array([0.,0.,1.]))\n",
    "    pcd_o = o3d.geometry.PointCloud()\n",
    "    pcd_o.points = o3d.utility.Vector3dVector(np.array([[0.,0.,0.]]))\n",
    "    pcd_o.paint_uniform_color(np.array([0.,0.,0.]))\n",
    "    o3d.visualization.draw_geometries([pcd_x,pcd_y,pcd_z,pcd_o,pcd_mean], window_name=\"visualization of rotation matrices\", width=800, height=600, left=50,top=50, point_show_normal=False)\n",
    "\n",
    "\n",
    "\n",
    "def visualizeTranslationVectors(transVecs):\n",
    "    x = -transVecs\n",
    "    pcd_x = o3d.geometry.PointCloud()\n",
    "    pcd_x.points = o3d.utility.Vector3dVector(x)\n",
    "    pcd_x.paint_uniform_color(np.array([1.,0.,0.]))\n",
    "    pcd_o = o3d.geometry.PointCloud()\n",
    "    pcd_o.points = o3d.utility.Vector3dVector(np.array([[0.,0.,0.]]))\n",
    "    pcd_o.paint_uniform_color(np.array([0.,0.,0.]))\n",
    "    o3d.visualization.draw_geometries([pcd_x,pcd_o], window_name=\"visualization of translation vectors\", width=800, height=600, left=50,top=50, point_show_normal=False)\n",
    "    \n",
    "# visualizeTranslationVectors(translationVectors)"
   ]
  },
  {
   "cell_type": "code",
   "execution_count": 17,
   "id": "147440d3-14d7-452f-b0e5-4ba24617373f",
   "metadata": {},
   "outputs": [],
   "source": [
    "meanRotMat = getRotMat(rotAnglesXYZ.mean(axis=0))\n",
    "visualizeRotMatrices(rotMatrices,meanRotMat)"
   ]
  },
  {
   "cell_type": "code",
   "execution_count": 12,
   "id": "1236242b-b30b-4361-9358-512bad7d64d9",
   "metadata": {},
   "outputs": [
    {
     "data": {
      "image/png": "[encoded data removed]",
      "text/plain": [
       "<Figure size 1080x1080 with 7 Axes>"
      ]
     },
     "metadata": {
      "needs_background": "light"
     },
     "output_type": "display_data"
    }
   ],
   "source": [
    "bins = 30\n",
    "plt.figure(figsize=(15, 15))\n",
    "plt.subplot(331)\n",
    "plt.hist(translationVectors[:,0], bins=bins)\n",
    "plt.title(\"translation vector: x\")\n",
    "plt.subplot(332)\n",
    "plt.hist(translationVectors[:,1], bins=bins)\n",
    "plt.title(\"translation vector: y\")\n",
    "plt.subplot(333)\n",
    "plt.hist(translationVectors[:,2], bins=bins)\n",
    "plt.title(\"translation vector: z\")\n",
    "plt.subplot(334)\n",
    "plt.hist(rotAnglesXYZ[:,0], bins=bins)\n",
    "plt.title(\"rotation angle: rx\")\n",
    "plt.subplot(335)\n",
    "plt.hist(rotAnglesXYZ[:,1], bins=bins)\n",
    "plt.title(\"rotation angle: ry\")\n",
    "plt.subplot(336)\n",
    "plt.hist(rotAnglesXYZ[:,2], bins=bins)\n",
    "plt.title(\"rotation angle: rz\")\n",
    "plt.subplot(337)\n",
    "plt.hist(scaleFactors, bins=bins)\n",
    "plt.title(\"scale factors: s\")\n",
    "plt.show()"
   ]
  },
  {
   "cell_type": "markdown",
   "id": "005d6de6-486d-45f2-b528-7188305316bb",
   "metadata": {
    "tags": []
   },
   "source": [
    "## SSM PCA\n",
    "$S^T = [S_1, S_2, \\cdots, S_M] \\quad D_i \\in \\mathbb{R}^{3N}$ with $N$ the number of points in each point cloud; $M<<N$\n",
    "\n",
    "$S \\in \\mathbb{R}^{M \\times 3N}$\n",
    "\n",
    "$\\bar{S} = \\frac{1}{M} \\sum_{i=1}^{M} S_i$\n",
    "\n",
    "$D_i = S_i - \\bar{S}$\n",
    "\n",
    "$A^T = [D_1, D_2, \\cdots, D_M] \\quad D_i \\in \\mathbb{R}^{3N}$\n",
    "\n",
    "$CovMat = \\frac{1}{M-1} A^T A = P \\Sigma P^T$ \n",
    "\n",
    "$\\Sigma = diag(\\lambda_1,\\lambda_2,\\cdots,\\lambda_M,0,\\cdots,0)$\n",
    "\n",
    "直接对协方差矩阵正交分解计算量太大，求$EquCovMat = \\frac{1}{M-1} A A^T$的正交分解，这两个矩阵非零特征值相同，零特征值数量不同\n",
    "\n",
    "$\\frac{1}{M-1} A A^T = P' \\Sigma' P'^T ,\\quad \\Sigma' = diag(\\lambda_1,\\lambda_2,\\cdots,\\lambda_M)$\n",
    "\n",
    "$\\frac{1}{M-1} A^T A A^T P' = A^T P' \\Sigma'$\n",
    "\n",
    "故若$\\frac{1}{M-1} A^T A$的特征值$\\lambda_i(\\lambda_i>0)$对应的特征向量为$p_i$，则$\\frac{1}{M-1} A A^T$的特征值$\\lambda_i$对应的特征向量为$p_i'=A^T p_i$"
   ]
  },
  {
   "cell_type": "code",
   "execution_count": 5,
   "id": "1cf24842-3c19-47d3-91ea-d7bd8bf361be",
   "metadata": {},
   "outputs": [],
   "source": [
    "toothIndex = 11\n",
    "saveDir = r\"./data/cpdAlignedData/{}/\".format(toothIndex)\n",
    "# saveAlignedPointGroups2Txt(alignedPointGroups, trainPgTags, saveDir)\n",
    "alignedPointGroups, alignedPgIndices = loadAlignedPointGroupsWithIndex(saveDir)"
   ]
  },
  {
   "cell_type": "markdown",
   "id": "4238175e-31d3-48f6-9faa-2bbb3d0592c6",
   "metadata": {
    "jp-MarkdownHeadingCollapsed": true,
    "tags": []
   },
   "source": [
    "## PCA TEST"
   ]
  },
  {
   "cell_type": "code",
   "execution_count": 10,
   "id": "79755b46-57e1-4127-8c0f-684672c1cabe",
   "metadata": {},
   "outputs": [],
   "source": [
    "alignedPointVectors = np.array([pg.flatten() for pg in alignedPointGroups], dtype=np.float32)"
   ]
  },
  {
   "cell_type": "code",
   "execution_count": 11,
   "id": "d12ab44d-6775-4e95-bde7-6021c9fa6922",
   "metadata": {},
   "outputs": [
    {
     "data": {
      "text/plain": [
       "(126, 4500)"
      ]
     },
     "execution_count": 11,
     "metadata": {},
     "output_type": "execute_result"
    }
   ],
   "source": [
    "alignedPointVectors.shape # (sampleNum, 3*pointNum)"
   ]
  },
  {
   "cell_type": "code",
   "execution_count": 12,
   "id": "466dff25-3f9d-4981-86e2-7007a42b97d6",
   "metadata": {},
   "outputs": [],
   "source": [
    "meanTrainPointVector = alignedPointVectors.mean(axis=0)"
   ]
  },
  {
   "cell_type": "code",
   "execution_count": 13,
   "id": "87786c4b-854d-4279-bf71-63ac963a5216",
   "metadata": {},
   "outputs": [],
   "source": [
    "normalizedTrainPointVector = alignedPointVectors - meanTrainPointVector"
   ]
  },
  {
   "cell_type": "code",
   "execution_count": 14,
   "id": "389fec9f-f471-4574-bb2d-8b27dc2f79be",
   "metadata": {},
   "outputs": [
    {
     "name": "stdout",
     "output_type": "stream",
     "text": [
      "A.shape: (126, 4500)\n"
     ]
    }
   ],
   "source": [
    "A = normalizedTrainPointVector\n",
    "print(\"A.shape:\",A.shape)"
   ]
  },
  {
   "cell_type": "code",
   "execution_count": null,
   "id": "7988cfde-ba73-4ea9-ba3d-8820c3dd8b1e",
   "metadata": {},
   "outputs": [],
   "source": [
    "sampleNum = A.shape[0]\n",
    "_eigvals, _eigvecs = np.linalg.eig(1./(sampleNum-1) * A.T @ A) #计算量太大耗时长"
   ]
  },
  {
   "cell_type": "code",
   "execution_count": 30,
   "id": "b006f766-c28f-48b5-ac83-01ce5de5f625",
   "metadata": {},
   "outputs": [
    {
     "data": {
      "text/plain": [
       "(0.78492564+0j)"
      ]
     },
     "execution_count": 30,
     "metadata": {},
     "output_type": "execute_result"
    }
   ],
   "source": [
    "_eigvals = np.sort(_eigvals)[::-1]\n",
    "np.sum(_eigvals[:20])/np.sum(_eigvals[:sampleNum])"
   ]
  },
  {
   "cell_type": "code",
   "execution_count": 28,
   "id": "e0e5939b-2025-47a6-b0c4-237a835cc54f",
   "metadata": {},
   "outputs": [],
   "source": [
    "sampleNum = A.shape[0]\n",
    "convMat = 1./(sampleNum-1) * A.T @ A #需要对A.T @ A进行主成分分析\n",
    "equConvMat = 1./(sampleNum-1) * A @ A.T # A@A.T和A.T@A的特征值相同\n",
    "eigVal, equEigVec = np.linalg.eig(equConvMat) # equEigVec是A @ A.T的特征值"
   ]
  },
  {
   "cell_type": "code",
   "execution_count": 29,
   "id": "037b163f-8295-4b08-959c-a6159f05358d",
   "metadata": {},
   "outputs": [
    {
     "name": "stdout",
     "output_type": "stream",
     "text": [
      "Frobenius norm of reconstruction error of A @ A.T: 1.1489206e-05\n"
     ]
    }
   ],
   "source": [
    "reconsEquConvMat = equEigVec @ np.diag(eigVal) @ equEigVec.T\n",
    "error = reconsEquConvMat - equConvMat # A @ A.T  \n",
    "print(\"Frobenius norm of reconstruction error of A @ A.T:\",np.linalg.norm(error, \"fro\")) # Frobenius norm of reconstruction error of A @ A.T"
   ]
  },
  {
   "cell_type": "code",
   "execution_count": 30,
   "id": "c0b50278-b7ce-4704-8283-574fb8f5c22f",
   "metadata": {},
   "outputs": [
    {
     "data": {
      "text/plain": [
       "True"
      ]
     },
     "execution_count": 30,
     "metadata": {},
     "output_type": "execute_result"
    }
   ],
   "source": [
    "eigVal[eigVal<1e-4] = 0.0\n",
    "np.all(eigVal>=0) # A@A.T对称正定矩阵特征值全部大于0"
   ]
  },
  {
   "cell_type": "code",
   "execution_count": 31,
   "id": "778d2d3c-2ddd-4975-bb91-6bcdc4d2ad1b",
   "metadata": {},
   "outputs": [
    {
     "data": {
      "text/plain": [
       "array([17.21029   , 13.473804  ,  8.293841  ,  7.2862988 ,  4.9682674 ,\n",
       "        4.5765495 ,  4.117736  ,  3.2362869 ,  2.920376  ,  2.9624465 ,\n",
       "        2.714771  ,  2.3744817 ,  2.138684  ,  2.0617814 ,  1.9005506 ,\n",
       "        1.8798865 ,  1.6136558 ,  1.4938331 ,  1.440285  ,  0.        ,\n",
       "        1.3800483 ,  1.339684  ,  1.3023158 ,  1.2787029 ,  1.1728375 ,\n",
       "        1.1313709 ,  1.0880316 ,  1.0637218 ,  1.0276775 ,  1.0014961 ,\n",
       "        0.98074627,  0.9657277 ,  0.9071263 ,  0.9029471 ,  0.8736292 ,\n",
       "        0.8544115 ,  0.8144572 ,  0.7887128 ,  0.333607  ,  0.34634918,\n",
       "        0.761955  ,  0.7516734 ,  0.7355039 ,  0.36787373,  0.373207  ,\n",
       "        0.3856321 ,  0.39414373,  0.39804915,  0.70299673,  0.4125444 ,\n",
       "        0.6924514 ,  0.68570125,  0.682693  ,  0.67220074,  0.65755236,\n",
       "        0.43139988,  0.43376508,  0.4410415 ,  0.44911936,  0.46230873,\n",
       "        0.4674493 ,  0.4734855 ,  0.62982994,  0.62428975,  0.4851014 ,\n",
       "        0.49429885,  0.5038325 ,  0.61139226,  0.6062063 ,  0.59040296,\n",
       "        0.5853324 ,  0.5800086 ,  0.5192635 ,  0.5245608 ,  0.5355126 ,\n",
       "        0.5433149 ,  0.5556813 ,  0.562768  ], dtype=float32)"
      ]
     },
     "execution_count": 31,
     "metadata": {},
     "output_type": "execute_result"
    }
   ],
   "source": [
    "eigVal #有零说明原始数据中有重复"
   ]
  },
  {
   "cell_type": "code",
   "execution_count": 32,
   "id": "63afb033-cb72-4264-ae2b-74eaabb9c2b8",
   "metadata": {},
   "outputs": [
    {
     "data": {
      "text/plain": [
       "(4590, 78)"
      ]
     },
     "execution_count": 32,
     "metadata": {},
     "output_type": "execute_result"
    }
   ],
   "source": [
    "eigVec = A.T @ equEigVec \n",
    "eigVec = eigVec / np.linalg.norm(eigVec, axis=0) # 单位化 eigVec是A.T @ A的特征值\n",
    "eigVec.shape"
   ]
  },
  {
   "cell_type": "code",
   "execution_count": 33,
   "id": "2ad32b16-8190-4f53-8ae5-8e4f7441ffa0",
   "metadata": {},
   "outputs": [
    {
     "name": "stdout",
     "output_type": "stream",
     "text": [
      "Frobenius norm of reconstruction error of A.T @ A: 2.792315e-05\n"
     ]
    }
   ],
   "source": [
    "reconsConvMat = eigVec @ np.diag(eigVal) @ eigVec.T\n",
    "errorConvMat = reconsConvMat - convMat\n",
    "print(\"Frobenius norm of reconstruction error of A.T @ A:\",np.linalg.norm(errorConvMat, \"fro\")) # Frobenius norm of reconstruction error of A.T @ A"
   ]
  },
  {
   "cell_type": "code",
   "execution_count": 34,
   "id": "e50f303d-72b1-4e24-a61e-ce628f91db4f",
   "metadata": {},
   "outputs": [],
   "source": [
    "eigOrder = sorted(range(len(eigVal)), key=lambda x:eigVal[x], reverse=True) # eigVal从大到小的索引排序\n",
    "eigVal = eigVal[eigOrder]\n",
    "eigVec = eigVec[:,eigOrder]"
   ]
  },
  {
   "cell_type": "code",
   "execution_count": 35,
   "id": "547700cb-bf6a-49d5-b612-4120a20b054f",
   "metadata": {},
   "outputs": [
    {
     "data": {
      "text/plain": [
       "(4590, 78)"
      ]
     },
     "execution_count": 35,
     "metadata": {},
     "output_type": "execute_result"
    }
   ],
   "source": [
    "eigVec.shape"
   ]
  },
  {
   "cell_type": "code",
   "execution_count": 36,
   "id": "d1353cc4-ad24-4132-bceb-9e910a2c05f3",
   "metadata": {},
   "outputs": [
    {
     "data": {
      "text/plain": [
       "(78, 78)"
      ]
     },
     "execution_count": 36,
     "metadata": {},
     "output_type": "execute_result"
    }
   ],
   "source": [
    "equEigVec.shape"
   ]
  },
  {
   "cell_type": "code",
   "execution_count": 37,
   "id": "7d112405-fcb8-475d-ba15-0f7903558ce6",
   "metadata": {},
   "outputs": [],
   "source": [
    "# u, s, vh = np.linalg.svd(A) # 奇异值分解A: u是A@A.T的特征向量 s^2是A@A.T的特征值"
   ]
  },
  {
   "cell_type": "code",
   "execution_count": 38,
   "id": "67fa82fe-f81c-4cc0-9d64-7666bff6a232",
   "metadata": {},
   "outputs": [],
   "source": [
    "# error_svd = u @ np.diag(s**2) @ u.T - equConvMat\n",
    "# print(\"Frobenius norm of SVD reconstruction error of A @ A.T:\",np.linalg.norm(error_svd, \"fro\")) # Frobenius norm of SVD reconstruction error of A @ A.T"
   ]
  },
  {
   "cell_type": "code",
   "execution_count": 39,
   "id": "fd719bfd-7d30-4095-b334-ece80dc9528d",
   "metadata": {},
   "outputs": [],
   "source": [
    "# s**2 - eigVal # 奇异值^2 与 特征值的计算误差"
   ]
  },
  {
   "cell_type": "code",
   "execution_count": null,
   "id": "6c11cc9a-eea4-4e30-b557-5380e701304c",
   "metadata": {},
   "outputs": [],
   "source": [
    "numPC2Keep = 20\n",
    "featureVectors = A @ eigVec[:,:numPC2Keep]\n",
    "remainedInfoRatio(eigVal, numPC2Keep) # 保留前?个主成分"
   ]
  },
  {
   "cell_type": "code",
   "execution_count": 80,
   "id": "5c9974ab-26ad-4b23-8e37-72a3f2b5ce76",
   "metadata": {},
   "outputs": [],
   "source": [
    "# eigVec.T @ eigVec #单位矩阵"
   ]
  },
  {
   "cell_type": "code",
   "execution_count": 46,
   "id": "d073da2f-4868-4454-b81f-cfa37a5abfa3",
   "metadata": {},
   "outputs": [
    {
     "data": {
      "text/plain": [
       "(78, 50)"
      ]
     },
     "execution_count": 46,
     "metadata": {},
     "output_type": "execute_result"
    }
   ],
   "source": [
    "featureVectors.shape"
   ]
  },
  {
   "cell_type": "code",
   "execution_count": 47,
   "id": "7c878d31-1dbb-44b0-844b-2ac90ae63d46",
   "metadata": {},
   "outputs": [],
   "source": [
    "trainErrorAfterPCA = A - featureVectors @ eigVec[:,:numPC2Keep].T"
   ]
  },
  {
   "cell_type": "code",
   "execution_count": 48,
   "id": "6c46da87-6f53-4970-9ddc-5f83b2f5a519",
   "metadata": {},
   "outputs": [
    {
     "data": {
      "text/plain": [
       "(78, 4590)"
      ]
     },
     "execution_count": 48,
     "metadata": {},
     "output_type": "execute_result"
    }
   ],
   "source": [
    "trainErrorAfterPCA.shape"
   ]
  },
  {
   "cell_type": "code",
   "execution_count": 49,
   "id": "69af468c-5f5e-4886-bed1-b4171934ffdb",
   "metadata": {},
   "outputs": [
    {
     "data": {
      "text/plain": [
       "array([4.5373855 , 4.067312  , 4.9536004 , 1.9169651 , 2.1935298 ,\n",
       "       4.1330934 , 2.5862355 , 3.356179  , 3.8078196 , 2.8407016 ,\n",
       "       4.5057178 , 1.0725849 , 2.5961602 , 4.223796  , 3.8711038 ,\n",
       "       1.0476341 , 2.9455686 , 4.0087276 , 4.0778213 , 1.5395563 ,\n",
       "       2.1628075 , 4.8470488 , 4.79366   , 2.8698573 , 2.9125593 ,\n",
       "       4.8871    , 4.616288  , 4.987727  , 2.0032945 , 2.4764764 ,\n",
       "       4.112472  , 1.456289  , 4.663321  , 4.8866777 , 4.308562  ,\n",
       "       4.4416113 , 3.8360837 , 4.703391  , 4.550815  , 4.3307476 ,\n",
       "       3.685613  , 1.0372249 , 1.5690658 , 4.042269  , 0.62417483,\n",
       "       4.8260045 , 2.6198056 , 3.2714992 , 2.4200196 , 2.7154415 ,\n",
       "       3.2081254 , 4.98518   , 2.1262758 , 3.1160438 , 2.7171164 ,\n",
       "       3.337334  , 1.3503798 , 1.9772766 , 3.0582414 , 3.574003  ,\n",
       "       4.078317  , 0.44320405, 4.0071764 , 5.1112776 , 3.0641193 ,\n",
       "       4.437794  , 2.2120557 , 3.7954173 , 1.7586478 , 5.2209725 ,\n",
       "       4.191918  , 4.8671618 , 1.2422935 , 4.9894967 , 2.3733273 ,\n",
       "       1.7758251 , 1.1672329 , 3.7158833 ], dtype=float32)"
      ]
     },
     "execution_count": 49,
     "metadata": {},
     "output_type": "execute_result"
    }
   ],
   "source": [
    "np.linalg.norm(trainErrorAfterPCA, axis=1)"
   ]
  },
  {
   "cell_type": "code",
   "execution_count": 50,
   "id": "2c3d25d0-2cb1-40d4-ae6c-b91b5f324fd8",
   "metadata": {},
   "outputs": [
    {
     "data": {
      "text/plain": [
       "array([0.00679821, 0.00609438, 0.00742154, 0.00287382, 0.00328678,\n",
       "       0.00619517, 0.00387474, 0.0050287 , 0.00570486, 0.00425639,\n",
       "       0.00675047, 0.00160834, 0.00389028, 0.00632869, 0.00580097,\n",
       "       0.00156954, 0.00441366, 0.00600575, 0.00611097, 0.00230699,\n",
       "       0.00324075, 0.0072635 , 0.00718295, 0.00430056, 0.00436377,\n",
       "       0.00732177, 0.00691711, 0.00747304, 0.00300303, 0.00370971,\n",
       "       0.00616229, 0.00218341, 0.00698627, 0.00732053, 0.00645515,\n",
       "       0.00665532, 0.00574824, 0.0070476 , 0.00681929, 0.00649001,\n",
       "       0.00552221, 0.00155387, 0.00235093, 0.0060567 , 0.00093739,\n",
       "       0.00723075, 0.00392544, 0.00490351, 0.00362743, 0.0040697 ,\n",
       "       0.00480724, 0.0074692 , 0.00318709, 0.00466861, 0.00407091,\n",
       "       0.00500014, 0.00202337, 0.00296267, 0.00458262, 0.00535515,\n",
       "       0.00611121, 0.00066497, 0.00600517, 0.00765841, 0.00459138,\n",
       "       0.00664861, 0.00331456, 0.00568834, 0.00263676, 0.00782295,\n",
       "       0.00627965, 0.00729105, 0.00186262, 0.00747513, 0.00355677,\n",
       "       0.00266146, 0.001751  , 0.00556794], dtype=float32)"
      ]
     },
     "execution_count": 50,
     "metadata": {},
     "output_type": "execute_result"
    }
   ],
   "source": [
    "np.linalg.norm(trainErrorAfterPCA, axis=1) / np.linalg.norm(alignedPointVectors, axis=1)"
   ]
  },
  {
   "cell_type": "markdown",
   "id": "fcf836b3-bd5f-4cdd-b2cd-9f567e676da6",
   "metadata": {
    "tags": []
   },
   "source": [
    "## Reconstruction"
   ]
  },
  {
   "cell_type": "code",
   "execution_count": null,
   "id": "86f39caa-48c6-4506-a194-76226ae50b9f",
   "metadata": {
    "jupyter": {
     "source_hidden": true
    },
    "tags": []
   },
   "outputs": [],
   "source": [
    "eigVal, eigVec, A, meanTrainPointVector = getEigValVecOfSSMByPCA(alignedPointGroups)\n",
    "numPC2Keep = 20\n",
    "featureVectors = A @ eigVec[:,:numPC2Keep]\n",
    "print(\"Num of PCA component used: {}, cumulative explained variance:{:.4f}%\".format(numPC2Keep,100*remainedInfoRatio(eigVal, numPC2Keep))) # 保留前?个主成分\n",
    "visualizeCompactnessOfSSM(eigVal)"
   ]
  },
  {
   "cell_type": "code",
   "execution_count": 3,
   "id": "3f0e1c2d-a072-4315-8b4f-1e8935f35025",
   "metadata": {
    "tags": []
   },
   "outputs": [],
   "source": [
    "toothIndex = 14\n",
    "saveDirGp = r\"./data/cpdGpAlignedData/{}/\".format(toothIndex)\n",
    "# saveAlignedPointGroups2Txt(alignedPointGroups, trainPgTags, saveDir)\n",
    "alignedPointGroups, alignedPgIndices = loadAlignedPointGroupsWithIndex(saveDirGp)"
   ]
  },
  {
   "cell_type": "code",
   "execution_count": 4,
   "id": "050547d3-ee56-4cb0-9c5a-2e68d12d3e4c",
   "metadata": {
    "tags": []
   },
   "outputs": [
    {
     "name": "stdout",
     "output_type": "stream",
     "text": [
      "Num of PCA component used: 10, cumulative explained variance:83.0922%\n"
     ]
    },
    {
     "data": {
      "image/png": "[encoded data removed]",
      "text/plain": [
       "<Figure size 576x432 with 1 Axes>"
      ]
     },
     "metadata": {
      "needs_background": "light"
     },
     "output_type": "display_data"
    }
   ],
   "source": [
    "eigVal, eigVec, A, meanTrainPointVector = getEigValVecOfSSMByPCA(alignedPointGroups)\n",
    "numPC2Keep = 10\n",
    "featureVectors = A @ eigVec[:,:numPC2Keep]\n",
    "print(\"Num of PCA component used: {}, cumulative explained variance:{:.4f}%\".format(numPC2Keep,100*remainedInfoRatio(eigVal, numPC2Keep))) # 保留前?个主成分\n",
    "visualizeCompactnessOfSSM(eigVal)"
   ]
  },
  {
   "cell_type": "code",
   "execution_count": 17,
   "id": "89d5a969-7d89-4690-914c-9fda53d05c9e",
   "metadata": {},
   "outputs": [],
   "source": [
    "def alignTestPointGroups(refPG, testPGs, tolerance=1e-4, max_iter=100):\n",
    "    testScales = []\n",
    "    testRotMats = []\n",
    "    testTransVecs = []\n",
    "    correTestPGs = []\n",
    "    correTransformedTestPGs = []\n",
    "    transformedTestPGs = []\n",
    "    refPG = refPG.astype(np.double)\n",
    "    for i,testPG in enumerate(testPGs):\n",
    "        correY, correTY, TY, (s,R,t) = alignPointsByRigidRegistration(refPG, testPG, step=i+1,max_step=len(testPGs), tolerance=tolerance, max_iter=max_iter)\n",
    "        testScales.append(s)\n",
    "        testRotMats.append(R)\n",
    "        testTransVecs.append(t)\n",
    "        correTestPGs.append(correY)\n",
    "        correTransformedTestPGs.append(correTY)\n",
    "        transformedTestPGs.append(TY)\n",
    "    return correTestPGs, correTransformedTestPGs, transformedTestPGs, testScales, testRotMats, testTransVecs"
   ]
  },
  {
   "cell_type": "code",
   "execution_count": 18,
   "id": "cae486ad-7b22-41ce-8c3e-92cb6d34bbc0",
   "metadata": {},
   "outputs": [
    {
     "name": "stdout",
     "output_type": "stream",
     "text": [
      "---------- Finish 1/9 ----------\n",
      "---------- Finish 2/9 ----------\n",
      "---------- Finish 3/9 ----------\n",
      "---------- Finish 4/9 ----------\n",
      "---------- Finish 5/9 ----------\n",
      "---------- Finish 6/9 ----------\n",
      "---------- Finish 7/9 ----------\n",
      "---------- Finish 8/9 ----------\n",
      "---------- Finish 9/9 ----------\n"
     ]
    }
   ],
   "source": [
    "testPGs = sortedTestPGs\n",
    "refPG = meanTrainPointVector.reshape(-1,3)\n",
    "# correTestPGs, correTransformedTestPGs, transformedTestPGs, testScales, testRotMats, testTransVecs = alignTestPointGroups(refPG, testPGs, tolerance=1e-4, max_iter=100)"
   ]
  },
  {
   "cell_type": "code",
   "execution_count": 19,
   "id": "b8ea0bf5-e8c5-483d-a159-b3f0ba7b301b",
   "metadata": {},
   "outputs": [],
   "source": [
    "# alignedTestVectors = np.array([pg.flatten() for pg in correTransformedTestPGs]) # shape=(testSampleNum, 3*pointNum)\n",
    "# normalizedTestPointVectors = alignedTestVectors - meanTrainPointVector\n",
    "# featureVecs = normalizedTestPointVectors @ eigVec[:,:numPC2Keep]"
   ]
  },
  {
   "cell_type": "code",
   "execution_count": 20,
   "id": "82adbf47-e599-4a07-a33f-fed1f564c9ff",
   "metadata": {},
   "outputs": [
    {
     "data": {
      "text/plain": [
       "(4500, 50)"
      ]
     },
     "execution_count": 20,
     "metadata": {},
     "output_type": "execute_result"
    }
   ],
   "source": [
    "eigVec[:,:numPC2Keep].shape"
   ]
  },
  {
   "cell_type": "code",
   "execution_count": null,
   "id": "53fcc3f2-8185-4323-b9b9-d60ca2e22474",
   "metadata": {},
   "outputs": [],
   "source": [
    "# reconstructAlignedTestPointVectors = (featureVecs @ eigVec[:,:numPC2Keep].T + meanTrainPointVector) #重建的缩放刚性变换得到的测试点云\n",
    "# reconstructAlignedTestPGs = [x.reshape(-1,3) for x in reconstructAlignedTestPointVectors] # 还需要inv平移，inv旋转，inv缩放\n",
    "# reconstructInitTestPGs = [1./s * (alignedTestPG - t) @ np.linalg.inv(R) for s,R,t,alignedTestPG in zip(testScales,testRotMats, testTransVecs, reconstructAlignedTestPGs)]#逆缩放刚性变换得到重建的原始的点云"
   ]
  },
  {
   "cell_type": "code",
   "execution_count": 44,
   "id": "a3d81e17-d99f-420b-8ddb-760a51d22ebf",
   "metadata": {},
   "outputs": [],
   "source": [
    "testSavePath = os.path.join(saveDir,\"test\")\n",
    "if not os.path.exists(testSavePath):\n",
    "    os.makedirs(testSavePath)"
   ]
  },
  {
   "cell_type": "code",
   "execution_count": 45,
   "id": "ec8df01d-e488-4167-9192-ee60f6a00692",
   "metadata": {},
   "outputs": [],
   "source": [
    "savedTestPGFiles = [os.path.join(testSavePath, tag+\".txt\") for tag in sortedTestTags] # 读取保存的重建的测试点云\n",
    "reconstructInitTestPGs = [np.loadtxt(f) for f in savedTestPGFiles]\n",
    "savedCorreInitTestPGFiles = [os.path.join(testSavePath, \"corre_init_{}.txt\".format(tag)) for tag in sortedTestTags] # 读取原始的测试点云（下采样后的）\n",
    "correTestPGs = [np.loadtxt(f) for f in savedCorreInitTestPGFiles]"
   ]
  },
  {
   "cell_type": "code",
   "execution_count": 46,
   "id": "5130b5a0-0a17-48bc-bf32-c1efc207f95b",
   "metadata": {},
   "outputs": [
    {
     "name": "stdout",
     "output_type": "stream",
     "text": [
      "error:  [ 8.62421324  8.48483025  9.58357265  8.97988838  9.31688444  9.47594869\n",
      " 11.97105841]\n",
      "relative error:  [0.05011124 0.04671869 0.05258071 0.04731998 0.05051747 0.04936262\n",
      " 0.05848453]\n"
     ]
    }
   ],
   "source": [
    "testErrors = np.array([(x-xPred).flatten() for x,xPred in zip(correTestPGs,reconstructInitTestPGs)])\n",
    "initCenteredTestPointVectors = np.array([(x-x.mean(axis=0)).flatten() for x in correTestPGs])\n",
    "print(\"error: \", np.linalg.norm(testErrors, axis=1, ord=2))\n",
    "print(\"relative error: \", np.linalg.norm(testErrors, axis=1, ord=2) / np.linalg.norm(initCenteredTestPointVectors, axis=1, ord=2))"
   ]
  },
  {
   "cell_type": "code",
   "execution_count": 47,
   "id": "8a3aeab8-cace-423d-bce8-f15cca5b9db2",
   "metadata": {},
   "outputs": [
    {
     "name": "stdout",
     "output_type": "stream",
     "text": [
      "Mean Corresponding Point Distance: 0.2224 mm\n",
      "Max Corresponding Point Distance: 1.1131 mm\n",
      "Min Corresponding Point Distance: 0.0078 mm\n"
     ]
    },
    {
     "data": {
      "image/png": "[encoded data removed]",
      "text/plain": [
       "<Figure size 432x288 with 1 Axes>"
      ]
     },
     "metadata": {
      "needs_background": "light"
     },
     "output_type": "display_data"
    }
   ],
   "source": [
    "pointErrors = np.array([x-xPred for x,xPred in zip(correTestPGs,reconstructInitTestPGs)])\n",
    "pointDists = np.linalg.norm(pointErrors, axis=2, ord=2)\n",
    "\n",
    "print(\"Mean Corresponding Point Distance: {:.4f} mm\".format(pointDists.mean()))\n",
    "print(\"Max Corresponding Point Distance: {:.4f} mm\".format(pointDists.max()))\n",
    "print(\"Min Corresponding Point Distance: {:.4f} mm\".format(pointDists.min()))\n",
    "\n",
    "plt.hist(pointDists.flatten(), bins=100)\n",
    "plt.title(\"Distribution of corresponding point distance (RMSE)\")\n",
    "plt.show()"
   ]
  },
  {
   "cell_type": "code",
   "execution_count": 48,
   "id": "bfbb1ec5-f5b7-4a96-a090-6f3bb885f539",
   "metadata": {},
   "outputs": [
    {
     "name": "stdout",
     "output_type": "stream",
     "text": [
      "Mean Corresponding Point Relative Distance: 0.0511 \n",
      "Max Corresponding Point Relative Distance: 0.4394 \n",
      "Min Corresponding Point Relative Distance: 0.0013 \n"
     ]
    }
   ],
   "source": [
    "initCenteredTestPGs = np.array([x-x.mean(axis=0) for x in correTestPGs])\n",
    "point2CentroidDists = np.linalg.norm(initCenteredTestPGs, axis=2, ord=2)\n",
    "relPointDists = pointDists / point2CentroidDists\n",
    "print(\"Mean Corresponding Point Relative Distance: {:.4f} \".format(relPointDists.mean()))\n",
    "print(\"Max Corresponding Point Relative Distance: {:.4f} \".format(relPointDists.max()))\n",
    "print(\"Min Corresponding Point Relative Distance: {:.4f} \".format(relPointDists.min()))"
   ]
  },
  {
   "cell_type": "code",
   "execution_count": 23,
   "id": "cd917e6e-e757-4d21-9280-3d28fe95ba09",
   "metadata": {},
   "outputs": [],
   "source": [
    "# # 保存重建的测试点云（按配准参数进行复位）\n",
    "# for testTag,pg in zip(sortedTestTags, reconstructInitTestPGs):\n",
    "#     np.savetxt(os.path.join(testSavePath,\"{}.txt\".format(testTag)), pg)"
   ]
  },
  {
   "cell_type": "markdown",
   "id": "2ba171aa-8ed1-4499-b912-9e779f2d8272",
   "metadata": {},
   "source": [
    "## Animation"
   ]
  },
  {
   "cell_type": "code",
   "execution_count": 17,
   "id": "aff91a4e-2606-4f9f-abae-6a827d8545fc",
   "metadata": {},
   "outputs": [],
   "source": [
    "def generateOnePCAnimationPointGroups(eigVec,eigVal,meanPointVector,pcIndex=0,animationSampleNum=100):\n",
    "    pc = eigVal[pcIndex]\n",
    "    pcFeatureVecs = np.linspace(-3.*np.sqrt(pc), 3.*np.sqrt(pc), animationSampleNum)\n",
    "    pcAnimationPointVectors = meanPointVector + np.multiply(pcFeatureVecs[:,None],eigVec[:,pcIndex])\n",
    "    pcAnimationPointGroups = [pcAnimationPointVectors[i,...].reshape(-1,3) for i in range(animationSampleNum)]\n",
    "    return pcAnimationPointGroups"
   ]
  },
  {
   "cell_type": "code",
   "execution_count": 18,
   "id": "8674ee1a-05d6-4696-bb36-3544a10e5d03",
   "metadata": {},
   "outputs": [],
   "source": [
    "def meshAnimation(meshes, window_name):\n",
    "    # 三角面片动画\n",
    "    vis = o3d.visualization.Visualizer()\n",
    "    #创建播放窗口\n",
    "    vis.create_window(window_name=window_name, width=800, height=600, left=50, top=50)\n",
    "    to_reset = True\n",
    "    # vis.get_render_option().mesh_show_wireframe = True\n",
    "    # vis.get_render_option().mesh_show_back_face = False\n",
    "    # vis.get_render_option().mesh_shade_option = o3d.visualization.MeshShadeOption.Color\n",
    "    # vis.get_render_option().light_on = True\n",
    "    tempMesh = o3d.geometry.TriangleMesh()\n",
    "    vis.add_geometry(tempMesh)\n",
    "    for msh in meshes:\n",
    "        tempMesh.vertices = msh.vertices\n",
    "        tempMesh.triangles = msh.triangles\n",
    "        tempMesh.vertex_normals = msh.vertex_normals\n",
    "        # tempMesh.triangle_normals = msh.triangle_normals\n",
    "        # tempMesh.textures = msh.textures\n",
    "        vis.update_geometry(tempMesh)\n",
    "        if to_reset:\n",
    "            vis.reset_view_point(True)\n",
    "            to_reset = False\n",
    "        vis.poll_events()\n",
    "        vis.update_renderer()\n",
    "        time.sleep(0.1)\n",
    "    vis.destroy_window()"
   ]
  },
  {
   "cell_type": "code",
   "execution_count": 19,
   "id": "2c8b18ae-20c3-4edb-85a2-60d4e0bbdaa5",
   "metadata": {},
   "outputs": [],
   "source": [
    "def pointCloudAnimation(pointGroups, window_name):\n",
    "    #点云动画\n",
    "    vis = o3d.visualization.Visualizer()\n",
    "    #创建播放窗口\n",
    "    vis.create_window(window_name=window_name, width=800, height=600, left=50, top=50)\n",
    "    pcd = o3d.geometry.PointCloud()\n",
    "    to_reset = True\n",
    "    vis.add_geometry(pcd)\n",
    "\n",
    "    for pg in pointGroups:\n",
    "        pcd.points = o3d.utility.Vector3dVector(pg)\n",
    "        vis.update_geometry(pcd)\n",
    "        if to_reset:\n",
    "            vis.reset_view_point(True)\n",
    "            to_reset = False\n",
    "        vis.poll_events()\n",
    "        vis.update_renderer()\n",
    "        time.sleep(0.1)\n",
    "\n",
    "    vis.destroy_window()"
   ]
  },
  {
   "cell_type": "code",
   "execution_count": 20,
   "id": "e7c19bab-85a6-4aed-b30b-c7eea21cd989",
   "metadata": {},
   "outputs": [],
   "source": [
    "pcIndexToAnimate = 0\n",
    "pcAnimationPointGroups = generateOnePCAnimationPointGroups(eigVec,eigVal,meanTrainPointVector,pcIndexToAnimate)"
   ]
  },
  {
   "cell_type": "code",
   "execution_count": 21,
   "id": "39f91cca-3a03-4d04-ae02-74ca3f001387",
   "metadata": {},
   "outputs": [],
   "source": [
    "#点云动画\n",
    "pointCloudAnimation(pcAnimationPointGroups, window_name=\"PC_{}\".format(pcIndexToAnimate))"
   ]
  },
  {
   "cell_type": "code",
   "execution_count": 169,
   "id": "4d8c0541-7ddd-44d2-b551-86cd5aec2149",
   "metadata": {},
   "outputs": [],
   "source": [
    "# 计算水密三角面片\n",
    "pcAnimationO3dMeshes = [surfaceVertices2WatertightO3dMesh(pcAnimationPointGroups[i], False) for i in range(animationSampleNum)]"
   ]
  },
  {
   "cell_type": "code",
   "execution_count": 170,
   "id": "f970767c-6e41-4e53-9a2d-ef9ce9bae0a8",
   "metadata": {},
   "outputs": [],
   "source": [
    "# 三角面片动画\n",
    "meshAnimation(pcAnimationO3dMeshes, window_name=\"PC_{}\".format(pcIndexToAnimate))"
   ]
  },
  {
   "cell_type": "markdown",
   "id": "2adff690-a8c2-42af-bc71-605652a3748e",
   "metadata": {},
   "source": [
    "## mode visualization"
   ]
  },
  {
   "cell_type": "code",
   "execution_count": 36,
   "id": "adec503c-4cea-45f2-afdd-2bd4342abad3",
   "metadata": {},
   "outputs": [],
   "source": [
    "mesh_mean = utils.surfaceVertices2WatertightO3dMesh(meanTrainPointVector.reshape(-1,3), False)\n",
    "utils.exportTriMeshObj(np.asarray(mesh_mean.vertices), np.asarray(mesh_mean.triangles), objFile=\"./mesh_mean.obj\".format(pcIndex+1))"
   ]
  },
  {
   "cell_type": "code",
   "execution_count": 33,
   "id": "00cd6c83-56f4-4545-adcc-49e83ddb217e",
   "metadata": {},
   "outputs": [],
   "source": [
    "pcIndex = 2\n",
    "pVec_left_drift_3sigma = meanTrainPointVector - 3 * np.sqrt(eigVal[pcIndex]) * eigVec[:,pcIndex]\n",
    "pVec_right_drift_3sigma = meanTrainPointVector + 3 * np.sqrt(eigVal[pcIndex]) * eigVec[:,pcIndex]"
   ]
  },
  {
   "cell_type": "code",
   "execution_count": 34,
   "id": "020070ff-3b15-46ed-a3aa-c7525697c1e1",
   "metadata": {},
   "outputs": [],
   "source": [
    "mesh_left_drift_3sigma = utils.surfaceVertices2WatertightO3dMesh(pVec_left_drift_3sigma.reshape(-1,3), False)\n",
    "mesh_right_drift_3sigma = utils.surfaceVertices2WatertightO3dMesh(pVec_right_drift_3sigma.reshape(-1,3), False)"
   ]
  },
  {
   "cell_type": "code",
   "execution_count": 35,
   "id": "04db8382-3b75-4c94-b923-6a04a704f8f7",
   "metadata": {},
   "outputs": [],
   "source": [
    "utils.exportTriMeshObj(np.asarray(mesh_left_drift_3sigma.vertices), np.asarray(mesh_left_drift_3sigma.triangles), objFile=\"./mode{}-3sigma.obj\".format(pcIndex+1))\n",
    "utils.exportTriMeshObj(np.asarray(mesh_right_drift_3sigma.vertices), np.asarray(mesh_right_drift_3sigma.triangles), objFile=\"./mode{}+3sigma.obj\".format(pcIndex+1))"
   ]
  },
  {
   "cell_type": "code",
   "execution_count": null,
   "id": "2b89d319-d149-4755-a8ab-141168158c47",
   "metadata": {},
   "outputs": [],
   "source": []
  }
 ],
 "metadata": {
  "kernelspec": {
   "display_name": "ssa",
   "language": "python",
   "name": "ssa"
  },
  "language_info": {
   "codemirror_mode": {
    "name": "ipython",
    "version": 3
   },
   "file_extension": ".py",
   "mimetype": "text/x-python",
   "name": "python",
   "nbconvert_exporter": "python",
   "pygments_lexer": "ipython3",
   "version": "3.8.13"
  }
 },
 "nbformat": 4,
 "nbformat_minor": 5
}
